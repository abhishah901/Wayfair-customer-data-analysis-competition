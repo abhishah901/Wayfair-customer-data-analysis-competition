{
 "cells": [
  {
   "cell_type": "code",
   "execution_count": 312,
   "metadata": {},
   "outputs": [],
   "source": [
    "# -- imports --\n",
    "import pandas as pd\n",
    "import matplotlib.pyplot as plt\n",
    "import numpy as np\n",
    "from sklearn.model_selection import train_test_split\n",
    "from sklearn.ensemble import RandomForestClassifier\n",
    "from sklearn.ensemble import RandomForestRegressor\n",
    "from sklearn.model_selection import cross_val_score\n",
    "from sklearn import ensemble\n",
    "from sklearn.metrics import accuracy_score\n",
    "from sklearn import svm\n",
    "from sklearn.discriminant_analysis import LinearDiscriminantAnalysis\n",
    "from sklearn.discriminant_analysis import QuadraticDiscriminantAnalysis\n",
    "from sklearn import linear_model\n",
    "from sklearn.linear_model import Ridge\n",
    "from sklearn.linear_model import RidgeCV\n",
    "from sklearn.metrics import mean_squared_error,mean_squared_log_error\n",
    "from sklearn.linear_model import LassoCV\n",
    "from sklearn.tree import DecisionTreeRegressor\n",
    "from sklearn.tree import DecisionTreeClassifier\n",
    "from math import sqrt\n",
    "from sklearn import preprocessing\n",
    "from sklearn.ensemble import GradientBoostingRegressor\n",
    "from sklearn.ensemble import AdaBoostRegressor"
   ]
  },
  {
   "cell_type": "code",
   "execution_count": null,
   "metadata": {},
   "outputs": [],
   "source": [
    "%matplotlib inline"
   ]
  },
  {
   "cell_type": "code",
   "execution_count": 2,
   "metadata": {},
   "outputs": [],
   "source": [
    "raw_data = pd.read_csv(\"df_training_scholarjet.csv\")"
   ]
  },
  {
   "cell_type": "code",
   "execution_count": 3,
   "metadata": {},
   "outputs": [
    {
     "data": {
      "text/plain": [
       "(28126, 184)"
      ]
     },
     "execution_count": 3,
     "metadata": {},
     "output_type": "execute_result"
    }
   ],
   "source": [
    "raw_data.shape"
   ]
  },
  {
   "cell_type": "code",
   "execution_count": 4,
   "metadata": {
    "scrolled": false
   },
   "outputs": [
    {
     "data": {
      "text/html": [
       "<div>\n",
       "<style scoped>\n",
       "    .dataframe tbody tr th:only-of-type {\n",
       "        vertical-align: middle;\n",
       "    }\n",
       "\n",
       "    .dataframe tbody tr th {\n",
       "        vertical-align: top;\n",
       "    }\n",
       "\n",
       "    .dataframe thead th {\n",
       "        text-align: right;\n",
       "    }\n",
       "</style>\n",
       "<table border=\"1\" class=\"dataframe\">\n",
       "  <thead>\n",
       "    <tr style=\"text-align: right;\">\n",
       "      <th></th>\n",
       "      <th>Unnamed: 0</th>\n",
       "      <th>cuid</th>\n",
       "      <th>convert_30</th>\n",
       "      <th>revenue_30</th>\n",
       "      <th>numorderone</th>\n",
       "      <th>numorderthreeone</th>\n",
       "      <th>numorderseventhree</th>\n",
       "      <th>numorderthirtyseven</th>\n",
       "      <th>numordersixtythirty</th>\n",
       "      <th>numorderyearsixty</th>\n",
       "      <th>...</th>\n",
       "      <th>percemailopenedyearsixty</th>\n",
       "      <th>percemailclickedone</th>\n",
       "      <th>percemailclickedthreeone</th>\n",
       "      <th>percemailclickedseventhree</th>\n",
       "      <th>percemailclickedthirtyseven</th>\n",
       "      <th>percemailclickedsixtythirty</th>\n",
       "      <th>percemailclickedyearsixty</th>\n",
       "      <th>currentapplicability</th>\n",
       "      <th>numemaillist</th>\n",
       "      <th>dayssinceenrollment</th>\n",
       "    </tr>\n",
       "  </thead>\n",
       "  <tbody>\n",
       "    <tr>\n",
       "      <th>count</th>\n",
       "      <td>28126.000000</td>\n",
       "      <td>28126.000000</td>\n",
       "      <td>28126.000000</td>\n",
       "      <td>28126.000000</td>\n",
       "      <td>9702.000000</td>\n",
       "      <td>9702.000000</td>\n",
       "      <td>9702.000000</td>\n",
       "      <td>9702.000000</td>\n",
       "      <td>9702.000000</td>\n",
       "      <td>9702.000000</td>\n",
       "      <td>...</td>\n",
       "      <td>27209.000000</td>\n",
       "      <td>27209.000000</td>\n",
       "      <td>27209.000000</td>\n",
       "      <td>27209.000000</td>\n",
       "      <td>27209.000000</td>\n",
       "      <td>27209.000000</td>\n",
       "      <td>27209.000000</td>\n",
       "      <td>19962.000000</td>\n",
       "      <td>19962.000000</td>\n",
       "      <td>28126.000000</td>\n",
       "    </tr>\n",
       "    <tr>\n",
       "      <th>mean</th>\n",
       "      <td>26422.953459</td>\n",
       "      <td>265872.713859</td>\n",
       "      <td>0.104103</td>\n",
       "      <td>75.038997</td>\n",
       "      <td>0.022367</td>\n",
       "      <td>0.037827</td>\n",
       "      <td>0.078231</td>\n",
       "      <td>0.336425</td>\n",
       "      <td>0.337044</td>\n",
       "      <td>1.323954</td>\n",
       "      <td>...</td>\n",
       "      <td>0.191245</td>\n",
       "      <td>0.023872</td>\n",
       "      <td>0.026690</td>\n",
       "      <td>0.027600</td>\n",
       "      <td>0.035088</td>\n",
       "      <td>0.031887</td>\n",
       "      <td>0.043271</td>\n",
       "      <td>5.087619</td>\n",
       "      <td>1.332081</td>\n",
       "      <td>97.966579</td>\n",
       "    </tr>\n",
       "    <tr>\n",
       "      <th>std</th>\n",
       "      <td>12107.891765</td>\n",
       "      <td>152691.063013</td>\n",
       "      <td>0.305399</td>\n",
       "      <td>508.874716</td>\n",
       "      <td>0.153355</td>\n",
       "      <td>0.205360</td>\n",
       "      <td>0.298023</td>\n",
       "      <td>0.712727</td>\n",
       "      <td>0.814508</td>\n",
       "      <td>2.041241</td>\n",
       "      <td>...</td>\n",
       "      <td>0.266496</td>\n",
       "      <td>0.125896</td>\n",
       "      <td>0.110015</td>\n",
       "      <td>0.096451</td>\n",
       "      <td>0.088227</td>\n",
       "      <td>0.087654</td>\n",
       "      <td>0.089003</td>\n",
       "      <td>2.568379</td>\n",
       "      <td>0.618002</td>\n",
       "      <td>75.007616</td>\n",
       "    </tr>\n",
       "    <tr>\n",
       "      <th>min</th>\n",
       "      <td>1.000000</td>\n",
       "      <td>10.000000</td>\n",
       "      <td>0.000000</td>\n",
       "      <td>0.000000</td>\n",
       "      <td>0.000000</td>\n",
       "      <td>0.000000</td>\n",
       "      <td>0.000000</td>\n",
       "      <td>0.000000</td>\n",
       "      <td>0.000000</td>\n",
       "      <td>0.000000</td>\n",
       "      <td>...</td>\n",
       "      <td>0.000000</td>\n",
       "      <td>0.000000</td>\n",
       "      <td>0.000000</td>\n",
       "      <td>0.000000</td>\n",
       "      <td>0.000000</td>\n",
       "      <td>0.000000</td>\n",
       "      <td>0.000000</td>\n",
       "      <td>0.000000</td>\n",
       "      <td>1.000000</td>\n",
       "      <td>0.000000</td>\n",
       "    </tr>\n",
       "    <tr>\n",
       "      <th>25%</th>\n",
       "      <td>18075.500000</td>\n",
       "      <td>134457.500000</td>\n",
       "      <td>0.000000</td>\n",
       "      <td>0.000000</td>\n",
       "      <td>0.000000</td>\n",
       "      <td>0.000000</td>\n",
       "      <td>0.000000</td>\n",
       "      <td>0.000000</td>\n",
       "      <td>0.000000</td>\n",
       "      <td>0.000000</td>\n",
       "      <td>...</td>\n",
       "      <td>0.000000</td>\n",
       "      <td>0.000000</td>\n",
       "      <td>0.000000</td>\n",
       "      <td>0.000000</td>\n",
       "      <td>0.000000</td>\n",
       "      <td>0.000000</td>\n",
       "      <td>0.000000</td>\n",
       "      <td>3.000000</td>\n",
       "      <td>1.000000</td>\n",
       "      <td>25.000000</td>\n",
       "    </tr>\n",
       "    <tr>\n",
       "      <th>50%</th>\n",
       "      <td>29353.500000</td>\n",
       "      <td>264617.500000</td>\n",
       "      <td>0.000000</td>\n",
       "      <td>0.000000</td>\n",
       "      <td>0.000000</td>\n",
       "      <td>0.000000</td>\n",
       "      <td>0.000000</td>\n",
       "      <td>0.000000</td>\n",
       "      <td>0.000000</td>\n",
       "      <td>1.000000</td>\n",
       "      <td>...</td>\n",
       "      <td>0.068966</td>\n",
       "      <td>0.000000</td>\n",
       "      <td>0.000000</td>\n",
       "      <td>0.000000</td>\n",
       "      <td>0.000000</td>\n",
       "      <td>0.000000</td>\n",
       "      <td>0.010949</td>\n",
       "      <td>5.000000</td>\n",
       "      <td>1.000000</td>\n",
       "      <td>104.000000</td>\n",
       "    </tr>\n",
       "    <tr>\n",
       "      <th>75%</th>\n",
       "      <td>36384.750000</td>\n",
       "      <td>398016.500000</td>\n",
       "      <td>0.000000</td>\n",
       "      <td>0.000000</td>\n",
       "      <td>0.000000</td>\n",
       "      <td>0.000000</td>\n",
       "      <td>0.000000</td>\n",
       "      <td>1.000000</td>\n",
       "      <td>0.000000</td>\n",
       "      <td>2.000000</td>\n",
       "      <td>...</td>\n",
       "      <td>0.261905</td>\n",
       "      <td>0.000000</td>\n",
       "      <td>0.000000</td>\n",
       "      <td>0.000000</td>\n",
       "      <td>0.032258</td>\n",
       "      <td>0.025641</td>\n",
       "      <td>0.046693</td>\n",
       "      <td>7.000000</td>\n",
       "      <td>2.000000</td>\n",
       "      <td>150.000000</td>\n",
       "    </tr>\n",
       "    <tr>\n",
       "      <th>max</th>\n",
       "      <td>43416.000000</td>\n",
       "      <td>532166.000000</td>\n",
       "      <td>1.000000</td>\n",
       "      <td>34986.689900</td>\n",
       "      <td>3.000000</td>\n",
       "      <td>4.000000</td>\n",
       "      <td>5.000000</td>\n",
       "      <td>16.000000</td>\n",
       "      <td>18.000000</td>\n",
       "      <td>57.000000</td>\n",
       "      <td>...</td>\n",
       "      <td>1.000000</td>\n",
       "      <td>1.000000</td>\n",
       "      <td>1.000000</td>\n",
       "      <td>1.000000</td>\n",
       "      <td>1.000000</td>\n",
       "      <td>1.000000</td>\n",
       "      <td>1.000000</td>\n",
       "      <td>14.000000</td>\n",
       "      <td>5.000000</td>\n",
       "      <td>319.000000</td>\n",
       "    </tr>\n",
       "  </tbody>\n",
       "</table>\n",
       "<p>8 rows × 174 columns</p>\n",
       "</div>"
      ],
      "text/plain": [
       "         Unnamed: 0           cuid    convert_30    revenue_30  numorderone  \\\n",
       "count  28126.000000   28126.000000  28126.000000  28126.000000  9702.000000   \n",
       "mean   26422.953459  265872.713859      0.104103     75.038997     0.022367   \n",
       "std    12107.891765  152691.063013      0.305399    508.874716     0.153355   \n",
       "min        1.000000      10.000000      0.000000      0.000000     0.000000   \n",
       "25%    18075.500000  134457.500000      0.000000      0.000000     0.000000   \n",
       "50%    29353.500000  264617.500000      0.000000      0.000000     0.000000   \n",
       "75%    36384.750000  398016.500000      0.000000      0.000000     0.000000   \n",
       "max    43416.000000  532166.000000      1.000000  34986.689900     3.000000   \n",
       "\n",
       "       numorderthreeone  numorderseventhree  numorderthirtyseven  \\\n",
       "count       9702.000000         9702.000000          9702.000000   \n",
       "mean           0.037827            0.078231             0.336425   \n",
       "std            0.205360            0.298023             0.712727   \n",
       "min            0.000000            0.000000             0.000000   \n",
       "25%            0.000000            0.000000             0.000000   \n",
       "50%            0.000000            0.000000             0.000000   \n",
       "75%            0.000000            0.000000             1.000000   \n",
       "max            4.000000            5.000000            16.000000   \n",
       "\n",
       "       numordersixtythirty  numorderyearsixty         ...           \\\n",
       "count          9702.000000        9702.000000         ...            \n",
       "mean              0.337044           1.323954         ...            \n",
       "std               0.814508           2.041241         ...            \n",
       "min               0.000000           0.000000         ...            \n",
       "25%               0.000000           0.000000         ...            \n",
       "50%               0.000000           1.000000         ...            \n",
       "75%               0.000000           2.000000         ...            \n",
       "max              18.000000          57.000000         ...            \n",
       "\n",
       "       percemailopenedyearsixty  percemailclickedone  \\\n",
       "count              27209.000000         27209.000000   \n",
       "mean                   0.191245             0.023872   \n",
       "std                    0.266496             0.125896   \n",
       "min                    0.000000             0.000000   \n",
       "25%                    0.000000             0.000000   \n",
       "50%                    0.068966             0.000000   \n",
       "75%                    0.261905             0.000000   \n",
       "max                    1.000000             1.000000   \n",
       "\n",
       "       percemailclickedthreeone  percemailclickedseventhree  \\\n",
       "count              27209.000000                27209.000000   \n",
       "mean                   0.026690                    0.027600   \n",
       "std                    0.110015                    0.096451   \n",
       "min                    0.000000                    0.000000   \n",
       "25%                    0.000000                    0.000000   \n",
       "50%                    0.000000                    0.000000   \n",
       "75%                    0.000000                    0.000000   \n",
       "max                    1.000000                    1.000000   \n",
       "\n",
       "       percemailclickedthirtyseven  percemailclickedsixtythirty  \\\n",
       "count                 27209.000000                 27209.000000   \n",
       "mean                      0.035088                     0.031887   \n",
       "std                       0.088227                     0.087654   \n",
       "min                       0.000000                     0.000000   \n",
       "25%                       0.000000                     0.000000   \n",
       "50%                       0.000000                     0.000000   \n",
       "75%                       0.032258                     0.025641   \n",
       "max                       1.000000                     1.000000   \n",
       "\n",
       "       percemailclickedyearsixty  currentapplicability  numemaillist  \\\n",
       "count               27209.000000          19962.000000  19962.000000   \n",
       "mean                    0.043271              5.087619      1.332081   \n",
       "std                     0.089003              2.568379      0.618002   \n",
       "min                     0.000000              0.000000      1.000000   \n",
       "25%                     0.000000              3.000000      1.000000   \n",
       "50%                     0.010949              5.000000      1.000000   \n",
       "75%                     0.046693              7.000000      2.000000   \n",
       "max                     1.000000             14.000000      5.000000   \n",
       "\n",
       "       dayssinceenrollment  \n",
       "count         28126.000000  \n",
       "mean             97.966579  \n",
       "std              75.007616  \n",
       "min               0.000000  \n",
       "25%              25.000000  \n",
       "50%             104.000000  \n",
       "75%             150.000000  \n",
       "max             319.000000  \n",
       "\n",
       "[8 rows x 174 columns]"
      ]
     },
     "execution_count": 4,
     "metadata": {},
     "output_type": "execute_result"
    }
   ],
   "source": [
    "raw_data.describe()"
   ]
  },
  {
   "cell_type": "code",
   "execution_count": 394,
   "metadata": {},
   "outputs": [
    {
     "data": {
      "text/html": [
       "<div>\n",
       "<style scoped>\n",
       "    .dataframe tbody tr th:only-of-type {\n",
       "        vertical-align: middle;\n",
       "    }\n",
       "\n",
       "    .dataframe tbody tr th {\n",
       "        vertical-align: top;\n",
       "    }\n",
       "\n",
       "    .dataframe thead th {\n",
       "        text-align: right;\n",
       "    }\n",
       "</style>\n",
       "<table border=\"1\" class=\"dataframe\">\n",
       "  <thead>\n",
       "    <tr style=\"text-align: right;\">\n",
       "      <th></th>\n",
       "      <th>Unnamed: 0</th>\n",
       "      <th>cuid</th>\n",
       "      <th>convert_30</th>\n",
       "      <th>revenue_30</th>\n",
       "      <th>roll_up</th>\n",
       "      <th>currentstatus</th>\n",
       "      <th>companytypegroup</th>\n",
       "      <th>team</th>\n",
       "      <th>customersource</th>\n",
       "      <th>accrole</th>\n",
       "      <th>...</th>\n",
       "      <th>percemailopenedyearsixty</th>\n",
       "      <th>percemailclickedone</th>\n",
       "      <th>percemailclickedthreeone</th>\n",
       "      <th>percemailclickedseventhree</th>\n",
       "      <th>percemailclickedthirtyseven</th>\n",
       "      <th>percemailclickedsixtythirty</th>\n",
       "      <th>percemailclickedyearsixty</th>\n",
       "      <th>currentapplicability</th>\n",
       "      <th>numemaillist</th>\n",
       "      <th>dayssinceenrollment</th>\n",
       "    </tr>\n",
       "  </thead>\n",
       "  <tbody>\n",
       "    <tr>\n",
       "      <th>0</th>\n",
       "      <td>1</td>\n",
       "      <td>20</td>\n",
       "      <td>0</td>\n",
       "      <td>0.0</td>\n",
       "      <td>Onboarding</td>\n",
       "      <td>Active</td>\n",
       "      <td>Business</td>\n",
       "      <td>US</td>\n",
       "      <td>External Application</td>\n",
       "      <td>None</td>\n",
       "      <td>...</td>\n",
       "      <td>0.000000</td>\n",
       "      <td>0.0</td>\n",
       "      <td>0.0</td>\n",
       "      <td>0.0</td>\n",
       "      <td>0.190476</td>\n",
       "      <td>0.000000</td>\n",
       "      <td>0.000000</td>\n",
       "      <td>3.000000</td>\n",
       "      <td>1.0</td>\n",
       "      <td>17</td>\n",
       "    </tr>\n",
       "    <tr>\n",
       "      <th>1</th>\n",
       "      <td>2</td>\n",
       "      <td>57</td>\n",
       "      <td>0</td>\n",
       "      <td>0.0</td>\n",
       "      <td>Onboarding</td>\n",
       "      <td>Active</td>\n",
       "      <td>Business</td>\n",
       "      <td>US</td>\n",
       "      <td>Internal Application</td>\n",
       "      <td>None</td>\n",
       "      <td>...</td>\n",
       "      <td>0.020000</td>\n",
       "      <td>0.0</td>\n",
       "      <td>0.0</td>\n",
       "      <td>0.0</td>\n",
       "      <td>0.040000</td>\n",
       "      <td>0.000000</td>\n",
       "      <td>0.020000</td>\n",
       "      <td>3.000000</td>\n",
       "      <td>1.0</td>\n",
       "      <td>70</td>\n",
       "    </tr>\n",
       "    <tr>\n",
       "      <th>2</th>\n",
       "      <td>3</td>\n",
       "      <td>163</td>\n",
       "      <td>0</td>\n",
       "      <td>0.0</td>\n",
       "      <td>Onboarding</td>\n",
       "      <td>Active</td>\n",
       "      <td>Business</td>\n",
       "      <td>US</td>\n",
       "      <td>Internal Application</td>\n",
       "      <td>None</td>\n",
       "      <td>...</td>\n",
       "      <td>0.106195</td>\n",
       "      <td>0.0</td>\n",
       "      <td>0.0</td>\n",
       "      <td>0.0</td>\n",
       "      <td>0.000000</td>\n",
       "      <td>0.000000</td>\n",
       "      <td>0.001770</td>\n",
       "      <td>13.000000</td>\n",
       "      <td>1.0</td>\n",
       "      <td>27</td>\n",
       "    </tr>\n",
       "    <tr>\n",
       "      <th>3</th>\n",
       "      <td>4</td>\n",
       "      <td>167</td>\n",
       "      <td>0</td>\n",
       "      <td>0.0</td>\n",
       "      <td>Onboarding</td>\n",
       "      <td>Enrolled</td>\n",
       "      <td>Business</td>\n",
       "      <td>US</td>\n",
       "      <td>Internal Customer Scrape</td>\n",
       "      <td>None</td>\n",
       "      <td>...</td>\n",
       "      <td>0.100000</td>\n",
       "      <td>0.0</td>\n",
       "      <td>0.0</td>\n",
       "      <td>0.0</td>\n",
       "      <td>0.000000</td>\n",
       "      <td>0.000000</td>\n",
       "      <td>0.100000</td>\n",
       "      <td>NaN</td>\n",
       "      <td>NaN</td>\n",
       "      <td>25</td>\n",
       "    </tr>\n",
       "    <tr>\n",
       "      <th>4</th>\n",
       "      <td>5</td>\n",
       "      <td>168</td>\n",
       "      <td>0</td>\n",
       "      <td>0.0</td>\n",
       "      <td>Onboarding</td>\n",
       "      <td>Enrolled</td>\n",
       "      <td>Business</td>\n",
       "      <td>US</td>\n",
       "      <td>Gateway</td>\n",
       "      <td>None</td>\n",
       "      <td>...</td>\n",
       "      <td>0.072072</td>\n",
       "      <td>0.0</td>\n",
       "      <td>0.0</td>\n",
       "      <td>0.0</td>\n",
       "      <td>0.009524</td>\n",
       "      <td>0.016807</td>\n",
       "      <td>0.003465</td>\n",
       "      <td>8.333333</td>\n",
       "      <td>3.0</td>\n",
       "      <td>33</td>\n",
       "    </tr>\n",
       "  </tbody>\n",
       "</table>\n",
       "<p>5 rows × 184 columns</p>\n",
       "</div>"
      ],
      "text/plain": [
       "   Unnamed: 0  cuid  convert_30  revenue_30     roll_up currentstatus  \\\n",
       "0           1    20           0         0.0  Onboarding        Active   \n",
       "1           2    57           0         0.0  Onboarding        Active   \n",
       "2           3   163           0         0.0  Onboarding        Active   \n",
       "3           4   167           0         0.0  Onboarding      Enrolled   \n",
       "4           5   168           0         0.0  Onboarding      Enrolled   \n",
       "\n",
       "  companytypegroup team            customersource accrole  \\\n",
       "0         Business   US      External Application    None   \n",
       "1         Business   US      Internal Application    None   \n",
       "2         Business   US      Internal Application    None   \n",
       "3         Business   US  Internal Customer Scrape    None   \n",
       "4         Business   US                   Gateway    None   \n",
       "\n",
       "          ...          percemailopenedyearsixty percemailclickedone  \\\n",
       "0         ...                          0.000000                 0.0   \n",
       "1         ...                          0.020000                 0.0   \n",
       "2         ...                          0.106195                 0.0   \n",
       "3         ...                          0.100000                 0.0   \n",
       "4         ...                          0.072072                 0.0   \n",
       "\n",
       "  percemailclickedthreeone percemailclickedseventhree  \\\n",
       "0                      0.0                        0.0   \n",
       "1                      0.0                        0.0   \n",
       "2                      0.0                        0.0   \n",
       "3                      0.0                        0.0   \n",
       "4                      0.0                        0.0   \n",
       "\n",
       "   percemailclickedthirtyseven  percemailclickedsixtythirty  \\\n",
       "0                     0.190476                     0.000000   \n",
       "1                     0.040000                     0.000000   \n",
       "2                     0.000000                     0.000000   \n",
       "3                     0.000000                     0.000000   \n",
       "4                     0.009524                     0.016807   \n",
       "\n",
       "   percemailclickedyearsixty  currentapplicability  numemaillist  \\\n",
       "0                   0.000000              3.000000           1.0   \n",
       "1                   0.020000              3.000000           1.0   \n",
       "2                   0.001770             13.000000           1.0   \n",
       "3                   0.100000                   NaN           NaN   \n",
       "4                   0.003465              8.333333           3.0   \n",
       "\n",
       "   dayssinceenrollment  \n",
       "0                   17  \n",
       "1                   70  \n",
       "2                   27  \n",
       "3                   25  \n",
       "4                   33  \n",
       "\n",
       "[5 rows x 184 columns]"
      ]
     },
     "execution_count": 394,
     "metadata": {},
     "output_type": "execute_result"
    }
   ],
   "source": [
    "raw_data.head()"
   ]
  },
  {
   "cell_type": "markdown",
   "metadata": {},
   "source": [
    "#### Imbalance in data is observed"
   ]
  },
  {
   "cell_type": "code",
   "execution_count": 546,
   "metadata": {},
   "outputs": [
    {
     "data": {
      "text/plain": [
       "0    25198\n",
       "1     2928\n",
       "Name: convert_30, dtype: int64"
      ]
     },
     "execution_count": 546,
     "metadata": {},
     "output_type": "execute_result"
    }
   ],
   "source": [
    "raw_data['convert_30'].value_counts()"
   ]
  },
  {
   "cell_type": "code",
   "execution_count": 400,
   "metadata": {},
   "outputs": [],
   "source": [
    "holdzero = raw_data['revenue_30'].loc[(raw_data['convert_30'] == 0)]"
   ]
  },
  {
   "cell_type": "code",
   "execution_count": 397,
   "metadata": {},
   "outputs": [
    {
     "data": {
      "text/plain": [
       "count    25198.0\n",
       "mean         0.0\n",
       "std          0.0\n",
       "min          0.0\n",
       "25%          0.0\n",
       "50%          0.0\n",
       "75%          0.0\n",
       "max          0.0\n",
       "Name: revenue_30, dtype: float64"
      ]
     },
     "execution_count": 397,
     "metadata": {},
     "output_type": "execute_result"
    }
   ],
   "source": [
    "holdzero.describe()"
   ]
  },
  {
   "cell_type": "code",
   "execution_count": 398,
   "metadata": {},
   "outputs": [
    {
     "data": {
      "text/plain": [
       "0    0.0\n",
       "1    0.0\n",
       "2    0.0\n",
       "3    0.0\n",
       "4    0.0\n",
       "Name: revenue_30, dtype: float64"
      ]
     },
     "execution_count": 398,
     "metadata": {},
     "output_type": "execute_result"
    }
   ],
   "source": [
    "holdzero.head()"
   ]
  },
  {
   "cell_type": "markdown",
   "metadata": {},
   "source": [
    "#### We observe that all the columns that are 0 in convert_30 have revenue_30 as 0 as well."
   ]
  },
  {
   "cell_type": "markdown",
   "metadata": {},
   "source": [
    "## Classification"
   ]
  },
  {
   "cell_type": "code",
   "execution_count": 5,
   "metadata": {},
   "outputs": [],
   "source": [
    "# -- first copy of data for classification\n",
    "classification_data = raw_data.drop(\"revenue_30\",1)"
   ]
  },
  {
   "cell_type": "code",
   "execution_count": 6,
   "metadata": {},
   "outputs": [
    {
     "data": {
      "text/plain": [
       "183"
      ]
     },
     "execution_count": 6,
     "metadata": {},
     "output_type": "execute_result"
    }
   ],
   "source": [
    "len(classification_data.columns)"
   ]
  },
  {
   "cell_type": "code",
   "execution_count": 9,
   "metadata": {},
   "outputs": [],
   "source": [
    "# -- top 20 correlations --\n",
    "top_correlation = raw_data.corr().abs().unstack().sort_values(kind = 'quicksort',ascending = False)"
   ]
  },
  {
   "cell_type": "code",
   "execution_count": 10,
   "metadata": {},
   "outputs": [
    {
     "data": {
      "text/plain": [
       "numloggedinthirtyseven  numloggedinthirtyseven    1.000000\n",
       "currentapplicability    currentapplicability      1.000000\n",
       "Unnamed: 0              Unnamed: 0                1.000000\n",
       "maxnps                  avgnps                    0.992998\n",
       "avgnps                  maxnps                    0.992998\n",
       "dtype: float64"
      ]
     },
     "execution_count": 10,
     "metadata": {},
     "output_type": "execute_result"
    }
   ],
   "source": [
    "# -- check the boundary till self correlation --\n",
    "top_correlation[160:165,]"
   ]
  },
  {
   "cell_type": "code",
   "execution_count": 11,
   "metadata": {},
   "outputs": [],
   "source": [
    "# remove self correlations\n",
    "top_correlation = top_correlation.iloc[163:]"
   ]
  },
  {
   "cell_type": "code",
   "execution_count": 12,
   "metadata": {},
   "outputs": [
    {
     "data": {
      "text/plain": [
       "maxnps                      avgnps                        0.992998\n",
       "avgnps                      maxnps                        0.992998\n",
       "                            minnps                        0.991839\n",
       "minnps                      avgnps                        0.991839\n",
       "maxnps                      minnps                        0.970484\n",
       "minnps                      maxnps                        0.970484\n",
       "numvisityearsixty           numvisittotal                 0.957601\n",
       "numvisittotal               numvisityearsixty             0.957601\n",
       "numtotalpageviewsyearsixty  numskusviewedyearsixty        0.957200\n",
       "numskusviewedyearsixty      numtotalpageviewsyearsixty    0.957200\n",
       "dtype: float64"
      ]
     },
     "execution_count": 12,
     "metadata": {},
     "output_type": "execute_result"
    }
   ],
   "source": [
    "# There is a lot of direct correlation within the data, which signifies the amount of redundant information\n",
    "top_correlation.head(10)"
   ]
  },
  {
   "cell_type": "code",
   "execution_count": 13,
   "metadata": {},
   "outputs": [],
   "source": [
    "# Empty value check\n",
    "empty = np.where(pd.isnull(raw_data))"
   ]
  },
  {
   "cell_type": "code",
   "execution_count": 14,
   "metadata": {},
   "outputs": [
    {
     "data": {
      "text/plain": [
       "1330168"
      ]
     },
     "execution_count": 14,
     "metadata": {},
     "output_type": "execute_result"
    }
   ],
   "source": [
    "# number of missing values\n",
    "len(empty[0])"
   ]
  },
  {
   "cell_type": "code",
   "execution_count": 16,
   "metadata": {},
   "outputs": [
    {
     "name": "stdout",
     "output_type": "stream",
     "text": [
      "167\n"
     ]
    }
   ],
   "source": [
    "# count the number of columns that have missing values\n",
    "y = np.bincount(empty[1])\n",
    "ii = np.nonzero(y)[0]\n",
    "hold = np.vstack((ii,y[ii])).T\n",
    "print(len(hold))"
   ]
  },
  {
   "cell_type": "code",
   "execution_count": 351,
   "metadata": {},
   "outputs": [
    {
     "name": "stdout",
     "output_type": "stream",
     "text": [
      "float64    168\n",
      "int64        6\n",
      "object      10\n",
      "dtype: int64\n"
     ]
    }
   ],
   "source": [
    "# -- total number of each type of datatype in the dataframe --\n",
    "hold_dtypes = raw_data.get_dtype_counts()\n",
    "\n",
    "print(hold_dtypes)"
   ]
  },
  {
   "cell_type": "code",
   "execution_count": 19,
   "metadata": {},
   "outputs": [],
   "source": [
    "# -- get non numeric columns --\n",
    "cols = raw_data.columns\n",
    "numeric = raw_data._get_numeric_data().columns\n",
    "hold_category_col_name = list(set(cols) - set(numeric))"
   ]
  },
  {
   "cell_type": "code",
   "execution_count": 20,
   "metadata": {},
   "outputs": [],
   "source": [
    "hold_category = raw_data[hold_category_col_name]"
   ]
  },
  {
   "cell_type": "code",
   "execution_count": 21,
   "metadata": {},
   "outputs": [
    {
     "name": "stdout",
     "output_type": "stream",
     "text": [
      "['num_employees', 'enrollmentmethod', 'customersource', 'accrole', 'currentstatus', 'num_purchases_year', 'team', 'cost_purchases_year', 'roll_up', 'companytypegroup']\n"
     ]
    }
   ],
   "source": [
    "print(hold_category_col_name)"
   ]
  },
  {
   "cell_type": "code",
   "execution_count": 22,
   "metadata": {},
   "outputs": [],
   "source": [
    "hold_category_unique_values = []\n",
    "for i in range(len(hold_category_col_name)):\n",
    "    hold_category_unique_values.append(hold_category[hold_category_col_name[i]].unique())"
   ]
  },
  {
   "cell_type": "code",
   "execution_count": 23,
   "metadata": {},
   "outputs": [
    {
     "name": "stdout",
     "output_type": "stream",
     "text": [
      "num_employees  :  ['50plus' '2to5' '1' '6to10' 'None' '11to50']\n",
      "enrollmentmethod  :  ['directEIN' 'email' 'other' 'phone' 'liveTransfer' 'directOther']\n",
      "customersource  :  ['External Application' 'Internal Application' 'Internal Customer Scrape'\n",
      " 'Gateway' 'Social - Paid' 'Search - Paid' 'Other' 'Quotes' 'Affiliates'\n",
      " 'Referral' 'Bulk Upload' 'Email' 'Display - Retargeting'\n",
      " 'Display - Acquisition' 'Self ID' 'Partners']\n",
      "accrole  :  ['None' 'Primary' 'Purchaser' 'Other']\n",
      "currentstatus  :  ['Active' 'Enrolled' 'In Progress' 'Unconfirmed']\n",
      "num_purchases_year  :  ['1to2' '25plus' '3to5' '11to25' 'None' '6to10']\n",
      "team  :  ['US' 'CA']\n",
      "cost_purchases_year  :  ['lessthan1' '25to100' '1to5' '5to25' 'None' '100plus']\n",
      "roll_up  :  ['Onboarding' 'Retention' 'Unmanaged']\n",
      "companytypegroup  :  ['Business' 'Trade']\n"
     ]
    }
   ],
   "source": [
    "# -- All unique values in non-numeric columns --\n",
    "for i in range(len(hold_category_unique_values)):\n",
    "    print(hold_category_col_name[i],\" : \",hold_category_unique_values[i])"
   ]
  },
  {
   "cell_type": "code",
   "execution_count": 24,
   "metadata": {},
   "outputs": [
    {
     "data": {
      "text/html": [
       "<div>\n",
       "<style scoped>\n",
       "    .dataframe tbody tr th:only-of-type {\n",
       "        vertical-align: middle;\n",
       "    }\n",
       "\n",
       "    .dataframe tbody tr th {\n",
       "        vertical-align: top;\n",
       "    }\n",
       "\n",
       "    .dataframe thead th {\n",
       "        text-align: right;\n",
       "    }\n",
       "</style>\n",
       "<table border=\"1\" class=\"dataframe\">\n",
       "  <thead>\n",
       "    <tr style=\"text-align: right;\">\n",
       "      <th></th>\n",
       "      <th>num_employees</th>\n",
       "      <th>enrollmentmethod</th>\n",
       "      <th>customersource</th>\n",
       "      <th>accrole</th>\n",
       "      <th>currentstatus</th>\n",
       "      <th>num_purchases_year</th>\n",
       "      <th>team</th>\n",
       "      <th>cost_purchases_year</th>\n",
       "      <th>roll_up</th>\n",
       "      <th>companytypegroup</th>\n",
       "    </tr>\n",
       "  </thead>\n",
       "  <tbody>\n",
       "    <tr>\n",
       "      <th>0</th>\n",
       "      <td>50plus</td>\n",
       "      <td>directEIN</td>\n",
       "      <td>External Application</td>\n",
       "      <td>None</td>\n",
       "      <td>Active</td>\n",
       "      <td>1to2</td>\n",
       "      <td>US</td>\n",
       "      <td>lessthan1</td>\n",
       "      <td>Onboarding</td>\n",
       "      <td>Business</td>\n",
       "    </tr>\n",
       "    <tr>\n",
       "      <th>1</th>\n",
       "      <td>2to5</td>\n",
       "      <td>directEIN</td>\n",
       "      <td>Internal Application</td>\n",
       "      <td>None</td>\n",
       "      <td>Active</td>\n",
       "      <td>25plus</td>\n",
       "      <td>US</td>\n",
       "      <td>25to100</td>\n",
       "      <td>Onboarding</td>\n",
       "      <td>Business</td>\n",
       "    </tr>\n",
       "    <tr>\n",
       "      <th>2</th>\n",
       "      <td>1</td>\n",
       "      <td>directEIN</td>\n",
       "      <td>Internal Application</td>\n",
       "      <td>None</td>\n",
       "      <td>Active</td>\n",
       "      <td>3to5</td>\n",
       "      <td>US</td>\n",
       "      <td>1to5</td>\n",
       "      <td>Onboarding</td>\n",
       "      <td>Business</td>\n",
       "    </tr>\n",
       "    <tr>\n",
       "      <th>3</th>\n",
       "      <td>50plus</td>\n",
       "      <td>directEIN</td>\n",
       "      <td>Internal Customer Scrape</td>\n",
       "      <td>None</td>\n",
       "      <td>Enrolled</td>\n",
       "      <td>3to5</td>\n",
       "      <td>US</td>\n",
       "      <td>lessthan1</td>\n",
       "      <td>Onboarding</td>\n",
       "      <td>Business</td>\n",
       "    </tr>\n",
       "    <tr>\n",
       "      <th>4</th>\n",
       "      <td>6to10</td>\n",
       "      <td>directEIN</td>\n",
       "      <td>Gateway</td>\n",
       "      <td>None</td>\n",
       "      <td>Enrolled</td>\n",
       "      <td>11to25</td>\n",
       "      <td>US</td>\n",
       "      <td>5to25</td>\n",
       "      <td>Onboarding</td>\n",
       "      <td>Business</td>\n",
       "    </tr>\n",
       "  </tbody>\n",
       "</table>\n",
       "</div>"
      ],
      "text/plain": [
       "  num_employees enrollmentmethod            customersource accrole  \\\n",
       "0        50plus        directEIN      External Application    None   \n",
       "1          2to5        directEIN      Internal Application    None   \n",
       "2             1        directEIN      Internal Application    None   \n",
       "3        50plus        directEIN  Internal Customer Scrape    None   \n",
       "4         6to10        directEIN                   Gateway    None   \n",
       "\n",
       "  currentstatus num_purchases_year team cost_purchases_year     roll_up  \\\n",
       "0        Active               1to2   US           lessthan1  Onboarding   \n",
       "1        Active             25plus   US             25to100  Onboarding   \n",
       "2        Active               3to5   US                1to5  Onboarding   \n",
       "3      Enrolled               3to5   US           lessthan1  Onboarding   \n",
       "4      Enrolled             11to25   US               5to25  Onboarding   \n",
       "\n",
       "  companytypegroup  \n",
       "0         Business  \n",
       "1         Business  \n",
       "2         Business  \n",
       "3         Business  \n",
       "4         Business  "
      ]
     },
     "execution_count": 24,
     "metadata": {},
     "output_type": "execute_result"
    }
   ],
   "source": [
    "raw_data[hold_category_col_name].head()"
   ]
  },
  {
   "cell_type": "code",
   "execution_count": 25,
   "metadata": {},
   "outputs": [
    {
     "data": {
      "text/plain": [
       "0    5\n",
       "1    2\n",
       "2    1\n",
       "3    5\n",
       "4    3\n",
       "Name: num_employees, dtype: int64"
      ]
     },
     "execution_count": 25,
     "metadata": {},
     "output_type": "execute_result"
    }
   ],
   "source": [
    "# -- Handle ordinal columns (num_employees)--\n",
    "classification_data.num_employees = classification_data.num_employees.replace({\"None\":0,\"1\":1,\"2to5\":2,\"6to10\":3,\"11to50\":4,\"50plus\":5})\n",
    "classification_data['num_employees'].head()"
   ]
  },
  {
   "cell_type": "code",
   "execution_count": 26,
   "metadata": {},
   "outputs": [
    {
     "data": {
      "text/plain": [
       "0    1\n",
       "1    5\n",
       "2    2\n",
       "3    2\n",
       "4    4\n",
       "Name: num_purchases_year, dtype: int64"
      ]
     },
     "execution_count": 26,
     "metadata": {},
     "output_type": "execute_result"
    }
   ],
   "source": [
    "# -- Handle ordinal columns (num_purchases_year)--\n",
    "classification_data.num_purchases_year = classification_data.num_purchases_year.replace({'1to2':1, '25plus':5, '3to5':2, '11to25':4, 'None':0, '6to10':3})\n",
    "classification_data['num_purchases_year'].head()"
   ]
  },
  {
   "cell_type": "code",
   "execution_count": 27,
   "metadata": {},
   "outputs": [
    {
     "data": {
      "text/plain": [
       "0    1\n",
       "1    4\n",
       "2    2\n",
       "3    1\n",
       "4    3\n",
       "Name: cost_purchases_year, dtype: int64"
      ]
     },
     "execution_count": 27,
     "metadata": {},
     "output_type": "execute_result"
    }
   ],
   "source": [
    "# -- Handle ordinal columns (cost_purchases_year)--\n",
    "classification_data.cost_purchases_year = classification_data.cost_purchases_year.replace({'lessthan1':1, '25to100':4, '1to5':2, '5to25':3, 'None':0, '100plus':5})\n",
    "classification_data['cost_purchases_year'].head()"
   ]
  },
  {
   "cell_type": "code",
   "execution_count": 28,
   "metadata": {},
   "outputs": [],
   "source": [
    "# -- remove pre-processed columns from features to be preprocessed --\n",
    "hold_category_col_name.remove('num_purchases_year')\n",
    "hold_category_col_name.remove('cost_purchases_year')\n",
    "hold_category_col_name.remove('num_employees')"
   ]
  },
  {
   "cell_type": "code",
   "execution_count": 29,
   "metadata": {},
   "outputs": [
    {
     "name": "stdout",
     "output_type": "stream",
     "text": [
      "enrollmentmethod  :  ['directEIN' 'email' 'other' 'phone' 'liveTransfer' 'directOther']\n",
      "customersource  :  ['External Application' 'Internal Application' 'Internal Customer Scrape'\n",
      " 'Gateway' 'Social - Paid' 'Search - Paid' 'Other' 'Quotes' 'Affiliates'\n",
      " 'Referral' 'Bulk Upload' 'Email' 'Display - Retargeting'\n",
      " 'Display - Acquisition' 'Self ID' 'Partners']\n",
      "accrole  :  ['None' 'Primary' 'Purchaser' 'Other']\n",
      "currentstatus  :  ['Active' 'Enrolled' 'In Progress' 'Unconfirmed']\n",
      "team  :  ['US' 'CA']\n",
      "roll_up  :  ['Onboarding' 'Retention' 'Unmanaged']\n",
      "companytypegroup  :  ['Business' 'Trade']\n"
     ]
    }
   ],
   "source": [
    "hold_category_unique_values = []\n",
    "for i in range(len(hold_category_col_name)):\n",
    "    hold_category_unique_values.append(hold_category[hold_category_col_name[i]].unique())\n",
    "    \n",
    "for i in range(len(hold_category_unique_values)):\n",
    "    print(hold_category_col_name[i],\" : \",hold_category_unique_values[i])"
   ]
  },
  {
   "cell_type": "code",
   "execution_count": 30,
   "metadata": {},
   "outputs": [
    {
     "data": {
      "text/html": [
       "<div>\n",
       "<style scoped>\n",
       "    .dataframe tbody tr th:only-of-type {\n",
       "        vertical-align: middle;\n",
       "    }\n",
       "\n",
       "    .dataframe tbody tr th {\n",
       "        vertical-align: top;\n",
       "    }\n",
       "\n",
       "    .dataframe thead th {\n",
       "        text-align: right;\n",
       "    }\n",
       "</style>\n",
       "<table border=\"1\" class=\"dataframe\">\n",
       "  <thead>\n",
       "    <tr style=\"text-align: right;\">\n",
       "      <th></th>\n",
       "      <th>enrollmentmethod</th>\n",
       "      <th>customersource</th>\n",
       "      <th>accrole</th>\n",
       "      <th>currentstatus</th>\n",
       "      <th>team</th>\n",
       "      <th>roll_up</th>\n",
       "      <th>companytypegroup</th>\n",
       "    </tr>\n",
       "  </thead>\n",
       "  <tbody>\n",
       "    <tr>\n",
       "      <th>0</th>\n",
       "      <td>directEIN</td>\n",
       "      <td>External Application</td>\n",
       "      <td>None</td>\n",
       "      <td>Active</td>\n",
       "      <td>US</td>\n",
       "      <td>Onboarding</td>\n",
       "      <td>Business</td>\n",
       "    </tr>\n",
       "    <tr>\n",
       "      <th>1</th>\n",
       "      <td>directEIN</td>\n",
       "      <td>Internal Application</td>\n",
       "      <td>None</td>\n",
       "      <td>Active</td>\n",
       "      <td>US</td>\n",
       "      <td>Onboarding</td>\n",
       "      <td>Business</td>\n",
       "    </tr>\n",
       "    <tr>\n",
       "      <th>2</th>\n",
       "      <td>directEIN</td>\n",
       "      <td>Internal Application</td>\n",
       "      <td>None</td>\n",
       "      <td>Active</td>\n",
       "      <td>US</td>\n",
       "      <td>Onboarding</td>\n",
       "      <td>Business</td>\n",
       "    </tr>\n",
       "    <tr>\n",
       "      <th>3</th>\n",
       "      <td>directEIN</td>\n",
       "      <td>Internal Customer Scrape</td>\n",
       "      <td>None</td>\n",
       "      <td>Enrolled</td>\n",
       "      <td>US</td>\n",
       "      <td>Onboarding</td>\n",
       "      <td>Business</td>\n",
       "    </tr>\n",
       "    <tr>\n",
       "      <th>4</th>\n",
       "      <td>directEIN</td>\n",
       "      <td>Gateway</td>\n",
       "      <td>None</td>\n",
       "      <td>Enrolled</td>\n",
       "      <td>US</td>\n",
       "      <td>Onboarding</td>\n",
       "      <td>Business</td>\n",
       "    </tr>\n",
       "  </tbody>\n",
       "</table>\n",
       "</div>"
      ],
      "text/plain": [
       "  enrollmentmethod            customersource accrole currentstatus team  \\\n",
       "0        directEIN      External Application    None        Active   US   \n",
       "1        directEIN      Internal Application    None        Active   US   \n",
       "2        directEIN      Internal Application    None        Active   US   \n",
       "3        directEIN  Internal Customer Scrape    None      Enrolled   US   \n",
       "4        directEIN                   Gateway    None      Enrolled   US   \n",
       "\n",
       "      roll_up companytypegroup  \n",
       "0  Onboarding         Business  \n",
       "1  Onboarding         Business  \n",
       "2  Onboarding         Business  \n",
       "3  Onboarding         Business  \n",
       "4  Onboarding         Business  "
      ]
     },
     "execution_count": 30,
     "metadata": {},
     "output_type": "execute_result"
    }
   ],
   "source": [
    "classification_data[hold_category_col_name].head()"
   ]
  },
  {
   "cell_type": "code",
   "execution_count": 31,
   "metadata": {},
   "outputs": [],
   "source": [
    "# -- One hot encode the categorical attributes --\n",
    "classification_data = pd.get_dummies(classification_data,columns = hold_category_col_name)"
   ]
  },
  {
   "cell_type": "code",
   "execution_count": 32,
   "metadata": {},
   "outputs": [
    {
     "data": {
      "text/plain": [
       "(28126, 213)"
      ]
     },
     "execution_count": 32,
     "metadata": {},
     "output_type": "execute_result"
    }
   ],
   "source": [
    "classification_data.shape"
   ]
  },
  {
   "cell_type": "code",
   "execution_count": 33,
   "metadata": {},
   "outputs": [],
   "source": [
    "# -- drop rows or columns with all missing cells --\n",
    "classification_data = classification_data.dropna(how = 'all')\n",
    "classification_data = classification_data.dropna(how = 'all',axis = 1)"
   ]
  },
  {
   "cell_type": "code",
   "execution_count": 34,
   "metadata": {},
   "outputs": [
    {
     "data": {
      "text/plain": [
       "(28126, 213)"
      ]
     },
     "execution_count": 34,
     "metadata": {},
     "output_type": "execute_result"
    }
   ],
   "source": [
    "classification_data.shape\n",
    "# -- no rows or columns with ALL missing values"
   ]
  },
  {
   "cell_type": "code",
   "execution_count": 35,
   "metadata": {},
   "outputs": [
    {
     "data": {
      "text/html": [
       "<div>\n",
       "<style scoped>\n",
       "    .dataframe tbody tr th:only-of-type {\n",
       "        vertical-align: middle;\n",
       "    }\n",
       "\n",
       "    .dataframe tbody tr th {\n",
       "        vertical-align: top;\n",
       "    }\n",
       "\n",
       "    .dataframe thead th {\n",
       "        text-align: right;\n",
       "    }\n",
       "</style>\n",
       "<table border=\"1\" class=\"dataframe\">\n",
       "  <thead>\n",
       "    <tr style=\"text-align: right;\">\n",
       "      <th></th>\n",
       "      <th>Unnamed: 0</th>\n",
       "      <th>cuid</th>\n",
       "      <th>convert_30</th>\n",
       "      <th>num_employees</th>\n",
       "      <th>num_purchases_year</th>\n",
       "      <th>cost_purchases_year</th>\n",
       "      <th>numorderone</th>\n",
       "      <th>numorderthreeone</th>\n",
       "      <th>numorderseventhree</th>\n",
       "      <th>numorderthirtyseven</th>\n",
       "      <th>...</th>\n",
       "      <th>currentstatus_Enrolled</th>\n",
       "      <th>currentstatus_In Progress</th>\n",
       "      <th>currentstatus_Unconfirmed</th>\n",
       "      <th>team_CA</th>\n",
       "      <th>team_US</th>\n",
       "      <th>roll_up_Onboarding</th>\n",
       "      <th>roll_up_Retention</th>\n",
       "      <th>roll_up_Unmanaged</th>\n",
       "      <th>companytypegroup_Business</th>\n",
       "      <th>companytypegroup_Trade</th>\n",
       "    </tr>\n",
       "  </thead>\n",
       "  <tbody>\n",
       "    <tr>\n",
       "      <th>0</th>\n",
       "      <td>1</td>\n",
       "      <td>20</td>\n",
       "      <td>0</td>\n",
       "      <td>5</td>\n",
       "      <td>1</td>\n",
       "      <td>1</td>\n",
       "      <td>0.0</td>\n",
       "      <td>0.0</td>\n",
       "      <td>0.0</td>\n",
       "      <td>1.0</td>\n",
       "      <td>...</td>\n",
       "      <td>0</td>\n",
       "      <td>0</td>\n",
       "      <td>0</td>\n",
       "      <td>0</td>\n",
       "      <td>1</td>\n",
       "      <td>1</td>\n",
       "      <td>0</td>\n",
       "      <td>0</td>\n",
       "      <td>1</td>\n",
       "      <td>0</td>\n",
       "    </tr>\n",
       "    <tr>\n",
       "      <th>1</th>\n",
       "      <td>2</td>\n",
       "      <td>57</td>\n",
       "      <td>0</td>\n",
       "      <td>2</td>\n",
       "      <td>5</td>\n",
       "      <td>4</td>\n",
       "      <td>0.0</td>\n",
       "      <td>0.0</td>\n",
       "      <td>0.0</td>\n",
       "      <td>0.0</td>\n",
       "      <td>...</td>\n",
       "      <td>0</td>\n",
       "      <td>0</td>\n",
       "      <td>0</td>\n",
       "      <td>0</td>\n",
       "      <td>1</td>\n",
       "      <td>1</td>\n",
       "      <td>0</td>\n",
       "      <td>0</td>\n",
       "      <td>1</td>\n",
       "      <td>0</td>\n",
       "    </tr>\n",
       "    <tr>\n",
       "      <th>2</th>\n",
       "      <td>3</td>\n",
       "      <td>163</td>\n",
       "      <td>0</td>\n",
       "      <td>1</td>\n",
       "      <td>2</td>\n",
       "      <td>2</td>\n",
       "      <td>0.0</td>\n",
       "      <td>0.0</td>\n",
       "      <td>0.0</td>\n",
       "      <td>1.0</td>\n",
       "      <td>...</td>\n",
       "      <td>0</td>\n",
       "      <td>0</td>\n",
       "      <td>0</td>\n",
       "      <td>0</td>\n",
       "      <td>1</td>\n",
       "      <td>1</td>\n",
       "      <td>0</td>\n",
       "      <td>0</td>\n",
       "      <td>1</td>\n",
       "      <td>0</td>\n",
       "    </tr>\n",
       "    <tr>\n",
       "      <th>3</th>\n",
       "      <td>4</td>\n",
       "      <td>167</td>\n",
       "      <td>0</td>\n",
       "      <td>5</td>\n",
       "      <td>2</td>\n",
       "      <td>1</td>\n",
       "      <td>NaN</td>\n",
       "      <td>NaN</td>\n",
       "      <td>NaN</td>\n",
       "      <td>NaN</td>\n",
       "      <td>...</td>\n",
       "      <td>1</td>\n",
       "      <td>0</td>\n",
       "      <td>0</td>\n",
       "      <td>0</td>\n",
       "      <td>1</td>\n",
       "      <td>1</td>\n",
       "      <td>0</td>\n",
       "      <td>0</td>\n",
       "      <td>1</td>\n",
       "      <td>0</td>\n",
       "    </tr>\n",
       "    <tr>\n",
       "      <th>4</th>\n",
       "      <td>5</td>\n",
       "      <td>168</td>\n",
       "      <td>0</td>\n",
       "      <td>3</td>\n",
       "      <td>4</td>\n",
       "      <td>3</td>\n",
       "      <td>NaN</td>\n",
       "      <td>NaN</td>\n",
       "      <td>NaN</td>\n",
       "      <td>NaN</td>\n",
       "      <td>...</td>\n",
       "      <td>1</td>\n",
       "      <td>0</td>\n",
       "      <td>0</td>\n",
       "      <td>0</td>\n",
       "      <td>1</td>\n",
       "      <td>1</td>\n",
       "      <td>0</td>\n",
       "      <td>0</td>\n",
       "      <td>1</td>\n",
       "      <td>0</td>\n",
       "    </tr>\n",
       "  </tbody>\n",
       "</table>\n",
       "<p>5 rows × 213 columns</p>\n",
       "</div>"
      ],
      "text/plain": [
       "   Unnamed: 0  cuid  convert_30  num_employees  num_purchases_year  \\\n",
       "0           1    20           0              5                   1   \n",
       "1           2    57           0              2                   5   \n",
       "2           3   163           0              1                   2   \n",
       "3           4   167           0              5                   2   \n",
       "4           5   168           0              3                   4   \n",
       "\n",
       "   cost_purchases_year  numorderone  numorderthreeone  numorderseventhree  \\\n",
       "0                    1          0.0               0.0                 0.0   \n",
       "1                    4          0.0               0.0                 0.0   \n",
       "2                    2          0.0               0.0                 0.0   \n",
       "3                    1          NaN               NaN                 NaN   \n",
       "4                    3          NaN               NaN                 NaN   \n",
       "\n",
       "   numorderthirtyseven           ...            currentstatus_Enrolled  \\\n",
       "0                  1.0           ...                                 0   \n",
       "1                  0.0           ...                                 0   \n",
       "2                  1.0           ...                                 0   \n",
       "3                  NaN           ...                                 1   \n",
       "4                  NaN           ...                                 1   \n",
       "\n",
       "   currentstatus_In Progress  currentstatus_Unconfirmed  team_CA  team_US  \\\n",
       "0                          0                          0        0        1   \n",
       "1                          0                          0        0        1   \n",
       "2                          0                          0        0        1   \n",
       "3                          0                          0        0        1   \n",
       "4                          0                          0        0        1   \n",
       "\n",
       "   roll_up_Onboarding  roll_up_Retention  roll_up_Unmanaged  \\\n",
       "0                   1                  0                  0   \n",
       "1                   1                  0                  0   \n",
       "2                   1                  0                  0   \n",
       "3                   1                  0                  0   \n",
       "4                   1                  0                  0   \n",
       "\n",
       "   companytypegroup_Business  companytypegroup_Trade  \n",
       "0                          1                       0  \n",
       "1                          1                       0  \n",
       "2                          1                       0  \n",
       "3                          1                       0  \n",
       "4                          1                       0  \n",
       "\n",
       "[5 rows x 213 columns]"
      ]
     },
     "execution_count": 35,
     "metadata": {},
     "output_type": "execute_result"
    }
   ],
   "source": [
    "classification_data.head()"
   ]
  },
  {
   "cell_type": "code",
   "execution_count": 36,
   "metadata": {},
   "outputs": [],
   "source": [
    "# -- impute mean for remaining missing values -- \n",
    "classification_data = classification_data.fillna(classification_data.mean())"
   ]
  },
  {
   "cell_type": "code",
   "execution_count": 37,
   "metadata": {},
   "outputs": [
    {
     "data": {
      "text/html": [
       "<div>\n",
       "<style scoped>\n",
       "    .dataframe tbody tr th:only-of-type {\n",
       "        vertical-align: middle;\n",
       "    }\n",
       "\n",
       "    .dataframe tbody tr th {\n",
       "        vertical-align: top;\n",
       "    }\n",
       "\n",
       "    .dataframe thead th {\n",
       "        text-align: right;\n",
       "    }\n",
       "</style>\n",
       "<table border=\"1\" class=\"dataframe\">\n",
       "  <thead>\n",
       "    <tr style=\"text-align: right;\">\n",
       "      <th></th>\n",
       "      <th>Unnamed: 0</th>\n",
       "      <th>cuid</th>\n",
       "      <th>convert_30</th>\n",
       "      <th>num_employees</th>\n",
       "      <th>num_purchases_year</th>\n",
       "      <th>cost_purchases_year</th>\n",
       "      <th>numorderone</th>\n",
       "      <th>numorderthreeone</th>\n",
       "      <th>numorderseventhree</th>\n",
       "      <th>numorderthirtyseven</th>\n",
       "      <th>...</th>\n",
       "      <th>currentstatus_Enrolled</th>\n",
       "      <th>currentstatus_In Progress</th>\n",
       "      <th>currentstatus_Unconfirmed</th>\n",
       "      <th>team_CA</th>\n",
       "      <th>team_US</th>\n",
       "      <th>roll_up_Onboarding</th>\n",
       "      <th>roll_up_Retention</th>\n",
       "      <th>roll_up_Unmanaged</th>\n",
       "      <th>companytypegroup_Business</th>\n",
       "      <th>companytypegroup_Trade</th>\n",
       "    </tr>\n",
       "  </thead>\n",
       "  <tbody>\n",
       "    <tr>\n",
       "      <th>0</th>\n",
       "      <td>1</td>\n",
       "      <td>20</td>\n",
       "      <td>0</td>\n",
       "      <td>5</td>\n",
       "      <td>1</td>\n",
       "      <td>1</td>\n",
       "      <td>0.000000</td>\n",
       "      <td>0.000000</td>\n",
       "      <td>0.000000</td>\n",
       "      <td>1.000000</td>\n",
       "      <td>...</td>\n",
       "      <td>0</td>\n",
       "      <td>0</td>\n",
       "      <td>0</td>\n",
       "      <td>0</td>\n",
       "      <td>1</td>\n",
       "      <td>1</td>\n",
       "      <td>0</td>\n",
       "      <td>0</td>\n",
       "      <td>1</td>\n",
       "      <td>0</td>\n",
       "    </tr>\n",
       "    <tr>\n",
       "      <th>1</th>\n",
       "      <td>2</td>\n",
       "      <td>57</td>\n",
       "      <td>0</td>\n",
       "      <td>2</td>\n",
       "      <td>5</td>\n",
       "      <td>4</td>\n",
       "      <td>0.000000</td>\n",
       "      <td>0.000000</td>\n",
       "      <td>0.000000</td>\n",
       "      <td>0.000000</td>\n",
       "      <td>...</td>\n",
       "      <td>0</td>\n",
       "      <td>0</td>\n",
       "      <td>0</td>\n",
       "      <td>0</td>\n",
       "      <td>1</td>\n",
       "      <td>1</td>\n",
       "      <td>0</td>\n",
       "      <td>0</td>\n",
       "      <td>1</td>\n",
       "      <td>0</td>\n",
       "    </tr>\n",
       "    <tr>\n",
       "      <th>2</th>\n",
       "      <td>3</td>\n",
       "      <td>163</td>\n",
       "      <td>0</td>\n",
       "      <td>1</td>\n",
       "      <td>2</td>\n",
       "      <td>2</td>\n",
       "      <td>0.000000</td>\n",
       "      <td>0.000000</td>\n",
       "      <td>0.000000</td>\n",
       "      <td>1.000000</td>\n",
       "      <td>...</td>\n",
       "      <td>0</td>\n",
       "      <td>0</td>\n",
       "      <td>0</td>\n",
       "      <td>0</td>\n",
       "      <td>1</td>\n",
       "      <td>1</td>\n",
       "      <td>0</td>\n",
       "      <td>0</td>\n",
       "      <td>1</td>\n",
       "      <td>0</td>\n",
       "    </tr>\n",
       "    <tr>\n",
       "      <th>3</th>\n",
       "      <td>4</td>\n",
       "      <td>167</td>\n",
       "      <td>0</td>\n",
       "      <td>5</td>\n",
       "      <td>2</td>\n",
       "      <td>1</td>\n",
       "      <td>0.022367</td>\n",
       "      <td>0.037827</td>\n",
       "      <td>0.078231</td>\n",
       "      <td>0.336425</td>\n",
       "      <td>...</td>\n",
       "      <td>1</td>\n",
       "      <td>0</td>\n",
       "      <td>0</td>\n",
       "      <td>0</td>\n",
       "      <td>1</td>\n",
       "      <td>1</td>\n",
       "      <td>0</td>\n",
       "      <td>0</td>\n",
       "      <td>1</td>\n",
       "      <td>0</td>\n",
       "    </tr>\n",
       "    <tr>\n",
       "      <th>4</th>\n",
       "      <td>5</td>\n",
       "      <td>168</td>\n",
       "      <td>0</td>\n",
       "      <td>3</td>\n",
       "      <td>4</td>\n",
       "      <td>3</td>\n",
       "      <td>0.022367</td>\n",
       "      <td>0.037827</td>\n",
       "      <td>0.078231</td>\n",
       "      <td>0.336425</td>\n",
       "      <td>...</td>\n",
       "      <td>1</td>\n",
       "      <td>0</td>\n",
       "      <td>0</td>\n",
       "      <td>0</td>\n",
       "      <td>1</td>\n",
       "      <td>1</td>\n",
       "      <td>0</td>\n",
       "      <td>0</td>\n",
       "      <td>1</td>\n",
       "      <td>0</td>\n",
       "    </tr>\n",
       "  </tbody>\n",
       "</table>\n",
       "<p>5 rows × 213 columns</p>\n",
       "</div>"
      ],
      "text/plain": [
       "   Unnamed: 0  cuid  convert_30  num_employees  num_purchases_year  \\\n",
       "0           1    20           0              5                   1   \n",
       "1           2    57           0              2                   5   \n",
       "2           3   163           0              1                   2   \n",
       "3           4   167           0              5                   2   \n",
       "4           5   168           0              3                   4   \n",
       "\n",
       "   cost_purchases_year  numorderone  numorderthreeone  numorderseventhree  \\\n",
       "0                    1     0.000000          0.000000            0.000000   \n",
       "1                    4     0.000000          0.000000            0.000000   \n",
       "2                    2     0.000000          0.000000            0.000000   \n",
       "3                    1     0.022367          0.037827            0.078231   \n",
       "4                    3     0.022367          0.037827            0.078231   \n",
       "\n",
       "   numorderthirtyseven           ...            currentstatus_Enrolled  \\\n",
       "0             1.000000           ...                                 0   \n",
       "1             0.000000           ...                                 0   \n",
       "2             1.000000           ...                                 0   \n",
       "3             0.336425           ...                                 1   \n",
       "4             0.336425           ...                                 1   \n",
       "\n",
       "   currentstatus_In Progress  currentstatus_Unconfirmed  team_CA  team_US  \\\n",
       "0                          0                          0        0        1   \n",
       "1                          0                          0        0        1   \n",
       "2                          0                          0        0        1   \n",
       "3                          0                          0        0        1   \n",
       "4                          0                          0        0        1   \n",
       "\n",
       "   roll_up_Onboarding  roll_up_Retention  roll_up_Unmanaged  \\\n",
       "0                   1                  0                  0   \n",
       "1                   1                  0                  0   \n",
       "2                   1                  0                  0   \n",
       "3                   1                  0                  0   \n",
       "4                   1                  0                  0   \n",
       "\n",
       "   companytypegroup_Business  companytypegroup_Trade  \n",
       "0                          1                       0  \n",
       "1                          1                       0  \n",
       "2                          1                       0  \n",
       "3                          1                       0  \n",
       "4                          1                       0  \n",
       "\n",
       "[5 rows x 213 columns]"
      ]
     },
     "execution_count": 37,
     "metadata": {},
     "output_type": "execute_result"
    }
   ],
   "source": [
    "classification_data.head()"
   ]
  },
  {
   "cell_type": "markdown",
   "metadata": {},
   "source": [
    "#### Train Test Split"
   ]
  },
  {
   "cell_type": "code",
   "execution_count": 38,
   "metadata": {},
   "outputs": [],
   "source": [
    "y_class = classification_data['convert_30']\n",
    "X_class = classification_data.drop('convert_30', axis = 1)"
   ]
  },
  {
   "cell_type": "code",
   "execution_count": 39,
   "metadata": {},
   "outputs": [],
   "source": [
    "X_train_class, X_test_class, y_train_class, y_test_class = train_test_split(X_class, y_class, test_size=0.2, random_state=42)"
   ]
  },
  {
   "cell_type": "markdown",
   "metadata": {},
   "source": [
    "#### Random Forest Classifier"
   ]
  },
  {
   "cell_type": "code",
   "execution_count": 40,
   "metadata": {},
   "outputs": [
    {
     "data": {
      "text/plain": [
       "RandomForestClassifier(bootstrap=True, class_weight=None, criterion='gini',\n",
       "            max_depth=5, max_features='auto', max_leaf_nodes=None,\n",
       "            min_impurity_decrease=0.0, min_impurity_split=None,\n",
       "            min_samples_leaf=1, min_samples_split=2,\n",
       "            min_weight_fraction_leaf=0.0, n_estimators=5, n_jobs=1,\n",
       "            oob_score=False, random_state=12, verbose=0, warm_start=False)"
      ]
     },
     "execution_count": 40,
     "metadata": {},
     "output_type": "execute_result"
    }
   ],
   "source": [
    "hold_clf = RandomForestClassifier(n_estimators=5,max_depth=5,random_state = 12)\n",
    "hold_clf.fit(X_train_class,y_train_class)"
   ]
  },
  {
   "cell_type": "code",
   "execution_count": 41,
   "metadata": {},
   "outputs": [],
   "source": [
    "# -- Variable importance --\n",
    "impclass = hold_clf.feature_importances_\n",
    "indices = np.argsort(impclass)"
   ]
  },
  {
   "cell_type": "code",
   "execution_count": 42,
   "metadata": {},
   "outputs": [],
   "source": [
    "reversedid = indices[::-1]\n",
    "reversedid = reversedid[:20]"
   ]
  },
  {
   "cell_type": "code",
   "execution_count": 43,
   "metadata": {},
   "outputs": [],
   "source": [
    "indices = indices[:20]"
   ]
  },
  {
   "cell_type": "code",
   "execution_count": 44,
   "metadata": {},
   "outputs": [],
   "source": [
    "features = classification_data.columns"
   ]
  },
  {
   "cell_type": "code",
   "execution_count": 45,
   "metadata": {},
   "outputs": [
    {
     "name": "stdout",
     "output_type": "stream",
     "text": [
      "[0.10382157 0.10071445 0.09167621 0.07383666 0.06779797 0.03937097\n",
      " 0.03920467 0.03627033 0.02757827 0.02752273 0.02364412 0.02078706\n",
      " 0.0201943  0.0190869  0.01779437 0.01510822 0.01194463 0.01150853\n",
      " 0.0114194  0.01122633]\n"
     ]
    }
   ],
   "source": [
    "print(impclass[reversedid])"
   ]
  },
  {
   "cell_type": "code",
   "execution_count": 46,
   "metadata": {},
   "outputs": [
    {
     "data": {
      "image/png": "[encoded data removed]",
      "text/plain": [
       "<Figure size 432x288 with 1 Axes>"
      ]
     },
     "metadata": {
      "needs_background": "light"
     },
     "output_type": "display_data"
    }
   ],
   "source": [
    "\n",
    "plt.title('Top 20 Important Features')\n",
    "plt.barh(range(len(reversedid)), impclass[reversedid], color='b', align='center')\n",
    "plt.yticks(range(len(reversedid)), [features[i] for i in reversedid])\n",
    "plt.xlabel('Relative Importance')\n",
    "plt.show()"
   ]
  },
  {
   "cell_type": "code",
   "execution_count": 326,
   "metadata": {},
   "outputs": [],
   "source": [
    "# -- Random Forest Classifier --\n",
    "def RFavg(ne, md):\n",
    "    clf = RandomForestClassifier(n_estimators = ne, max_depth = md, random_state = 0)\n",
    "    print(\"Inside RF:\", ne)\n",
    "    scores = cross_val_score(clf, X_train_class, y_train_class, cv = 10, scoring = 'accuracy').mean()\n",
    "    clf.fit(X_train_class,y_train_class)\n",
    "    predicted = clf.predict(X_test_class)\n",
    "    # check accuracy for tested results\n",
    "    tester = accuracy_score(y_test_class, predicted)\n",
    "    return scores, tester\n",
    "#     return scores"
   ]
  },
  {
   "cell_type": "code",
   "execution_count": 327,
   "metadata": {},
   "outputs": [
    {
     "name": "stdout",
     "output_type": "stream",
     "text": [
      "Inside RF: 2\n",
      "Inside RF: 3\n",
      "Inside RF: 4\n",
      "Inside RF: 5\n",
      "Inside RF: 6\n",
      "Inside RF: 7\n",
      "Inside RF: 8\n",
      "Inside RF: 9\n",
      "Inside RF: 10\n",
      "Inside RF: 11\n",
      "Inside RF: 12\n",
      "Inside RF: 13\n",
      "Inside RF: 14\n",
      "Inside RF: 15\n",
      "Inside RF: 16\n",
      "Inside RF: 17\n",
      "Inside RF: 18\n",
      "Inside RF: 19\n",
      "[0.8956444757157811, 0.8965780659709759, 0.8962668757245955, 0.8968445351418559, 0.8959997943220446, 0.8974670140927984, 0.8968446140488675, 0.8961779672494202, 0.8951113003896121, 0.8974223523555812, 0.8980889006968473, 0.89675566597972, 0.8954670139347737, 0.8969774536690718, 0.8968442979994224, 0.8969334042162005, 0.8965335423385872, 0.8974667968000258] [0.8969072164948454, 0.8988624244578741, 0.8979736935655883, 0.8974404550302169, 0.8997511553501599, 0.8995734091717028, 0.8993956629932457, 0.8990401706363313, 0.8977959473871312, 0.8974404550302169, 0.8979736935655883, 0.897618201208674, 0.8967294703163882, 0.8983291859225027, 0.8981514397440455, 0.8985069321009598, 0.8992179168147885, 0.8997511553501599]\n"
     ]
    }
   ],
   "source": [
    "holdRFtr = []\n",
    "holdRFte = []\n",
    "for i in range (2,20):\n",
    "    tr, te = RFavg(i,i)\n",
    "    holdRFtr.append(tr)\n",
    "    holdRFte.append(te)\n",
    "\n",
    "print(holdRFtr, holdRFte)"
   ]
  },
  {
   "cell_type": "markdown",
   "metadata": {},
   "source": [
    "#### Gradient Boosting"
   ]
  },
  {
   "cell_type": "code",
   "execution_count": 328,
   "metadata": {},
   "outputs": [],
   "source": [
    "# -- Gradient Boosting --\n",
    "def GB(ne):\n",
    "    clf = ensemble.GradientBoostingClassifier(n_estimators = ne, max_depth = ne, max_leaf_nodes = ne, random_state = 0, learning_rate=0.1)\n",
    "    print(\"Inside RF:\", ne)\n",
    "    # cross validate on train\n",
    "    scores = cross_val_score(clf, X_train_class, y_train_class, cv = 10, scoring = 'accuracy') \n",
    "    scores_avg = sum(scores)/len(scores)\n",
    "    # prepare for test\n",
    "    clf.fit(X_train_class, y_train_class)\n",
    "    # predict on test\n",
    "    predicted = clf.predict(X_test_class)\n",
    "    # check accuracy for tested results\n",
    "    tester = accuracy_score(y_test_class, predicted)\n",
    "    return scores_avg, tester"
   ]
  },
  {
   "cell_type": "code",
   "execution_count": 329,
   "metadata": {},
   "outputs": [
    {
     "name": "stdout",
     "output_type": "stream",
     "text": [
      "Inside RF: 2\n",
      "Inside RF: 3\n",
      "Inside RF: 4\n",
      "Inside RF: 5\n",
      "Inside RF: 6\n",
      "Inside RF: 7\n",
      "Inside RF: 8\n",
      "Inside RF: 9\n",
      "Inside RF: 10\n",
      "Inside RF: 11\n",
      "Inside RF: 12\n",
      "Inside RF: 13\n",
      "Inside RF: 14\n",
      "Inside RF: 15\n",
      "Inside RF: 16\n",
      "Inside RF: 17\n",
      "Inside RF: 18\n",
      "Inside RF: 19\n",
      "[0.895644475715781, 0.895644475715781, 0.895644475715781, 0.895644475715781, 0.895644475715781, 0.895644475715781, 0.8956889201602255, 0.8958222732554283, 0.8961333844016564, 0.8970666782639256, 0.8976889597893145, 0.8987112808384422, 0.8985334437750561, 0.8994668167023617, 0.8995558438189869, 0.8996446734925007, 0.8997779674250032, 0.8996000908027615] [0.8969072164948454, 0.8969072164948454, 0.8969072164948454, 0.8969072164948454, 0.8969072164948454, 0.8969072164948454, 0.8977959473871312, 0.8977959473871312, 0.897618201208674, 0.8977959473871312, 0.8990401706363313, 0.8999289015286172, 0.8992179168147885, 0.9002843938855315, 0.9009953785993601, 0.9020618556701031, 0.9015286171347316, 0.9013508709562744]\n"
     ]
    }
   ],
   "source": [
    "holdGBtr = []\n",
    "holdGBte = []\n",
    "for i in range (2,20):\n",
    "    tr, te = GB(i)\n",
    "    holdGBtr.append(tr)\n",
    "    holdGBte.append(te)\n",
    "\n",
    "print(holdGBtr, holdGBte)"
   ]
  },
  {
   "cell_type": "markdown",
   "metadata": {},
   "source": [
    "#### Linear Discriminant Analysis"
   ]
  },
  {
   "cell_type": "code",
   "execution_count": 330,
   "metadata": {},
   "outputs": [],
   "source": [
    "def lda():\n",
    "    clf = LinearDiscriminantAnalysis()\n",
    "    scores = cross_val_score(clf, X_train_class, y_train_class, cv = 10, scoring = 'accuracy', verbose = True)\n",
    "    scores_avga = sum(scores)/len(scores)\n",
    "#     print(scores)\n",
    "    clf.fit(X_train_class, y_train_class)\n",
    "    # predict on test\n",
    "    predicted = clf.predict(X_test_class)\n",
    "    # check accuracy for tested results\n",
    "    tester = accuracy_score(y_test_class, predicted)\n",
    "    return scores_avga,tester\n"
   ]
  },
  {
   "cell_type": "code",
   "execution_count": 331,
   "metadata": {},
   "outputs": [
    {
     "name": "stderr",
     "output_type": "stream",
     "text": [
      "D:\\Anaconda\\ana\\lib\\site-packages\\sklearn\\discriminant_analysis.py:388: UserWarning: Variables are collinear.\n",
      "  warnings.warn(\"Variables are collinear.\")\n",
      "D:\\Anaconda\\ana\\lib\\site-packages\\sklearn\\discriminant_analysis.py:388: UserWarning: Variables are collinear.\n",
      "  warnings.warn(\"Variables are collinear.\")\n",
      "D:\\Anaconda\\ana\\lib\\site-packages\\sklearn\\discriminant_analysis.py:388: UserWarning: Variables are collinear.\n",
      "  warnings.warn(\"Variables are collinear.\")\n",
      "D:\\Anaconda\\ana\\lib\\site-packages\\sklearn\\discriminant_analysis.py:388: UserWarning: Variables are collinear.\n",
      "  warnings.warn(\"Variables are collinear.\")\n",
      "D:\\Anaconda\\ana\\lib\\site-packages\\sklearn\\discriminant_analysis.py:388: UserWarning: Variables are collinear.\n",
      "  warnings.warn(\"Variables are collinear.\")\n",
      "D:\\Anaconda\\ana\\lib\\site-packages\\sklearn\\discriminant_analysis.py:388: UserWarning: Variables are collinear.\n",
      "  warnings.warn(\"Variables are collinear.\")\n",
      "D:\\Anaconda\\ana\\lib\\site-packages\\sklearn\\discriminant_analysis.py:388: UserWarning: Variables are collinear.\n",
      "  warnings.warn(\"Variables are collinear.\")\n",
      "D:\\Anaconda\\ana\\lib\\site-packages\\sklearn\\discriminant_analysis.py:388: UserWarning: Variables are collinear.\n",
      "  warnings.warn(\"Variables are collinear.\")\n",
      "D:\\Anaconda\\ana\\lib\\site-packages\\sklearn\\discriminant_analysis.py:388: UserWarning: Variables are collinear.\n",
      "  warnings.warn(\"Variables are collinear.\")\n",
      "D:\\Anaconda\\ana\\lib\\site-packages\\sklearn\\discriminant_analysis.py:388: UserWarning: Variables are collinear.\n",
      "  warnings.warn(\"Variables are collinear.\")\n",
      "[Parallel(n_jobs=1)]: Done  10 out of  10 | elapsed:   11.1s finished\n"
     ]
    },
    {
     "name": "stdout",
     "output_type": "stream",
     "text": [
      "(0.8956451670651633, 0.896551724137931)\n"
     ]
    }
   ],
   "source": [
    "print(lda())"
   ]
  },
  {
   "cell_type": "markdown",
   "metadata": {},
   "source": [
    "#### Quadratic Discriminant Analysis"
   ]
  },
  {
   "cell_type": "code",
   "execution_count": 332,
   "metadata": {},
   "outputs": [],
   "source": [
    "def qda():\n",
    "    clf = QuadraticDiscriminantAnalysis()\n",
    "    scores = cross_val_score(clf, X_train_class, y_train_class, cv = 10, scoring = 'accuracy', verbose = True)\n",
    "    scores_avga = sum(scores)/len(scores)\n",
    "#     print(scores)\n",
    "    clf.fit(X_train_class, y_train_class)\n",
    "    # predict on test\n",
    "    predicted = clf.predict(X_test_class)\n",
    "    # check accuracy for tested results\n",
    "    tester = accuracy_score(y_test_class, predicted)\n",
    "    return scores_avga,tester\n"
   ]
  },
  {
   "cell_type": "code",
   "execution_count": 333,
   "metadata": {},
   "outputs": [
    {
     "name": "stderr",
     "output_type": "stream",
     "text": [
      "D:\\Anaconda\\ana\\lib\\site-packages\\sklearn\\discriminant_analysis.py:682: UserWarning: Variables are collinear\n",
      "  warnings.warn(\"Variables are collinear\")\n",
      "D:\\Anaconda\\ana\\lib\\site-packages\\sklearn\\discriminant_analysis.py:682: UserWarning: Variables are collinear\n",
      "  warnings.warn(\"Variables are collinear\")\n",
      "D:\\Anaconda\\ana\\lib\\site-packages\\sklearn\\discriminant_analysis.py:682: UserWarning: Variables are collinear\n",
      "  warnings.warn(\"Variables are collinear\")\n",
      "D:\\Anaconda\\ana\\lib\\site-packages\\sklearn\\discriminant_analysis.py:682: UserWarning: Variables are collinear\n",
      "  warnings.warn(\"Variables are collinear\")\n",
      "D:\\Anaconda\\ana\\lib\\site-packages\\sklearn\\discriminant_analysis.py:682: UserWarning: Variables are collinear\n",
      "  warnings.warn(\"Variables are collinear\")\n",
      "D:\\Anaconda\\ana\\lib\\site-packages\\sklearn\\discriminant_analysis.py:682: UserWarning: Variables are collinear\n",
      "  warnings.warn(\"Variables are collinear\")\n",
      "D:\\Anaconda\\ana\\lib\\site-packages\\sklearn\\discriminant_analysis.py:682: UserWarning: Variables are collinear\n",
      "  warnings.warn(\"Variables are collinear\")\n",
      "D:\\Anaconda\\ana\\lib\\site-packages\\sklearn\\discriminant_analysis.py:682: UserWarning: Variables are collinear\n",
      "  warnings.warn(\"Variables are collinear\")\n",
      "D:\\Anaconda\\ana\\lib\\site-packages\\sklearn\\discriminant_analysis.py:682: UserWarning: Variables are collinear\n",
      "  warnings.warn(\"Variables are collinear\")\n",
      "D:\\Anaconda\\ana\\lib\\site-packages\\sklearn\\discriminant_analysis.py:682: UserWarning: Variables are collinear\n",
      "  warnings.warn(\"Variables are collinear\")\n",
      "[Parallel(n_jobs=1)]: Done  10 out of  10 | elapsed:   15.4s finished\n"
     ]
    },
    {
     "name": "stdout",
     "output_type": "stream",
     "text": [
      "(0.12253334293772478, 0.12015641663704231)\n"
     ]
    }
   ],
   "source": [
    "print(qda())"
   ]
  },
  {
   "cell_type": "markdown",
   "metadata": {},
   "source": [
    "#### Adaptive Boosting"
   ]
  },
  {
   "cell_type": "code",
   "execution_count": 334,
   "metadata": {},
   "outputs": [],
   "source": [
    "# -- Ada Boosting ALgorithm --\n",
    "def AdaB(ne):\n",
    "    clf = ensemble.AdaBoostClassifier(DecisionTreeClassifier(max_depth=ne),n_estimators = ne, learning_rate=0.1)\n",
    "    print(\"Inside RF:\", ne)\n",
    "    # cross validate on train\n",
    "    scores = cross_val_score(clf, X_train_class, y_train_class, cv = 10, scoring = 'accuracy').mean()\n",
    "    # prepare for test\n",
    "    clf.fit(X_train_class, y_train_class)\n",
    "    # predict on test\n",
    "    predicted = clf.predict(X_test_class)\n",
    "    # check accuracy for tested results\n",
    "    tester = accuracy_score(y_test_class, predicted)\n",
    "    return scores, tester"
   ]
  },
  {
   "cell_type": "code",
   "execution_count": 335,
   "metadata": {
    "scrolled": true
   },
   "outputs": [
    {
     "name": "stdout",
     "output_type": "stream",
     "text": [
      "Inside RF: 2\n",
      "Inside RF: 3\n",
      "Inside RF: 4\n",
      "Inside RF: 5\n",
      "Inside RF: 6\n",
      "Inside RF: 7\n",
      "Inside RF: 8\n",
      "Inside RF: 9\n",
      "Inside RF: 10\n",
      "Inside RF: 11\n",
      "Inside RF: 12\n",
      "Inside RF: 13\n",
      "Inside RF: 14\n",
      "Inside RF: 15\n",
      "Inside RF: 16\n",
      "Inside RF: 17\n",
      "Inside RF: 18\n",
      "Inside RF: 19\n",
      "[0.8956444757157811, 0.8971554684137002, 0.897822194348417, 0.8969337004686597, 0.8943556064658538, 0.8887560800483889, 0.8788888992746248, 0.8677331254079151, 0.8501326302550052, 0.8436882049930062, 0.8470220918869427, 0.8533339537559526, 0.86382207298543, 0.87044457275174, 0.8740004639605854, 0.8735559800626354, 0.8753336001844148, 0.8816444154820244] [0.8969072164948454, 0.8990401706363313, 0.8997511553501599, 0.8999289015286172, 0.8967294703163882, 0.8929968005687877, 0.8830430145751866, 0.8778883753999289, 0.8554923569143263, 0.8522929257020974, 0.8435833629576964, 0.8642019196587274, 0.8727337362246712, 0.8730892285815854, 0.8738002132954141, 0.8761109136153573, 0.8835762531105581, 0.8794880910060434]\n"
     ]
    }
   ],
   "source": [
    "holdAdatr = []\n",
    "holdAdate = []\n",
    "for i in range (2,20):\n",
    "    tr, te = AdaB(i)\n",
    "    holdAdatr.append(tr)\n",
    "    holdAdate.append(te)\n",
    "\n",
    "print(holdAdatr, holdAdate)"
   ]
  },
  {
   "cell_type": "code",
   "execution_count": 339,
   "metadata": {},
   "outputs": [
    {
     "name": "stdout",
     "output_type": "stream",
     "text": [
      "[2, 3, 4, 5, 6, 7, 8, 9, 10, 11, 12, 13, 14, 15, 16, 17, 18, 19]\n"
     ]
    },
    {
     "data": {
      "text/plain": [
       "<matplotlib.legend.Legend at 0x17f00958cf8>"
      ]
     },
     "execution_count": 339,
     "metadata": {},
     "output_type": "execute_result"
    },
    {
     "data": {
      "image/png": "[encoded data removed]",
      "text/plain": [
       "<Figure size 432x288 with 1 Axes>"
      ]
     },
     "metadata": {
      "needs_background": "light"
     },
     "output_type": "display_data"
    }
   ],
   "source": [
    "bag = [i for i in range(2,20)]\n",
    "print(bag)\n",
    "# print((md_ne_for_avg))\n",
    "plt.plot(holdRFtr,bag,'-o',label = 'Random Forest')\n",
    "plt.plot(holdGBtr,bag,'-o',label = 'Gradient Boosting')\n",
    "# plt.plot(holdAdatr,bag,'-o',label = 'AdaBoosting')\n",
    "plt.xlabel('Avg Accuracy after 10 fold cv')\n",
    "plt.ylabel('n_estimators and max_depth')\n",
    "plt.title('Classification models with 10-fold CV Accuracy on Training data')\n",
    "plt.legend()"
   ]
  },
  {
   "cell_type": "code",
   "execution_count": 341,
   "metadata": {},
   "outputs": [
    {
     "data": {
      "text/plain": [
       "<matplotlib.legend.Legend at 0x17f009d2550>"
      ]
     },
     "execution_count": 341,
     "metadata": {},
     "output_type": "execute_result"
    },
    {
     "data": {
      "image/png": "[encoded data removed]",
      "text/plain": [
       "<Figure size 432x288 with 1 Axes>"
      ]
     },
     "metadata": {
      "needs_background": "light"
     },
     "output_type": "display_data"
    }
   ],
   "source": [
    "plt.plot(holdRFte,bag,'-o',label = 'Random Forest')\n",
    "plt.plot(holdGBte,bag,'-o',label = 'Gradient Boosting')\n",
    "# plt.plot(holdAdate,bag,'-o',label = 'AdaBoosting')\n",
    "plt.xlabel('Accuracy')\n",
    "plt.ylabel('n_estimators and max_depth')\n",
    "plt.title('Classification models on Testing Data')\n",
    "plt.legend()"
   ]
  },
  {
   "cell_type": "markdown",
   "metadata": {},
   "source": [
    "## Regression"
   ]
  },
  {
   "cell_type": "code",
   "execution_count": 497,
   "metadata": {},
   "outputs": [],
   "source": [
    "regression_data = raw_data"
   ]
  },
  {
   "cell_type": "code",
   "execution_count": 498,
   "metadata": {},
   "outputs": [
    {
     "data": {
      "text/html": [
       "<div>\n",
       "<style scoped>\n",
       "    .dataframe tbody tr th:only-of-type {\n",
       "        vertical-align: middle;\n",
       "    }\n",
       "\n",
       "    .dataframe tbody tr th {\n",
       "        vertical-align: top;\n",
       "    }\n",
       "\n",
       "    .dataframe thead th {\n",
       "        text-align: right;\n",
       "    }\n",
       "</style>\n",
       "<table border=\"1\" class=\"dataframe\">\n",
       "  <thead>\n",
       "    <tr style=\"text-align: right;\">\n",
       "      <th></th>\n",
       "      <th>Unnamed: 0</th>\n",
       "      <th>cuid</th>\n",
       "      <th>convert_30</th>\n",
       "      <th>revenue_30</th>\n",
       "      <th>roll_up</th>\n",
       "      <th>currentstatus</th>\n",
       "      <th>companytypegroup</th>\n",
       "      <th>team</th>\n",
       "      <th>customersource</th>\n",
       "      <th>accrole</th>\n",
       "      <th>...</th>\n",
       "      <th>percemailopenedyearsixty</th>\n",
       "      <th>percemailclickedone</th>\n",
       "      <th>percemailclickedthreeone</th>\n",
       "      <th>percemailclickedseventhree</th>\n",
       "      <th>percemailclickedthirtyseven</th>\n",
       "      <th>percemailclickedsixtythirty</th>\n",
       "      <th>percemailclickedyearsixty</th>\n",
       "      <th>currentapplicability</th>\n",
       "      <th>numemaillist</th>\n",
       "      <th>dayssinceenrollment</th>\n",
       "    </tr>\n",
       "  </thead>\n",
       "  <tbody>\n",
       "    <tr>\n",
       "      <th>0</th>\n",
       "      <td>1</td>\n",
       "      <td>20</td>\n",
       "      <td>0</td>\n",
       "      <td>0.0</td>\n",
       "      <td>Onboarding</td>\n",
       "      <td>Active</td>\n",
       "      <td>Business</td>\n",
       "      <td>US</td>\n",
       "      <td>External Application</td>\n",
       "      <td>None</td>\n",
       "      <td>...</td>\n",
       "      <td>0.000000</td>\n",
       "      <td>0.0</td>\n",
       "      <td>0.0</td>\n",
       "      <td>0.0</td>\n",
       "      <td>0.190476</td>\n",
       "      <td>0.000000</td>\n",
       "      <td>0.000000</td>\n",
       "      <td>3.000000</td>\n",
       "      <td>1.0</td>\n",
       "      <td>17</td>\n",
       "    </tr>\n",
       "    <tr>\n",
       "      <th>1</th>\n",
       "      <td>2</td>\n",
       "      <td>57</td>\n",
       "      <td>0</td>\n",
       "      <td>0.0</td>\n",
       "      <td>Onboarding</td>\n",
       "      <td>Active</td>\n",
       "      <td>Business</td>\n",
       "      <td>US</td>\n",
       "      <td>Internal Application</td>\n",
       "      <td>None</td>\n",
       "      <td>...</td>\n",
       "      <td>0.020000</td>\n",
       "      <td>0.0</td>\n",
       "      <td>0.0</td>\n",
       "      <td>0.0</td>\n",
       "      <td>0.040000</td>\n",
       "      <td>0.000000</td>\n",
       "      <td>0.020000</td>\n",
       "      <td>3.000000</td>\n",
       "      <td>1.0</td>\n",
       "      <td>70</td>\n",
       "    </tr>\n",
       "    <tr>\n",
       "      <th>2</th>\n",
       "      <td>3</td>\n",
       "      <td>163</td>\n",
       "      <td>0</td>\n",
       "      <td>0.0</td>\n",
       "      <td>Onboarding</td>\n",
       "      <td>Active</td>\n",
       "      <td>Business</td>\n",
       "      <td>US</td>\n",
       "      <td>Internal Application</td>\n",
       "      <td>None</td>\n",
       "      <td>...</td>\n",
       "      <td>0.106195</td>\n",
       "      <td>0.0</td>\n",
       "      <td>0.0</td>\n",
       "      <td>0.0</td>\n",
       "      <td>0.000000</td>\n",
       "      <td>0.000000</td>\n",
       "      <td>0.001770</td>\n",
       "      <td>13.000000</td>\n",
       "      <td>1.0</td>\n",
       "      <td>27</td>\n",
       "    </tr>\n",
       "    <tr>\n",
       "      <th>3</th>\n",
       "      <td>4</td>\n",
       "      <td>167</td>\n",
       "      <td>0</td>\n",
       "      <td>0.0</td>\n",
       "      <td>Onboarding</td>\n",
       "      <td>Enrolled</td>\n",
       "      <td>Business</td>\n",
       "      <td>US</td>\n",
       "      <td>Internal Customer Scrape</td>\n",
       "      <td>None</td>\n",
       "      <td>...</td>\n",
       "      <td>0.100000</td>\n",
       "      <td>0.0</td>\n",
       "      <td>0.0</td>\n",
       "      <td>0.0</td>\n",
       "      <td>0.000000</td>\n",
       "      <td>0.000000</td>\n",
       "      <td>0.100000</td>\n",
       "      <td>NaN</td>\n",
       "      <td>NaN</td>\n",
       "      <td>25</td>\n",
       "    </tr>\n",
       "    <tr>\n",
       "      <th>4</th>\n",
       "      <td>5</td>\n",
       "      <td>168</td>\n",
       "      <td>0</td>\n",
       "      <td>0.0</td>\n",
       "      <td>Onboarding</td>\n",
       "      <td>Enrolled</td>\n",
       "      <td>Business</td>\n",
       "      <td>US</td>\n",
       "      <td>Gateway</td>\n",
       "      <td>None</td>\n",
       "      <td>...</td>\n",
       "      <td>0.072072</td>\n",
       "      <td>0.0</td>\n",
       "      <td>0.0</td>\n",
       "      <td>0.0</td>\n",
       "      <td>0.009524</td>\n",
       "      <td>0.016807</td>\n",
       "      <td>0.003465</td>\n",
       "      <td>8.333333</td>\n",
       "      <td>3.0</td>\n",
       "      <td>33</td>\n",
       "    </tr>\n",
       "  </tbody>\n",
       "</table>\n",
       "<p>5 rows × 184 columns</p>\n",
       "</div>"
      ],
      "text/plain": [
       "   Unnamed: 0  cuid  convert_30  revenue_30     roll_up currentstatus  \\\n",
       "0           1    20           0         0.0  Onboarding        Active   \n",
       "1           2    57           0         0.0  Onboarding        Active   \n",
       "2           3   163           0         0.0  Onboarding        Active   \n",
       "3           4   167           0         0.0  Onboarding      Enrolled   \n",
       "4           5   168           0         0.0  Onboarding      Enrolled   \n",
       "\n",
       "  companytypegroup team            customersource accrole  \\\n",
       "0         Business   US      External Application    None   \n",
       "1         Business   US      Internal Application    None   \n",
       "2         Business   US      Internal Application    None   \n",
       "3         Business   US  Internal Customer Scrape    None   \n",
       "4         Business   US                   Gateway    None   \n",
       "\n",
       "          ...          percemailopenedyearsixty percemailclickedone  \\\n",
       "0         ...                          0.000000                 0.0   \n",
       "1         ...                          0.020000                 0.0   \n",
       "2         ...                          0.106195                 0.0   \n",
       "3         ...                          0.100000                 0.0   \n",
       "4         ...                          0.072072                 0.0   \n",
       "\n",
       "  percemailclickedthreeone percemailclickedseventhree  \\\n",
       "0                      0.0                        0.0   \n",
       "1                      0.0                        0.0   \n",
       "2                      0.0                        0.0   \n",
       "3                      0.0                        0.0   \n",
       "4                      0.0                        0.0   \n",
       "\n",
       "   percemailclickedthirtyseven  percemailclickedsixtythirty  \\\n",
       "0                     0.190476                     0.000000   \n",
       "1                     0.040000                     0.000000   \n",
       "2                     0.000000                     0.000000   \n",
       "3                     0.000000                     0.000000   \n",
       "4                     0.009524                     0.016807   \n",
       "\n",
       "   percemailclickedyearsixty  currentapplicability  numemaillist  \\\n",
       "0                   0.000000              3.000000           1.0   \n",
       "1                   0.020000              3.000000           1.0   \n",
       "2                   0.001770             13.000000           1.0   \n",
       "3                   0.100000                   NaN           NaN   \n",
       "4                   0.003465              8.333333           3.0   \n",
       "\n",
       "   dayssinceenrollment  \n",
       "0                   17  \n",
       "1                   70  \n",
       "2                   27  \n",
       "3                   25  \n",
       "4                   33  \n",
       "\n",
       "[5 rows x 184 columns]"
      ]
     },
     "execution_count": 498,
     "metadata": {},
     "output_type": "execute_result"
    }
   ],
   "source": [
    "regression_data.head()"
   ]
  },
  {
   "cell_type": "code",
   "execution_count": 499,
   "metadata": {},
   "outputs": [],
   "source": [
    "regression_data = pd.get_dummies(regression_data,columns = hold_category_col_name)"
   ]
  },
  {
   "cell_type": "code",
   "execution_count": 500,
   "metadata": {},
   "outputs": [
    {
     "data": {
      "text/plain": [
       "(28126, 214)"
      ]
     },
     "execution_count": 500,
     "metadata": {},
     "output_type": "execute_result"
    }
   ],
   "source": [
    "regression_data.shape"
   ]
  },
  {
   "cell_type": "code",
   "execution_count": 501,
   "metadata": {},
   "outputs": [
    {
     "data": {
      "text/plain": [
       "0    5\n",
       "1    2\n",
       "2    1\n",
       "3    5\n",
       "4    3\n",
       "Name: num_employees, dtype: int64"
      ]
     },
     "execution_count": 501,
     "metadata": {},
     "output_type": "execute_result"
    }
   ],
   "source": [
    "# -- Handle ordinal columns (num_employees)--\n",
    "regression_data.num_employees = regression_data.num_employees.replace({\"None\":0,\"1\":1,\"2to5\":2,\"6to10\":3,\"11to50\":4,\"50plus\":5})\n",
    "regression_data['num_employees'].head()"
   ]
  },
  {
   "cell_type": "code",
   "execution_count": 502,
   "metadata": {},
   "outputs": [
    {
     "data": {
      "text/plain": [
       "0    1\n",
       "1    5\n",
       "2    2\n",
       "3    2\n",
       "4    4\n",
       "Name: num_purchases_year, dtype: int64"
      ]
     },
     "execution_count": 502,
     "metadata": {},
     "output_type": "execute_result"
    }
   ],
   "source": [
    "# -- Handle ordinal columns (num_purchases_year)--\n",
    "regression_data.num_purchases_year = regression_data.num_purchases_year.replace({'1to2':1, '25plus':5, '3to5':2, '11to25':4, 'None':0, '6to10':3})\n",
    "regression_data['num_purchases_year'].head()"
   ]
  },
  {
   "cell_type": "code",
   "execution_count": 503,
   "metadata": {},
   "outputs": [
    {
     "data": {
      "text/plain": [
       "0    1\n",
       "1    4\n",
       "2    2\n",
       "3    1\n",
       "4    3\n",
       "Name: cost_purchases_year, dtype: int64"
      ]
     },
     "execution_count": 503,
     "metadata": {},
     "output_type": "execute_result"
    }
   ],
   "source": [
    "# -- Handle ordinal columns (cost_purchases_year)--\n",
    "regression_data.cost_purchases_year = regression_data.cost_purchases_year.replace({'lessthan1':1, '25to100':4, '1to5':2, '5to25':3, 'None':0, '100plus':5})\n",
    "regression_data['cost_purchases_year'].head()"
   ]
  },
  {
   "cell_type": "code",
   "execution_count": 504,
   "metadata": {},
   "outputs": [],
   "source": [
    "cols = raw_data.columns\n",
    "numeric = raw_data._get_numeric_data().columns\n",
    "hold_category_col_name = list(set(cols) - set(numeric))"
   ]
  },
  {
   "cell_type": "code",
   "execution_count": 505,
   "metadata": {},
   "outputs": [],
   "source": [
    "hold_category = raw_data[hold_category_col_name]"
   ]
  },
  {
   "cell_type": "code",
   "execution_count": 506,
   "metadata": {},
   "outputs": [
    {
     "name": "stdout",
     "output_type": "stream",
     "text": [
      "['num_employees', 'enrollmentmethod', 'customersource', 'accrole', 'currentstatus', 'num_purchases_year', 'team', 'cost_purchases_year', 'roll_up', 'companytypegroup']\n"
     ]
    }
   ],
   "source": [
    "print(hold_category_col_name)"
   ]
  },
  {
   "cell_type": "code",
   "execution_count": 507,
   "metadata": {},
   "outputs": [],
   "source": [
    "hold_category_unique_values = []\n",
    "for i in range(len(hold_category_col_name)):\n",
    "#     temper = \n",
    "#     print(temper)\n",
    "    hold_category_unique_values.append(hold_category[hold_category_col_name[i]].unique())"
   ]
  },
  {
   "cell_type": "code",
   "execution_count": 508,
   "metadata": {},
   "outputs": [
    {
     "name": "stdout",
     "output_type": "stream",
     "text": [
      "num_employees  :  ['50plus' '2to5' '1' '6to10' 'None' '11to50']\n",
      "enrollmentmethod  :  ['directEIN' 'email' 'other' 'phone' 'liveTransfer' 'directOther']\n",
      "customersource  :  ['External Application' 'Internal Application' 'Internal Customer Scrape'\n",
      " 'Gateway' 'Social - Paid' 'Search - Paid' 'Other' 'Quotes' 'Affiliates'\n",
      " 'Referral' 'Bulk Upload' 'Email' 'Display - Retargeting'\n",
      " 'Display - Acquisition' 'Self ID' 'Partners']\n",
      "accrole  :  ['None' 'Primary' 'Purchaser' 'Other']\n",
      "currentstatus  :  ['Active' 'Enrolled' 'In Progress' 'Unconfirmed']\n",
      "num_purchases_year  :  ['1to2' '25plus' '3to5' '11to25' 'None' '6to10']\n",
      "team  :  ['US' 'CA']\n",
      "cost_purchases_year  :  ['lessthan1' '25to100' '1to5' '5to25' 'None' '100plus']\n",
      "roll_up  :  ['Onboarding' 'Retention' 'Unmanaged']\n",
      "companytypegroup  :  ['Business' 'Trade']\n"
     ]
    }
   ],
   "source": [
    "for i in range(len(hold_category_unique_values)):\n",
    "    print(hold_category_col_name[i],\" : \",hold_category_unique_values[i])"
   ]
  },
  {
   "cell_type": "code",
   "execution_count": 509,
   "metadata": {},
   "outputs": [],
   "source": [
    "# -- remove pre-processed columns from features to be preprocessed --\n",
    "hold_category_col_name.remove('num_purchases_year')\n",
    "hold_category_col_name.remove('cost_purchases_year')\n",
    "hold_category_col_name.remove('num_employees')"
   ]
  },
  {
   "cell_type": "code",
   "execution_count": 510,
   "metadata": {},
   "outputs": [
    {
     "name": "stdout",
     "output_type": "stream",
     "text": [
      "enrollmentmethod  :  ['directEIN' 'email' 'other' 'phone' 'liveTransfer' 'directOther']\n",
      "customersource  :  ['External Application' 'Internal Application' 'Internal Customer Scrape'\n",
      " 'Gateway' 'Social - Paid' 'Search - Paid' 'Other' 'Quotes' 'Affiliates'\n",
      " 'Referral' 'Bulk Upload' 'Email' 'Display - Retargeting'\n",
      " 'Display - Acquisition' 'Self ID' 'Partners']\n",
      "accrole  :  ['None' 'Primary' 'Purchaser' 'Other']\n",
      "currentstatus  :  ['Active' 'Enrolled' 'In Progress' 'Unconfirmed']\n",
      "team  :  ['US' 'CA']\n",
      "roll_up  :  ['Onboarding' 'Retention' 'Unmanaged']\n",
      "companytypegroup  :  ['Business' 'Trade']\n"
     ]
    }
   ],
   "source": [
    "hold_category_unique_values = []\n",
    "for i in range(len(hold_category_col_name)):\n",
    "#     temper = \n",
    "#     print(temper)\n",
    "    hold_category_unique_values.append(hold_category[hold_category_col_name[i]].unique())\n",
    "for i in range(len(hold_category_unique_values)):\n",
    "    print(hold_category_col_name[i],\" : \",hold_category_unique_values[i])"
   ]
  },
  {
   "cell_type": "code",
   "execution_count": 511,
   "metadata": {},
   "outputs": [
    {
     "data": {
      "text/html": [
       "<div>\n",
       "<style scoped>\n",
       "    .dataframe tbody tr th:only-of-type {\n",
       "        vertical-align: middle;\n",
       "    }\n",
       "\n",
       "    .dataframe tbody tr th {\n",
       "        vertical-align: top;\n",
       "    }\n",
       "\n",
       "    .dataframe thead th {\n",
       "        text-align: right;\n",
       "    }\n",
       "</style>\n",
       "<table border=\"1\" class=\"dataframe\">\n",
       "  <thead>\n",
       "    <tr style=\"text-align: right;\">\n",
       "      <th></th>\n",
       "      <th>Unnamed: 0</th>\n",
       "      <th>cuid</th>\n",
       "      <th>convert_30</th>\n",
       "      <th>revenue_30</th>\n",
       "      <th>num_employees</th>\n",
       "      <th>num_purchases_year</th>\n",
       "      <th>cost_purchases_year</th>\n",
       "      <th>numorderone</th>\n",
       "      <th>numorderthreeone</th>\n",
       "      <th>numorderseventhree</th>\n",
       "      <th>...</th>\n",
       "      <th>currentstatus_Enrolled</th>\n",
       "      <th>currentstatus_In Progress</th>\n",
       "      <th>currentstatus_Unconfirmed</th>\n",
       "      <th>team_CA</th>\n",
       "      <th>team_US</th>\n",
       "      <th>roll_up_Onboarding</th>\n",
       "      <th>roll_up_Retention</th>\n",
       "      <th>roll_up_Unmanaged</th>\n",
       "      <th>companytypegroup_Business</th>\n",
       "      <th>companytypegroup_Trade</th>\n",
       "    </tr>\n",
       "  </thead>\n",
       "  <tbody>\n",
       "    <tr>\n",
       "      <th>0</th>\n",
       "      <td>1</td>\n",
       "      <td>20</td>\n",
       "      <td>0</td>\n",
       "      <td>0.0</td>\n",
       "      <td>5</td>\n",
       "      <td>1</td>\n",
       "      <td>1</td>\n",
       "      <td>0.0</td>\n",
       "      <td>0.0</td>\n",
       "      <td>0.0</td>\n",
       "      <td>...</td>\n",
       "      <td>0</td>\n",
       "      <td>0</td>\n",
       "      <td>0</td>\n",
       "      <td>0</td>\n",
       "      <td>1</td>\n",
       "      <td>1</td>\n",
       "      <td>0</td>\n",
       "      <td>0</td>\n",
       "      <td>1</td>\n",
       "      <td>0</td>\n",
       "    </tr>\n",
       "    <tr>\n",
       "      <th>1</th>\n",
       "      <td>2</td>\n",
       "      <td>57</td>\n",
       "      <td>0</td>\n",
       "      <td>0.0</td>\n",
       "      <td>2</td>\n",
       "      <td>5</td>\n",
       "      <td>4</td>\n",
       "      <td>0.0</td>\n",
       "      <td>0.0</td>\n",
       "      <td>0.0</td>\n",
       "      <td>...</td>\n",
       "      <td>0</td>\n",
       "      <td>0</td>\n",
       "      <td>0</td>\n",
       "      <td>0</td>\n",
       "      <td>1</td>\n",
       "      <td>1</td>\n",
       "      <td>0</td>\n",
       "      <td>0</td>\n",
       "      <td>1</td>\n",
       "      <td>0</td>\n",
       "    </tr>\n",
       "    <tr>\n",
       "      <th>2</th>\n",
       "      <td>3</td>\n",
       "      <td>163</td>\n",
       "      <td>0</td>\n",
       "      <td>0.0</td>\n",
       "      <td>1</td>\n",
       "      <td>2</td>\n",
       "      <td>2</td>\n",
       "      <td>0.0</td>\n",
       "      <td>0.0</td>\n",
       "      <td>0.0</td>\n",
       "      <td>...</td>\n",
       "      <td>0</td>\n",
       "      <td>0</td>\n",
       "      <td>0</td>\n",
       "      <td>0</td>\n",
       "      <td>1</td>\n",
       "      <td>1</td>\n",
       "      <td>0</td>\n",
       "      <td>0</td>\n",
       "      <td>1</td>\n",
       "      <td>0</td>\n",
       "    </tr>\n",
       "    <tr>\n",
       "      <th>3</th>\n",
       "      <td>4</td>\n",
       "      <td>167</td>\n",
       "      <td>0</td>\n",
       "      <td>0.0</td>\n",
       "      <td>5</td>\n",
       "      <td>2</td>\n",
       "      <td>1</td>\n",
       "      <td>NaN</td>\n",
       "      <td>NaN</td>\n",
       "      <td>NaN</td>\n",
       "      <td>...</td>\n",
       "      <td>1</td>\n",
       "      <td>0</td>\n",
       "      <td>0</td>\n",
       "      <td>0</td>\n",
       "      <td>1</td>\n",
       "      <td>1</td>\n",
       "      <td>0</td>\n",
       "      <td>0</td>\n",
       "      <td>1</td>\n",
       "      <td>0</td>\n",
       "    </tr>\n",
       "    <tr>\n",
       "      <th>4</th>\n",
       "      <td>5</td>\n",
       "      <td>168</td>\n",
       "      <td>0</td>\n",
       "      <td>0.0</td>\n",
       "      <td>3</td>\n",
       "      <td>4</td>\n",
       "      <td>3</td>\n",
       "      <td>NaN</td>\n",
       "      <td>NaN</td>\n",
       "      <td>NaN</td>\n",
       "      <td>...</td>\n",
       "      <td>1</td>\n",
       "      <td>0</td>\n",
       "      <td>0</td>\n",
       "      <td>0</td>\n",
       "      <td>1</td>\n",
       "      <td>1</td>\n",
       "      <td>0</td>\n",
       "      <td>0</td>\n",
       "      <td>1</td>\n",
       "      <td>0</td>\n",
       "    </tr>\n",
       "  </tbody>\n",
       "</table>\n",
       "<p>5 rows × 214 columns</p>\n",
       "</div>"
      ],
      "text/plain": [
       "   Unnamed: 0  cuid  convert_30  revenue_30  num_employees  \\\n",
       "0           1    20           0         0.0              5   \n",
       "1           2    57           0         0.0              2   \n",
       "2           3   163           0         0.0              1   \n",
       "3           4   167           0         0.0              5   \n",
       "4           5   168           0         0.0              3   \n",
       "\n",
       "   num_purchases_year  cost_purchases_year  numorderone  numorderthreeone  \\\n",
       "0                   1                    1          0.0               0.0   \n",
       "1                   5                    4          0.0               0.0   \n",
       "2                   2                    2          0.0               0.0   \n",
       "3                   2                    1          NaN               NaN   \n",
       "4                   4                    3          NaN               NaN   \n",
       "\n",
       "   numorderseventhree           ...            currentstatus_Enrolled  \\\n",
       "0                 0.0           ...                                 0   \n",
       "1                 0.0           ...                                 0   \n",
       "2                 0.0           ...                                 0   \n",
       "3                 NaN           ...                                 1   \n",
       "4                 NaN           ...                                 1   \n",
       "\n",
       "   currentstatus_In Progress  currentstatus_Unconfirmed  team_CA  team_US  \\\n",
       "0                          0                          0        0        1   \n",
       "1                          0                          0        0        1   \n",
       "2                          0                          0        0        1   \n",
       "3                          0                          0        0        1   \n",
       "4                          0                          0        0        1   \n",
       "\n",
       "   roll_up_Onboarding  roll_up_Retention  roll_up_Unmanaged  \\\n",
       "0                   1                  0                  0   \n",
       "1                   1                  0                  0   \n",
       "2                   1                  0                  0   \n",
       "3                   1                  0                  0   \n",
       "4                   1                  0                  0   \n",
       "\n",
       "   companytypegroup_Business  companytypegroup_Trade  \n",
       "0                          1                       0  \n",
       "1                          1                       0  \n",
       "2                          1                       0  \n",
       "3                          1                       0  \n",
       "4                          1                       0  \n",
       "\n",
       "[5 rows x 214 columns]"
      ]
     },
     "execution_count": 511,
     "metadata": {},
     "output_type": "execute_result"
    }
   ],
   "source": [
    "regression_data.head()"
   ]
  },
  {
   "cell_type": "code",
   "execution_count": 512,
   "metadata": {},
   "outputs": [],
   "source": [
    "# -- impute mean for remaining missing values -- \n",
    "regression_data = regression_data.fillna(classification_data.mean())"
   ]
  },
  {
   "cell_type": "code",
   "execution_count": 513,
   "metadata": {},
   "outputs": [],
   "source": [
    "y_reg = regression_data['revenue_30']\n",
    "X_reg = regression_data.drop('revenue_30', axis = 1)"
   ]
  },
  {
   "cell_type": "code",
   "execution_count": 464,
   "metadata": {},
   "outputs": [],
   "source": [
    "X_train_reg, X_test_reg, y_train_reg, y_test_reg = train_test_split(X_reg, y_reg, test_size=0.2, random_state=42)"
   ]
  },
  {
   "cell_type": "code",
   "execution_count": 113,
   "metadata": {},
   "outputs": [],
   "source": [
    "# reg = linear_model.Ridge(alpha=.5)"
   ]
  },
  {
   "cell_type": "code",
   "execution_count": 270,
   "metadata": {},
   "outputs": [],
   "source": [
    "def ridge():\n",
    "    clf = RidgeCV(alphas=[1e-3, 1e-2, 1e-1, 1,10,100]).fit(X_train_reg, y_train_reg)\n",
    "#     clf = Ridge(alpha=10)\n",
    "#     clf.fit(X_train_reg, y_train_reg)\n",
    "#     scores_avg = sum(scores)/len(scores)\n",
    "#     reg.fit(X_train_reg,y_train_reg)\n",
    "#     predicted = clf.predict(X_test_class)\n",
    "#     return scores_avg, tester\n",
    "    print(clf.alpha_)\n",
    "    scores = clf.score(X_train_reg, y_train_reg)\n",
    "#     print(scores)\n",
    "#     predicted = clf.predict(X_test_class)\n",
    "    tester = clf.score(X_test_reg, y_test_reg) \n",
    "    predicts = RFR.predict(X_test_reg)\n",
    "#     print(mean_squared_error(y_test_reg,predicts))\n",
    "    rmse = sqrt(mean_squared_error(y_test_reg,predicts))\n",
    "    return scores, tester, rmse"
   ]
  },
  {
   "cell_type": "code",
   "execution_count": 271,
   "metadata": {},
   "outputs": [
    {
     "name": "stdout",
     "output_type": "stream",
     "text": [
      "100.0\n",
      "0.15202928819635675 0.08300349974040544 448.3682637980772\n"
     ]
    }
   ],
   "source": [
    "ridge_score, test_score_ridge, test_ridge_rmse = ridge()\n",
    "print(ridge_score,test_score_ridge, test_ridge_rmse)"
   ]
  },
  {
   "cell_type": "code",
   "execution_count": 223,
   "metadata": {},
   "outputs": [
    {
     "data": {
      "text/plain": [
       "10.0"
      ]
     },
     "execution_count": 223,
     "metadata": {},
     "output_type": "execute_result"
    }
   ],
   "source": [
    "reg = linear_model.RidgeCV(alphas=[0.1, 1.0, 10.0], cv=3)\n",
    "reg.fit(X_train_reg, y_train_reg)       \n",
    "RidgeCV(alphas=[0.1, 1.0, 10.0], cv=3, fit_intercept=True, scoring=None, normalize=False)\n",
    "reg.alpha_  "
   ]
  },
  {
   "cell_type": "code",
   "execution_count": 276,
   "metadata": {},
   "outputs": [],
   "source": [
    "def lasso():\n",
    "    reg = LassoCV(cv=5, random_state=0).fit(X_train_reg, y_train_reg)\n",
    "    trainer = reg.score(X_train_reg, y_train_reg)\n",
    "    tester = reg.score(X_test_reg, y_test_reg)\n",
    "    predicts = reg.predict(X_test_reg)\n",
    "    rmse = sqrt(mean_squared_error(y_test_reg,predicts))\n",
    "    return trainer,tester,rmse"
   ]
  },
  {
   "cell_type": "code",
   "execution_count": 277,
   "metadata": {},
   "outputs": [
    {
     "name": "stdout",
     "output_type": "stream",
     "text": [
      "0.07509458775877764 0.08933215824139462 433.3594811845323\n"
     ]
    }
   ],
   "source": [
    "lasso_score,test_score_lasso,test_lasso_rmse = lasso()\n",
    "print(lasso_score,test_score_lasso,test_lasso_rmse)"
   ]
  },
  {
   "cell_type": "code",
   "execution_count": 226,
   "metadata": {},
   "outputs": [
    {
     "data": {
      "text/plain": [
       "0.08933215824139462"
      ]
     },
     "execution_count": 226,
     "metadata": {},
     "output_type": "execute_result"
    }
   ],
   "source": []
  },
  {
   "cell_type": "code",
   "execution_count": 227,
   "metadata": {},
   "outputs": [],
   "source": []
  },
  {
   "cell_type": "code",
   "execution_count": 229,
   "metadata": {},
   "outputs": [
    {
     "name": "stdout",
     "output_type": "stream",
     "text": [
      "187800.439932527\n",
      "433.3594811845323\n"
     ]
    }
   ],
   "source": []
  },
  {
   "cell_type": "code",
   "execution_count": 293,
   "metadata": {},
   "outputs": [],
   "source": [
    "def DTR():\n",
    "    DTR = DecisionTreeRegressor(random_state=0)\n",
    "    scores = cross_val_score(DTR, X_train_reg, y_train_reg, cv=10)\n",
    "    cv_mean = scores.mean()\n",
    "    DTR.fit(X_train_reg, y_train_reg)\n",
    "    tester = DTR.score(X_test_reg, y_test_reg)\n",
    "    predicts = DTR.predict(X_test_reg)\n",
    "    rmse = sqrt(mean_squared_error(y_test_reg,predicts))\n",
    "    return cv_mean, tester, rmse"
   ]
  },
  {
   "cell_type": "code",
   "execution_count": 294,
   "metadata": {},
   "outputs": [],
   "source": [
    "DTR_train_score,DTR_test_score,DTR_rmse = DTR()"
   ]
  },
  {
   "cell_type": "code",
   "execution_count": 295,
   "metadata": {},
   "outputs": [
    {
     "name": "stdout",
     "output_type": "stream",
     "text": [
      "-1.8067860205857378 -1.3268676564406423 692.7142851853788\n"
     ]
    }
   ],
   "source": [
    "print(DTR_train_score,DTR_test_score,DTR_rmse)"
   ]
  },
  {
   "cell_type": "code",
   "execution_count": 233,
   "metadata": {},
   "outputs": [
    {
     "name": "stdout",
     "output_type": "stream",
     "text": [
      "[-3.54786439 -0.97898208 -3.33826562 -2.33562232 -1.31867654 -0.80360956\n",
      " -1.85799983 -1.63389038  0.06370337 -2.31665286]\n"
     ]
    }
   ],
   "source": []
  },
  {
   "cell_type": "code",
   "execution_count": 235,
   "metadata": {},
   "outputs": [
    {
     "data": {
      "text/plain": [
       "DecisionTreeRegressor(criterion='mse', max_depth=None, max_features=None,\n",
       "           max_leaf_nodes=None, min_impurity_decrease=0.0,\n",
       "           min_impurity_split=None, min_samples_leaf=1,\n",
       "           min_samples_split=2, min_weight_fraction_leaf=0.0,\n",
       "           presort=False, random_state=0, splitter='best')"
      ]
     },
     "execution_count": 235,
     "metadata": {},
     "output_type": "execute_result"
    }
   ],
   "source": []
  },
  {
   "cell_type": "code",
   "execution_count": 236,
   "metadata": {},
   "outputs": [
    {
     "name": "stdout",
     "output_type": "stream",
     "text": [
      "479853.08089989034\n",
      "692.7142851853788\n"
     ]
    }
   ],
   "source": []
  },
  {
   "cell_type": "code",
   "execution_count": 304,
   "metadata": {},
   "outputs": [],
   "source": [
    "def RFR(ne):\n",
    "    RFR = RandomForestRegressor(max_depth=ne, n_estimators=ne)\n",
    "    scores = cross_val_score(RFR,X_train_reg, y_train_reg,cv = 10).mean()\n",
    "    RFR.fit(X_train_reg, y_train_reg)\n",
    "    print(\"Inside RF:\", ne)\n",
    "#     predicted = clf.predict(X_test_class)\n",
    "    tester = RFR.score(X_test_reg, y_test_reg)\n",
    "    predicts = RFR.predict(X_test_reg)\n",
    "    rmse = sqrt(mean_squared_error(y_test_reg,predicts))\n",
    "    return scores,tester,rmse"
   ]
  },
  {
   "cell_type": "code",
   "execution_count": 305,
   "metadata": {},
   "outputs": [
    {
     "name": "stdout",
     "output_type": "stream",
     "text": [
      "Inside RF: 2\n",
      "Inside RF: 3\n",
      "Inside RF: 4\n",
      "Inside RF: 5\n",
      "Inside RF: 6\n",
      "Inside RF: 7\n",
      "Inside RF: 8\n",
      "Inside RF: 10\n",
      "Inside RF: 15\n",
      "Inside RF: 20\n",
      "Inside RF: 25\n",
      "[-0.26728358814466885, -0.21883343514318127, -0.15493539780492624, -0.14144534541187154, -0.11325367557023577, -0.10584118938782401, -0.16219870797129501, -0.166241247164958, -0.2564276011769136, -0.12526551898986185, -0.13977401087680502] [447.5434776824529, 479.50070039133715, 485.2242292052586, 452.24789677038376, 485.28619476860763, 581.4070488272429, 679.8702292388265, 437.0012555456064, 464.66894205858927, 473.71944911118214, 510.10319472653845]\n"
     ]
    }
   ],
   "source": [
    "holdRFRtr = []\n",
    "holdRFRte = []\n",
    "holdRFRrmse = []\n",
    "for i in range (2,9):\n",
    "    tr, te, rmse = RFR(i)\n",
    "    holdRFRtr.append(tr)\n",
    "    holdRFRte.append(te)\n",
    "    holdRFRrmse.append(rmse)\n",
    "for i in range (10,30,5):\n",
    "    tr, te, rmse = RFR(i)\n",
    "    holdRFRtr.append(tr)\n",
    "    holdRFRte.append(te)\n",
    "    holdRFRrmse.append(rmse)\n",
    "\n",
    "print(holdRFRtr, holdRFRrmse)"
   ]
  },
  {
   "cell_type": "code",
   "execution_count": 306,
   "metadata": {},
   "outputs": [
    {
     "name": "stdout",
     "output_type": "stream",
     "text": [
      "[0.028743675153092063, -0.11491533029880663, -0.14169040987629988, 0.008217349041829913, -0.14198202765808543, -0.6391699390254868, -1.2413797505278836, 0.07396209265955989, -0.047009655621579105, -0.08819274600473248, -0.26176792272512284]\n"
     ]
    }
   ],
   "source": [
    "print(holdRFRte)"
   ]
  },
  {
   "cell_type": "code",
   "execution_count": 349,
   "metadata": {},
   "outputs": [],
   "source": [
    "def XGBR(ne):\n",
    "    XGBR = GradientBoostingRegressor(n_estimators=ne, learning_rate=0.1, max_depth=ne)\n",
    "    scores = cross_val_score(XGBR,X_train_reg, y_train_reg,cv = 10).mean()\n",
    "    XGBR.fit(X_train_reg, y_train_reg)\n",
    "    print(\"Inside RF:\", ne)\n",
    "#     predicted = clf.predict(X_test_class)\n",
    "    tester = XGBR.score(X_test_reg, y_test_reg)\n",
    "    predicts = XGBR.predict(X_test_reg)\n",
    "    rmse = sqrt(mean_squared_error(y_test_reg,predicts))\n",
    "    return scores,tester,rmse"
   ]
  },
  {
   "cell_type": "code",
   "execution_count": 350,
   "metadata": {},
   "outputs": [
    {
     "name": "stdout",
     "output_type": "stream",
     "text": [
      "Inside RF: 2\n",
      "Inside RF: 3\n",
      "Inside RF: 4\n",
      "Inside RF: 5\n",
      "Inside RF: 6\n",
      "Inside RF: 7\n",
      "Inside RF: 8\n",
      "Inside RF: 10\n",
      "Inside RF: 15\n",
      "Inside RF: 20\n",
      "Inside RF: 25\n",
      "[-0.02379933670531984, -0.02040927997051135, -0.0013834210074344822, -0.014019933941128004, -0.06184324073861275, -0.05374581538786709, -0.09583964666260944, -0.12815822864152981, -0.27821959951195346, -0.39019885471254234, -0.4574552958249997] [-0.00014372909469773099, 0.011971029587900195, 0.028398915485460807, 0.050589803734376826, 0.09077912831234225, 0.0837853661839989, 0.07614686722979092, 0.07751550048656242, -0.050237014335651864, -0.18987263910651375, -0.4583555522698106] [454.1502006840214, 451.39125573465884, 447.62290123258373, 442.4816328221074, 433.01505951207514, 434.6772535170186, 436.48544889446305, 436.1620154973458, 465.3845512585522, 495.3572701826848, 548.40324006629]\n"
     ]
    }
   ],
   "source": [
    "holdXGBRtr = []\n",
    "holdXGBRte = []\n",
    "holdXGBRrmse = []\n",
    "for i in range (2,9):\n",
    "    tr, te, rmse = XGBR(i)\n",
    "    holdXGBRtr.append(tr)\n",
    "    holdXGBRte.append(te)\n",
    "    holdXGBRrmse.append(rmse)\n",
    "for i in range (10,30,5):\n",
    "    tr, te, rmse = XGBR(i)\n",
    "    holdXGBRtr.append(tr)\n",
    "    holdXGBRte.append(te)\n",
    "    holdXGBRrmse.append(rmse)\n",
    "print(holdXGBRtr, holdXGBRte, holdXGBRrmse)"
   ]
  },
  {
   "cell_type": "code",
   "execution_count": 244,
   "metadata": {},
   "outputs": [
    {
     "data": {
      "text/plain": [
       "AdaBoostRegressor(base_estimator=DecisionTreeRegressor(criterion='mse', max_depth=4, max_features=None,\n",
       "           max_leaf_nodes=None, min_impurity_decrease=0.0,\n",
       "           min_impurity_split=None, min_samples_leaf=1,\n",
       "           min_samples_split=2, min_weight_fraction_leaf=0.0,\n",
       "           presort=False, random_state=None, splitter='best'),\n",
       "         learning_rate=1.0, loss='linear', n_estimators=300,\n",
       "         random_state=25)"
      ]
     },
     "execution_count": 244,
     "metadata": {},
     "output_type": "execute_result"
    }
   ],
   "source": [
    "AdaR =  AdaBoostRegressor(DecisionTreeRegressor(max_depth=4), n_estimators=300, random_state=25)\n",
    "AdaR.fit(X_train_reg, y_train_reg)"
   ]
  },
  {
   "cell_type": "code",
   "execution_count": 245,
   "metadata": {},
   "outputs": [
    {
     "name": "stdout",
     "output_type": "stream",
     "text": [
      "3369254.7911812817\n",
      "1835.5529932914717\n"
     ]
    }
   ],
   "source": [
    "predicts = AdaR.predict(X_test_reg)\n",
    "print(mean_squared_error(y_test_reg,predicts))\n",
    "print(sqrt(mean_squared_error(y_test_reg,predicts)))"
   ]
  },
  {
   "cell_type": "code",
   "execution_count": 354,
   "metadata": {},
   "outputs": [
    {
     "data": {
      "text/plain": [
       "<matplotlib.legend.Legend at 0x17f00d02860>"
      ]
     },
     "execution_count": 354,
     "metadata": {},
     "output_type": "execute_result"
    },
    {
     "data": {
      "image/png": "[encoded data removed]",
      "text/plain": [
       "<Figure size 432x288 with 1 Axes>"
      ]
     },
     "metadata": {
      "needs_background": "light"
     },
     "output_type": "display_data"
    }
   ],
   "source": [
    "bag = [i for i in range(2,9)]+[i for i in range(10,30,5)]\n",
    "plt.plot(holdRFRtr,bag,'-o',label = 'Random Forest')\n",
    "plt.plot(holdXGBRtr,bag,'-o',label = 'Gradient Boosting')\n",
    "# plt.plot(holdAdatr,bag,'-o',label = 'AdaBoosting')\n",
    "plt.xlabel('Avg Accuracy after 10 fold cv')\n",
    "plt.ylabel('n_estimators and max_depth')\n",
    "plt.title('Regression models with 10-fold CV Accuracy on Training data')\n",
    "plt.legend()"
   ]
  },
  {
   "cell_type": "code",
   "execution_count": 358,
   "metadata": {},
   "outputs": [
    {
     "data": {
      "text/plain": [
       "<matplotlib.legend.Legend at 0x17f00dffba8>"
      ]
     },
     "execution_count": 358,
     "metadata": {},
     "output_type": "execute_result"
    },
    {
     "data": {
      "image/png": "[encoded data removed]",
      "text/plain": [
       "<Figure size 432x288 with 1 Axes>"
      ]
     },
     "metadata": {
      "needs_background": "light"
     },
     "output_type": "display_data"
    }
   ],
   "source": [
    "plt.plot(holdRFRte,bag,'-o',label = 'Random Forest')\n",
    "plt.plot(holdXGBRte,bag,'-o',label = 'Gradient Boosting')\n",
    "# plt.plot(holdAdatr,bag,'-o',label = 'AdaBoosting')\n",
    "plt.xlabel('Avg Accuracy ')\n",
    "plt.ylabel('n_estimators and max_depth')\n",
    "plt.title('Regression models on Testing Data')\n",
    "plt.legend()"
   ]
  },
  {
   "cell_type": "code",
   "execution_count": 356,
   "metadata": {},
   "outputs": [
    {
     "data": {
      "text/plain": [
       "<matplotlib.legend.Legend at 0x17f00d80470>"
      ]
     },
     "execution_count": 356,
     "metadata": {},
     "output_type": "execute_result"
    },
    {
     "data": {
      "image/png": "[encoded data removed]",
      "text/plain": [
       "<Figure size 432x288 with 1 Axes>"
      ]
     },
     "metadata": {
      "needs_background": "light"
     },
     "output_type": "display_data"
    }
   ],
   "source": [
    "plt.plot(holdRFRrmse,bag,'-o',label = 'Random Forest')\n",
    "plt.plot(holdXGBRrmse,bag,'-o',label = 'Gradient Boosting')\n",
    "# plt.plot(holdAdatr,bag,'-o',label = 'AdaBoosting')\n",
    "plt.xlabel('RMSE')\n",
    "plt.ylabel('n_estimators and max_depth')\n",
    "plt.title('Regression models RMSE on Testing data')\n",
    "plt.legend()"
   ]
  },
  {
   "cell_type": "code",
   "execution_count": 481,
   "metadata": {},
   "outputs": [
    {
     "data": {
      "text/plain": [
       "(28126, 213)"
      ]
     },
     "execution_count": 481,
     "metadata": {},
     "output_type": "execute_result"
    }
   ],
   "source": [
    "classification_data.shape"
   ]
  },
  {
   "cell_type": "code",
   "execution_count": 482,
   "metadata": {},
   "outputs": [
    {
     "data": {
      "text/plain": [
       "RandomForestClassifier(bootstrap=True, class_weight=None, criterion='gini',\n",
       "            max_depth=7, max_features='auto', max_leaf_nodes=None,\n",
       "            min_impurity_decrease=0.0, min_impurity_split=None,\n",
       "            min_samples_leaf=1, min_samples_split=2,\n",
       "            min_weight_fraction_leaf=0.0, n_estimators=7, n_jobs=1,\n",
       "            oob_score=False, random_state=None, verbose=0,\n",
       "            warm_start=False)"
      ]
     },
     "execution_count": 482,
     "metadata": {},
     "output_type": "execute_result"
    }
   ],
   "source": [
    "clf = RandomForestClassifier(n_estimators = 7, max_depth = 7)\n",
    "clf.fit(X_class,y_class)"
   ]
  },
  {
   "cell_type": "code",
   "execution_count": 483,
   "metadata": {},
   "outputs": [],
   "source": [
    "final_data = pd.read_csv('df_holdout_scholarjet.csv')"
   ]
  },
  {
   "cell_type": "code",
   "execution_count": 484,
   "metadata": {},
   "outputs": [],
   "source": [
    "# -- pre-process final data --\n",
    "final_data = pd.get_dummies(final_data,columns = hold_category_col_name)\n"
   ]
  },
  {
   "cell_type": "code",
   "execution_count": 485,
   "metadata": {},
   "outputs": [],
   "source": [
    "# -- Handle ordinal columns (num_employees)--\n",
    "final_data.num_employees = final_data.num_employees.replace({\"None\":0,\"1\":1,\"2to5\":2,\"6to10\":3,\"11to50\":4,\"50plus\":5})\n",
    "# -- Handle ordinal columns (num_purchases_year)--\n",
    "final_data.num_purchases_year = final_data.num_purchases_year.replace({'1to2':1, '25plus':5, '3to5':2, '11to25':4, 'None':0, '6to10':3})\n",
    "# -- Handle ordinal columns (cost_purchases_year)--\n",
    "final_data.cost_purchases_year = final_data.cost_purchases_year.replace({'lessthan1':1, '25to100':4, '1to5':2, '5to25':3, 'None':0, '100plus':5})\n",
    "final_data = final_data.fillna(classification_data.mean())"
   ]
  },
  {
   "cell_type": "code",
   "execution_count": 486,
   "metadata": {},
   "outputs": [],
   "source": [
    "classpredicts = clf.predict(final_data)"
   ]
  },
  {
   "cell_type": "code",
   "execution_count": 493,
   "metadata": {},
   "outputs": [
    {
     "data": {
      "text/plain": [
       "(30375,)"
      ]
     },
     "execution_count": 493,
     "metadata": {},
     "output_type": "execute_result"
    }
   ],
   "source": [
    "classpredicts.shape"
   ]
  },
  {
   "cell_type": "code",
   "execution_count": 514,
   "metadata": {},
   "outputs": [
    {
     "data": {
      "text/html": [
       "<div>\n",
       "<style scoped>\n",
       "    .dataframe tbody tr th:only-of-type {\n",
       "        vertical-align: middle;\n",
       "    }\n",
       "\n",
       "    .dataframe tbody tr th {\n",
       "        vertical-align: top;\n",
       "    }\n",
       "\n",
       "    .dataframe thead th {\n",
       "        text-align: right;\n",
       "    }\n",
       "</style>\n",
       "<table border=\"1\" class=\"dataframe\">\n",
       "  <thead>\n",
       "    <tr style=\"text-align: right;\">\n",
       "      <th></th>\n",
       "      <th>Unnamed: 0</th>\n",
       "      <th>cuid</th>\n",
       "      <th>convert_30</th>\n",
       "      <th>num_employees</th>\n",
       "      <th>num_purchases_year</th>\n",
       "      <th>cost_purchases_year</th>\n",
       "      <th>numorderone</th>\n",
       "      <th>numorderthreeone</th>\n",
       "      <th>numorderseventhree</th>\n",
       "      <th>numorderthirtyseven</th>\n",
       "      <th>...</th>\n",
       "      <th>currentstatus_Enrolled</th>\n",
       "      <th>currentstatus_In Progress</th>\n",
       "      <th>currentstatus_Unconfirmed</th>\n",
       "      <th>team_CA</th>\n",
       "      <th>team_US</th>\n",
       "      <th>roll_up_Onboarding</th>\n",
       "      <th>roll_up_Retention</th>\n",
       "      <th>roll_up_Unmanaged</th>\n",
       "      <th>companytypegroup_Business</th>\n",
       "      <th>companytypegroup_Trade</th>\n",
       "    </tr>\n",
       "  </thead>\n",
       "  <tbody>\n",
       "    <tr>\n",
       "      <th>0</th>\n",
       "      <td>1</td>\n",
       "      <td>20</td>\n",
       "      <td>0</td>\n",
       "      <td>5</td>\n",
       "      <td>1</td>\n",
       "      <td>1</td>\n",
       "      <td>0.000000</td>\n",
       "      <td>0.000000</td>\n",
       "      <td>0.000000</td>\n",
       "      <td>1.000000</td>\n",
       "      <td>...</td>\n",
       "      <td>0</td>\n",
       "      <td>0</td>\n",
       "      <td>0</td>\n",
       "      <td>0</td>\n",
       "      <td>1</td>\n",
       "      <td>1</td>\n",
       "      <td>0</td>\n",
       "      <td>0</td>\n",
       "      <td>1</td>\n",
       "      <td>0</td>\n",
       "    </tr>\n",
       "    <tr>\n",
       "      <th>1</th>\n",
       "      <td>2</td>\n",
       "      <td>57</td>\n",
       "      <td>0</td>\n",
       "      <td>2</td>\n",
       "      <td>5</td>\n",
       "      <td>4</td>\n",
       "      <td>0.000000</td>\n",
       "      <td>0.000000</td>\n",
       "      <td>0.000000</td>\n",
       "      <td>0.000000</td>\n",
       "      <td>...</td>\n",
       "      <td>0</td>\n",
       "      <td>0</td>\n",
       "      <td>0</td>\n",
       "      <td>0</td>\n",
       "      <td>1</td>\n",
       "      <td>1</td>\n",
       "      <td>0</td>\n",
       "      <td>0</td>\n",
       "      <td>1</td>\n",
       "      <td>0</td>\n",
       "    </tr>\n",
       "    <tr>\n",
       "      <th>2</th>\n",
       "      <td>3</td>\n",
       "      <td>163</td>\n",
       "      <td>0</td>\n",
       "      <td>1</td>\n",
       "      <td>2</td>\n",
       "      <td>2</td>\n",
       "      <td>0.000000</td>\n",
       "      <td>0.000000</td>\n",
       "      <td>0.000000</td>\n",
       "      <td>1.000000</td>\n",
       "      <td>...</td>\n",
       "      <td>0</td>\n",
       "      <td>0</td>\n",
       "      <td>0</td>\n",
       "      <td>0</td>\n",
       "      <td>1</td>\n",
       "      <td>1</td>\n",
       "      <td>0</td>\n",
       "      <td>0</td>\n",
       "      <td>1</td>\n",
       "      <td>0</td>\n",
       "    </tr>\n",
       "    <tr>\n",
       "      <th>3</th>\n",
       "      <td>4</td>\n",
       "      <td>167</td>\n",
       "      <td>0</td>\n",
       "      <td>5</td>\n",
       "      <td>2</td>\n",
       "      <td>1</td>\n",
       "      <td>0.022367</td>\n",
       "      <td>0.037827</td>\n",
       "      <td>0.078231</td>\n",
       "      <td>0.336425</td>\n",
       "      <td>...</td>\n",
       "      <td>1</td>\n",
       "      <td>0</td>\n",
       "      <td>0</td>\n",
       "      <td>0</td>\n",
       "      <td>1</td>\n",
       "      <td>1</td>\n",
       "      <td>0</td>\n",
       "      <td>0</td>\n",
       "      <td>1</td>\n",
       "      <td>0</td>\n",
       "    </tr>\n",
       "    <tr>\n",
       "      <th>4</th>\n",
       "      <td>5</td>\n",
       "      <td>168</td>\n",
       "      <td>0</td>\n",
       "      <td>3</td>\n",
       "      <td>4</td>\n",
       "      <td>3</td>\n",
       "      <td>0.022367</td>\n",
       "      <td>0.037827</td>\n",
       "      <td>0.078231</td>\n",
       "      <td>0.336425</td>\n",
       "      <td>...</td>\n",
       "      <td>1</td>\n",
       "      <td>0</td>\n",
       "      <td>0</td>\n",
       "      <td>0</td>\n",
       "      <td>1</td>\n",
       "      <td>1</td>\n",
       "      <td>0</td>\n",
       "      <td>0</td>\n",
       "      <td>1</td>\n",
       "      <td>0</td>\n",
       "    </tr>\n",
       "  </tbody>\n",
       "</table>\n",
       "<p>5 rows × 213 columns</p>\n",
       "</div>"
      ],
      "text/plain": [
       "   Unnamed: 0  cuid  convert_30  num_employees  num_purchases_year  \\\n",
       "0           1    20           0              5                   1   \n",
       "1           2    57           0              2                   5   \n",
       "2           3   163           0              1                   2   \n",
       "3           4   167           0              5                   2   \n",
       "4           5   168           0              3                   4   \n",
       "\n",
       "   cost_purchases_year  numorderone  numorderthreeone  numorderseventhree  \\\n",
       "0                    1     0.000000          0.000000            0.000000   \n",
       "1                    4     0.000000          0.000000            0.000000   \n",
       "2                    2     0.000000          0.000000            0.000000   \n",
       "3                    1     0.022367          0.037827            0.078231   \n",
       "4                    3     0.022367          0.037827            0.078231   \n",
       "\n",
       "   numorderthirtyseven           ...            currentstatus_Enrolled  \\\n",
       "0             1.000000           ...                                 0   \n",
       "1             0.000000           ...                                 0   \n",
       "2             1.000000           ...                                 0   \n",
       "3             0.336425           ...                                 1   \n",
       "4             0.336425           ...                                 1   \n",
       "\n",
       "   currentstatus_In Progress  currentstatus_Unconfirmed  team_CA  team_US  \\\n",
       "0                          0                          0        0        1   \n",
       "1                          0                          0        0        1   \n",
       "2                          0                          0        0        1   \n",
       "3                          0                          0        0        1   \n",
       "4                          0                          0        0        1   \n",
       "\n",
       "   roll_up_Onboarding  roll_up_Retention  roll_up_Unmanaged  \\\n",
       "0                   1                  0                  0   \n",
       "1                   1                  0                  0   \n",
       "2                   1                  0                  0   \n",
       "3                   1                  0                  0   \n",
       "4                   1                  0                  0   \n",
       "\n",
       "   companytypegroup_Business  companytypegroup_Trade  \n",
       "0                          1                       0  \n",
       "1                          1                       0  \n",
       "2                          1                       0  \n",
       "3                          1                       0  \n",
       "4                          1                       0  \n",
       "\n",
       "[5 rows x 213 columns]"
      ]
     },
     "execution_count": 514,
     "metadata": {},
     "output_type": "execute_result"
    }
   ],
   "source": [
    "X_reg.head()"
   ]
  },
  {
   "cell_type": "code",
   "execution_count": 515,
   "metadata": {},
   "outputs": [
    {
     "data": {
      "text/plain": [
       "GradientBoostingRegressor(alpha=0.9, criterion='friedman_mse', init=None,\n",
       "             learning_rate=0.1, loss='ls', max_depth=6, max_features=None,\n",
       "             max_leaf_nodes=None, min_impurity_decrease=0.0,\n",
       "             min_impurity_split=None, min_samples_leaf=1,\n",
       "             min_samples_split=2, min_weight_fraction_leaf=0.0,\n",
       "             n_estimators=6, presort='auto', random_state=None,\n",
       "             subsample=1.0, verbose=0, warm_start=False)"
      ]
     },
     "execution_count": 515,
     "metadata": {},
     "output_type": "execute_result"
    }
   ],
   "source": [
    "rf = GradientBoostingRegressor(n_estimators=6, learning_rate=0.1, max_depth=6)\n",
    "rf.fit(X_reg,y_reg)"
   ]
  },
  {
   "cell_type": "code",
   "execution_count": 516,
   "metadata": {},
   "outputs": [
    {
     "data": {
      "text/html": [
       "<div>\n",
       "<style scoped>\n",
       "    .dataframe tbody tr th:only-of-type {\n",
       "        vertical-align: middle;\n",
       "    }\n",
       "\n",
       "    .dataframe tbody tr th {\n",
       "        vertical-align: top;\n",
       "    }\n",
       "\n",
       "    .dataframe thead th {\n",
       "        text-align: right;\n",
       "    }\n",
       "</style>\n",
       "<table border=\"1\" class=\"dataframe\">\n",
       "  <thead>\n",
       "    <tr style=\"text-align: right;\">\n",
       "      <th></th>\n",
       "      <th>Unnamed: 0</th>\n",
       "      <th>cuid</th>\n",
       "      <th>convert_30</th>\n",
       "      <th>revenue_30</th>\n",
       "      <th>roll_up</th>\n",
       "      <th>currentstatus</th>\n",
       "      <th>companytypegroup</th>\n",
       "      <th>team</th>\n",
       "      <th>customersource</th>\n",
       "      <th>accrole</th>\n",
       "      <th>...</th>\n",
       "      <th>percemailopenedyearsixty</th>\n",
       "      <th>percemailclickedone</th>\n",
       "      <th>percemailclickedthreeone</th>\n",
       "      <th>percemailclickedseventhree</th>\n",
       "      <th>percemailclickedthirtyseven</th>\n",
       "      <th>percemailclickedsixtythirty</th>\n",
       "      <th>percemailclickedyearsixty</th>\n",
       "      <th>currentapplicability</th>\n",
       "      <th>numemaillist</th>\n",
       "      <th>dayssinceenrollment</th>\n",
       "    </tr>\n",
       "  </thead>\n",
       "  <tbody>\n",
       "    <tr>\n",
       "      <th>0</th>\n",
       "      <td>1</td>\n",
       "      <td>20</td>\n",
       "      <td>0</td>\n",
       "      <td>0.0</td>\n",
       "      <td>Onboarding</td>\n",
       "      <td>Active</td>\n",
       "      <td>Business</td>\n",
       "      <td>US</td>\n",
       "      <td>External Application</td>\n",
       "      <td>None</td>\n",
       "      <td>...</td>\n",
       "      <td>0.000000</td>\n",
       "      <td>0.0</td>\n",
       "      <td>0.0</td>\n",
       "      <td>0.0</td>\n",
       "      <td>0.190476</td>\n",
       "      <td>0.000000</td>\n",
       "      <td>0.000000</td>\n",
       "      <td>3.000000</td>\n",
       "      <td>1.0</td>\n",
       "      <td>17</td>\n",
       "    </tr>\n",
       "    <tr>\n",
       "      <th>1</th>\n",
       "      <td>2</td>\n",
       "      <td>57</td>\n",
       "      <td>0</td>\n",
       "      <td>0.0</td>\n",
       "      <td>Onboarding</td>\n",
       "      <td>Active</td>\n",
       "      <td>Business</td>\n",
       "      <td>US</td>\n",
       "      <td>Internal Application</td>\n",
       "      <td>None</td>\n",
       "      <td>...</td>\n",
       "      <td>0.020000</td>\n",
       "      <td>0.0</td>\n",
       "      <td>0.0</td>\n",
       "      <td>0.0</td>\n",
       "      <td>0.040000</td>\n",
       "      <td>0.000000</td>\n",
       "      <td>0.020000</td>\n",
       "      <td>3.000000</td>\n",
       "      <td>1.0</td>\n",
       "      <td>70</td>\n",
       "    </tr>\n",
       "    <tr>\n",
       "      <th>2</th>\n",
       "      <td>3</td>\n",
       "      <td>163</td>\n",
       "      <td>0</td>\n",
       "      <td>0.0</td>\n",
       "      <td>Onboarding</td>\n",
       "      <td>Active</td>\n",
       "      <td>Business</td>\n",
       "      <td>US</td>\n",
       "      <td>Internal Application</td>\n",
       "      <td>None</td>\n",
       "      <td>...</td>\n",
       "      <td>0.106195</td>\n",
       "      <td>0.0</td>\n",
       "      <td>0.0</td>\n",
       "      <td>0.0</td>\n",
       "      <td>0.000000</td>\n",
       "      <td>0.000000</td>\n",
       "      <td>0.001770</td>\n",
       "      <td>13.000000</td>\n",
       "      <td>1.0</td>\n",
       "      <td>27</td>\n",
       "    </tr>\n",
       "    <tr>\n",
       "      <th>3</th>\n",
       "      <td>4</td>\n",
       "      <td>167</td>\n",
       "      <td>0</td>\n",
       "      <td>0.0</td>\n",
       "      <td>Onboarding</td>\n",
       "      <td>Enrolled</td>\n",
       "      <td>Business</td>\n",
       "      <td>US</td>\n",
       "      <td>Internal Customer Scrape</td>\n",
       "      <td>None</td>\n",
       "      <td>...</td>\n",
       "      <td>0.100000</td>\n",
       "      <td>0.0</td>\n",
       "      <td>0.0</td>\n",
       "      <td>0.0</td>\n",
       "      <td>0.000000</td>\n",
       "      <td>0.000000</td>\n",
       "      <td>0.100000</td>\n",
       "      <td>NaN</td>\n",
       "      <td>NaN</td>\n",
       "      <td>25</td>\n",
       "    </tr>\n",
       "    <tr>\n",
       "      <th>4</th>\n",
       "      <td>5</td>\n",
       "      <td>168</td>\n",
       "      <td>0</td>\n",
       "      <td>0.0</td>\n",
       "      <td>Onboarding</td>\n",
       "      <td>Enrolled</td>\n",
       "      <td>Business</td>\n",
       "      <td>US</td>\n",
       "      <td>Gateway</td>\n",
       "      <td>None</td>\n",
       "      <td>...</td>\n",
       "      <td>0.072072</td>\n",
       "      <td>0.0</td>\n",
       "      <td>0.0</td>\n",
       "      <td>0.0</td>\n",
       "      <td>0.009524</td>\n",
       "      <td>0.016807</td>\n",
       "      <td>0.003465</td>\n",
       "      <td>8.333333</td>\n",
       "      <td>3.0</td>\n",
       "      <td>33</td>\n",
       "    </tr>\n",
       "  </tbody>\n",
       "</table>\n",
       "<p>5 rows × 184 columns</p>\n",
       "</div>"
      ],
      "text/plain": [
       "   Unnamed: 0  cuid  convert_30  revenue_30     roll_up currentstatus  \\\n",
       "0           1    20           0         0.0  Onboarding        Active   \n",
       "1           2    57           0         0.0  Onboarding        Active   \n",
       "2           3   163           0         0.0  Onboarding        Active   \n",
       "3           4   167           0         0.0  Onboarding      Enrolled   \n",
       "4           5   168           0         0.0  Onboarding      Enrolled   \n",
       "\n",
       "  companytypegroup team            customersource accrole  \\\n",
       "0         Business   US      External Application    None   \n",
       "1         Business   US      Internal Application    None   \n",
       "2         Business   US      Internal Application    None   \n",
       "3         Business   US  Internal Customer Scrape    None   \n",
       "4         Business   US                   Gateway    None   \n",
       "\n",
       "          ...          percemailopenedyearsixty percemailclickedone  \\\n",
       "0         ...                          0.000000                 0.0   \n",
       "1         ...                          0.020000                 0.0   \n",
       "2         ...                          0.106195                 0.0   \n",
       "3         ...                          0.100000                 0.0   \n",
       "4         ...                          0.072072                 0.0   \n",
       "\n",
       "  percemailclickedthreeone percemailclickedseventhree  \\\n",
       "0                      0.0                        0.0   \n",
       "1                      0.0                        0.0   \n",
       "2                      0.0                        0.0   \n",
       "3                      0.0                        0.0   \n",
       "4                      0.0                        0.0   \n",
       "\n",
       "   percemailclickedthirtyseven  percemailclickedsixtythirty  \\\n",
       "0                     0.190476                     0.000000   \n",
       "1                     0.040000                     0.000000   \n",
       "2                     0.000000                     0.000000   \n",
       "3                     0.000000                     0.000000   \n",
       "4                     0.009524                     0.016807   \n",
       "\n",
       "   percemailclickedyearsixty  currentapplicability  numemaillist  \\\n",
       "0                   0.000000              3.000000           1.0   \n",
       "1                   0.020000              3.000000           1.0   \n",
       "2                   0.001770             13.000000           1.0   \n",
       "3                   0.100000                   NaN           NaN   \n",
       "4                   0.003465              8.333333           3.0   \n",
       "\n",
       "   dayssinceenrollment  \n",
       "0                   17  \n",
       "1                   70  \n",
       "2                   27  \n",
       "3                   25  \n",
       "4                   33  \n",
       "\n",
       "[5 rows x 184 columns]"
      ]
     },
     "execution_count": 516,
     "metadata": {},
     "output_type": "execute_result"
    }
   ],
   "source": [
    "raw_data.head()"
   ]
  },
  {
   "cell_type": "code",
   "execution_count": 517,
   "metadata": {},
   "outputs": [
    {
     "data": {
      "text/html": [
       "<div>\n",
       "<style scoped>\n",
       "    .dataframe tbody tr th:only-of-type {\n",
       "        vertical-align: middle;\n",
       "    }\n",
       "\n",
       "    .dataframe tbody tr th {\n",
       "        vertical-align: top;\n",
       "    }\n",
       "\n",
       "    .dataframe thead th {\n",
       "        text-align: right;\n",
       "    }\n",
       "</style>\n",
       "<table border=\"1\" class=\"dataframe\">\n",
       "  <thead>\n",
       "    <tr style=\"text-align: right;\">\n",
       "      <th></th>\n",
       "      <th>Unnamed: 0</th>\n",
       "      <th>cuid</th>\n",
       "      <th>convert_30</th>\n",
       "      <th>num_employees</th>\n",
       "      <th>num_purchases_year</th>\n",
       "      <th>cost_purchases_year</th>\n",
       "      <th>numorderone</th>\n",
       "      <th>numorderthreeone</th>\n",
       "      <th>numorderseventhree</th>\n",
       "      <th>numorderthirtyseven</th>\n",
       "      <th>...</th>\n",
       "      <th>currentstatus_Enrolled</th>\n",
       "      <th>currentstatus_In Progress</th>\n",
       "      <th>currentstatus_Unconfirmed</th>\n",
       "      <th>team_CA</th>\n",
       "      <th>team_US</th>\n",
       "      <th>roll_up_Onboarding</th>\n",
       "      <th>roll_up_Retention</th>\n",
       "      <th>roll_up_Unmanaged</th>\n",
       "      <th>companytypegroup_Business</th>\n",
       "      <th>companytypegroup_Trade</th>\n",
       "    </tr>\n",
       "  </thead>\n",
       "  <tbody>\n",
       "    <tr>\n",
       "      <th>0</th>\n",
       "      <td>1</td>\n",
       "      <td>20</td>\n",
       "      <td>0</td>\n",
       "      <td>5</td>\n",
       "      <td>1</td>\n",
       "      <td>1</td>\n",
       "      <td>0.000000</td>\n",
       "      <td>0.000000</td>\n",
       "      <td>0.000000</td>\n",
       "      <td>1.000000</td>\n",
       "      <td>...</td>\n",
       "      <td>0</td>\n",
       "      <td>0</td>\n",
       "      <td>0</td>\n",
       "      <td>0</td>\n",
       "      <td>1</td>\n",
       "      <td>1</td>\n",
       "      <td>0</td>\n",
       "      <td>0</td>\n",
       "      <td>1</td>\n",
       "      <td>0</td>\n",
       "    </tr>\n",
       "    <tr>\n",
       "      <th>1</th>\n",
       "      <td>2</td>\n",
       "      <td>57</td>\n",
       "      <td>0</td>\n",
       "      <td>2</td>\n",
       "      <td>5</td>\n",
       "      <td>4</td>\n",
       "      <td>0.000000</td>\n",
       "      <td>0.000000</td>\n",
       "      <td>0.000000</td>\n",
       "      <td>0.000000</td>\n",
       "      <td>...</td>\n",
       "      <td>0</td>\n",
       "      <td>0</td>\n",
       "      <td>0</td>\n",
       "      <td>0</td>\n",
       "      <td>1</td>\n",
       "      <td>1</td>\n",
       "      <td>0</td>\n",
       "      <td>0</td>\n",
       "      <td>1</td>\n",
       "      <td>0</td>\n",
       "    </tr>\n",
       "    <tr>\n",
       "      <th>2</th>\n",
       "      <td>3</td>\n",
       "      <td>163</td>\n",
       "      <td>0</td>\n",
       "      <td>1</td>\n",
       "      <td>2</td>\n",
       "      <td>2</td>\n",
       "      <td>0.000000</td>\n",
       "      <td>0.000000</td>\n",
       "      <td>0.000000</td>\n",
       "      <td>1.000000</td>\n",
       "      <td>...</td>\n",
       "      <td>0</td>\n",
       "      <td>0</td>\n",
       "      <td>0</td>\n",
       "      <td>0</td>\n",
       "      <td>1</td>\n",
       "      <td>1</td>\n",
       "      <td>0</td>\n",
       "      <td>0</td>\n",
       "      <td>1</td>\n",
       "      <td>0</td>\n",
       "    </tr>\n",
       "    <tr>\n",
       "      <th>3</th>\n",
       "      <td>4</td>\n",
       "      <td>167</td>\n",
       "      <td>0</td>\n",
       "      <td>5</td>\n",
       "      <td>2</td>\n",
       "      <td>1</td>\n",
       "      <td>0.022367</td>\n",
       "      <td>0.037827</td>\n",
       "      <td>0.078231</td>\n",
       "      <td>0.336425</td>\n",
       "      <td>...</td>\n",
       "      <td>1</td>\n",
       "      <td>0</td>\n",
       "      <td>0</td>\n",
       "      <td>0</td>\n",
       "      <td>1</td>\n",
       "      <td>1</td>\n",
       "      <td>0</td>\n",
       "      <td>0</td>\n",
       "      <td>1</td>\n",
       "      <td>0</td>\n",
       "    </tr>\n",
       "    <tr>\n",
       "      <th>4</th>\n",
       "      <td>5</td>\n",
       "      <td>168</td>\n",
       "      <td>0</td>\n",
       "      <td>3</td>\n",
       "      <td>4</td>\n",
       "      <td>3</td>\n",
       "      <td>0.022367</td>\n",
       "      <td>0.037827</td>\n",
       "      <td>0.078231</td>\n",
       "      <td>0.336425</td>\n",
       "      <td>...</td>\n",
       "      <td>1</td>\n",
       "      <td>0</td>\n",
       "      <td>0</td>\n",
       "      <td>0</td>\n",
       "      <td>1</td>\n",
       "      <td>1</td>\n",
       "      <td>0</td>\n",
       "      <td>0</td>\n",
       "      <td>1</td>\n",
       "      <td>0</td>\n",
       "    </tr>\n",
       "  </tbody>\n",
       "</table>\n",
       "<p>5 rows × 213 columns</p>\n",
       "</div>"
      ],
      "text/plain": [
       "   Unnamed: 0  cuid  convert_30  num_employees  num_purchases_year  \\\n",
       "0           1    20           0              5                   1   \n",
       "1           2    57           0              2                   5   \n",
       "2           3   163           0              1                   2   \n",
       "3           4   167           0              5                   2   \n",
       "4           5   168           0              3                   4   \n",
       "\n",
       "   cost_purchases_year  numorderone  numorderthreeone  numorderseventhree  \\\n",
       "0                    1     0.000000          0.000000            0.000000   \n",
       "1                    4     0.000000          0.000000            0.000000   \n",
       "2                    2     0.000000          0.000000            0.000000   \n",
       "3                    1     0.022367          0.037827            0.078231   \n",
       "4                    3     0.022367          0.037827            0.078231   \n",
       "\n",
       "   numorderthirtyseven           ...            currentstatus_Enrolled  \\\n",
       "0             1.000000           ...                                 0   \n",
       "1             0.000000           ...                                 0   \n",
       "2             1.000000           ...                                 0   \n",
       "3             0.336425           ...                                 1   \n",
       "4             0.336425           ...                                 1   \n",
       "\n",
       "   currentstatus_In Progress  currentstatus_Unconfirmed  team_CA  team_US  \\\n",
       "0                          0                          0        0        1   \n",
       "1                          0                          0        0        1   \n",
       "2                          0                          0        0        1   \n",
       "3                          0                          0        0        1   \n",
       "4                          0                          0        0        1   \n",
       "\n",
       "   roll_up_Onboarding  roll_up_Retention  roll_up_Unmanaged  \\\n",
       "0                   1                  0                  0   \n",
       "1                   1                  0                  0   \n",
       "2                   1                  0                  0   \n",
       "3                   1                  0                  0   \n",
       "4                   1                  0                  0   \n",
       "\n",
       "   companytypegroup_Business  companytypegroup_Trade  \n",
       "0                          1                       0  \n",
       "1                          1                       0  \n",
       "2                          1                       0  \n",
       "3                          1                       0  \n",
       "4                          1                       0  \n",
       "\n",
       "[5 rows x 213 columns]"
      ]
     },
     "execution_count": 517,
     "metadata": {},
     "output_type": "execute_result"
    }
   ],
   "source": [
    "X_reg.head()"
   ]
  },
  {
   "cell_type": "code",
   "execution_count": 518,
   "metadata": {},
   "outputs": [
    {
     "ename": "ValueError",
     "evalue": "cannot insert convert_30, already exists",
     "output_type": "error",
     "traceback": [
      "\u001b[1;31m---------------------------------------------------------------------------\u001b[0m",
      "\u001b[1;31mValueError\u001b[0m                                Traceback (most recent call last)",
      "\u001b[1;32m<ipython-input-518-0b95e0e8569c>\u001b[0m in \u001b[0;36m<module>\u001b[1;34m()\u001b[0m\n\u001b[1;32m----> 1\u001b[1;33m \u001b[0mfinal_data\u001b[0m\u001b[1;33m.\u001b[0m\u001b[0minsert\u001b[0m\u001b[1;33m(\u001b[0m\u001b[1;36m2\u001b[0m\u001b[1;33m,\u001b[0m\u001b[1;34m\"convert_30\"\u001b[0m\u001b[1;33m,\u001b[0m\u001b[0mclasspredicts\u001b[0m\u001b[1;33m)\u001b[0m\u001b[1;33m\u001b[0m\u001b[0m\n\u001b[0m",
      "\u001b[1;32mD:\\Anaconda\\ana\\lib\\site-packages\\pandas\\core\\frame.py\u001b[0m in \u001b[0;36minsert\u001b[1;34m(self, loc, column, value, allow_duplicates)\u001b[0m\n\u001b[0;32m   2611\u001b[0m         \u001b[0mvalue\u001b[0m \u001b[1;33m=\u001b[0m \u001b[0mself\u001b[0m\u001b[1;33m.\u001b[0m\u001b[0m_sanitize_column\u001b[0m\u001b[1;33m(\u001b[0m\u001b[0mcolumn\u001b[0m\u001b[1;33m,\u001b[0m \u001b[0mvalue\u001b[0m\u001b[1;33m,\u001b[0m \u001b[0mbroadcast\u001b[0m\u001b[1;33m=\u001b[0m\u001b[1;32mFalse\u001b[0m\u001b[1;33m)\u001b[0m\u001b[1;33m\u001b[0m\u001b[0m\n\u001b[0;32m   2612\u001b[0m         self._data.insert(loc, column, value,\n\u001b[1;32m-> 2613\u001b[1;33m                           allow_duplicates=allow_duplicates)\n\u001b[0m\u001b[0;32m   2614\u001b[0m \u001b[1;33m\u001b[0m\u001b[0m\n\u001b[0;32m   2615\u001b[0m     \u001b[1;32mdef\u001b[0m \u001b[0massign\u001b[0m\u001b[1;33m(\u001b[0m\u001b[0mself\u001b[0m\u001b[1;33m,\u001b[0m \u001b[1;33m**\u001b[0m\u001b[0mkwargs\u001b[0m\u001b[1;33m)\u001b[0m\u001b[1;33m:\u001b[0m\u001b[1;33m\u001b[0m\u001b[0m\n",
      "\u001b[1;32mD:\\Anaconda\\ana\\lib\\site-packages\\pandas\\core\\internals.py\u001b[0m in \u001b[0;36minsert\u001b[1;34m(self, loc, item, value, allow_duplicates)\u001b[0m\n\u001b[0;32m   4061\u001b[0m         \u001b[1;32mif\u001b[0m \u001b[1;32mnot\u001b[0m \u001b[0mallow_duplicates\u001b[0m \u001b[1;32mand\u001b[0m \u001b[0mitem\u001b[0m \u001b[1;32min\u001b[0m \u001b[0mself\u001b[0m\u001b[1;33m.\u001b[0m\u001b[0mitems\u001b[0m\u001b[1;33m:\u001b[0m\u001b[1;33m\u001b[0m\u001b[0m\n\u001b[0;32m   4062\u001b[0m             \u001b[1;31m# Should this be a different kind of error??\u001b[0m\u001b[1;33m\u001b[0m\u001b[1;33m\u001b[0m\u001b[0m\n\u001b[1;32m-> 4063\u001b[1;33m             \u001b[1;32mraise\u001b[0m \u001b[0mValueError\u001b[0m\u001b[1;33m(\u001b[0m\u001b[1;34m'cannot insert {}, already exists'\u001b[0m\u001b[1;33m.\u001b[0m\u001b[0mformat\u001b[0m\u001b[1;33m(\u001b[0m\u001b[0mitem\u001b[0m\u001b[1;33m)\u001b[0m\u001b[1;33m)\u001b[0m\u001b[1;33m\u001b[0m\u001b[0m\n\u001b[0m\u001b[0;32m   4064\u001b[0m \u001b[1;33m\u001b[0m\u001b[0m\n\u001b[0;32m   4065\u001b[0m         \u001b[1;32mif\u001b[0m \u001b[1;32mnot\u001b[0m \u001b[0misinstance\u001b[0m\u001b[1;33m(\u001b[0m\u001b[0mloc\u001b[0m\u001b[1;33m,\u001b[0m \u001b[0mint\u001b[0m\u001b[1;33m)\u001b[0m\u001b[1;33m:\u001b[0m\u001b[1;33m\u001b[0m\u001b[0m\n",
      "\u001b[1;31mValueError\u001b[0m: cannot insert convert_30, already exists"
     ]
    }
   ],
   "source": [
    "final_data.insert(2,\"convert_30\",classpredicts)"
   ]
  },
  {
   "cell_type": "code",
   "execution_count": 519,
   "metadata": {},
   "outputs": [
    {
     "data": {
      "text/html": [
       "<div>\n",
       "<style scoped>\n",
       "    .dataframe tbody tr th:only-of-type {\n",
       "        vertical-align: middle;\n",
       "    }\n",
       "\n",
       "    .dataframe tbody tr th {\n",
       "        vertical-align: top;\n",
       "    }\n",
       "\n",
       "    .dataframe thead th {\n",
       "        text-align: right;\n",
       "    }\n",
       "</style>\n",
       "<table border=\"1\" class=\"dataframe\">\n",
       "  <thead>\n",
       "    <tr style=\"text-align: right;\">\n",
       "      <th></th>\n",
       "      <th>Unnamed: 0</th>\n",
       "      <th>cuid</th>\n",
       "      <th>convert_30</th>\n",
       "      <th>num_employees</th>\n",
       "      <th>num_purchases_year</th>\n",
       "      <th>cost_purchases_year</th>\n",
       "      <th>numorderone</th>\n",
       "      <th>numorderthreeone</th>\n",
       "      <th>numorderseventhree</th>\n",
       "      <th>numorderthirtyseven</th>\n",
       "      <th>...</th>\n",
       "      <th>currentstatus_Enrolled</th>\n",
       "      <th>currentstatus_In Progress</th>\n",
       "      <th>currentstatus_Inactive</th>\n",
       "      <th>team_CA</th>\n",
       "      <th>team_US</th>\n",
       "      <th>roll_up_Onboarding</th>\n",
       "      <th>roll_up_Retention</th>\n",
       "      <th>roll_up_Unmanaged</th>\n",
       "      <th>companytypegroup_Business</th>\n",
       "      <th>companytypegroup_Trade</th>\n",
       "    </tr>\n",
       "  </thead>\n",
       "  <tbody>\n",
       "    <tr>\n",
       "      <th>0</th>\n",
       "      <td>0</td>\n",
       "      <td>16838</td>\n",
       "      <td>0</td>\n",
       "      <td>1</td>\n",
       "      <td>1</td>\n",
       "      <td>1</td>\n",
       "      <td>0.022367</td>\n",
       "      <td>0.037827</td>\n",
       "      <td>0.078231</td>\n",
       "      <td>0.336425</td>\n",
       "      <td>...</td>\n",
       "      <td>1</td>\n",
       "      <td>0</td>\n",
       "      <td>0</td>\n",
       "      <td>0</td>\n",
       "      <td>1</td>\n",
       "      <td>1</td>\n",
       "      <td>0</td>\n",
       "      <td>0</td>\n",
       "      <td>1</td>\n",
       "      <td>0</td>\n",
       "    </tr>\n",
       "    <tr>\n",
       "      <th>1</th>\n",
       "      <td>1</td>\n",
       "      <td>532175</td>\n",
       "      <td>0</td>\n",
       "      <td>3</td>\n",
       "      <td>0</td>\n",
       "      <td>0</td>\n",
       "      <td>0.022367</td>\n",
       "      <td>0.037827</td>\n",
       "      <td>0.078231</td>\n",
       "      <td>0.336425</td>\n",
       "      <td>...</td>\n",
       "      <td>1</td>\n",
       "      <td>0</td>\n",
       "      <td>0</td>\n",
       "      <td>0</td>\n",
       "      <td>1</td>\n",
       "      <td>1</td>\n",
       "      <td>0</td>\n",
       "      <td>0</td>\n",
       "      <td>1</td>\n",
       "      <td>0</td>\n",
       "    </tr>\n",
       "    <tr>\n",
       "      <th>2</th>\n",
       "      <td>2</td>\n",
       "      <td>532176</td>\n",
       "      <td>0</td>\n",
       "      <td>4</td>\n",
       "      <td>2</td>\n",
       "      <td>2</td>\n",
       "      <td>0.022367</td>\n",
       "      <td>0.037827</td>\n",
       "      <td>0.078231</td>\n",
       "      <td>0.336425</td>\n",
       "      <td>...</td>\n",
       "      <td>1</td>\n",
       "      <td>0</td>\n",
       "      <td>0</td>\n",
       "      <td>0</td>\n",
       "      <td>1</td>\n",
       "      <td>1</td>\n",
       "      <td>0</td>\n",
       "      <td>0</td>\n",
       "      <td>1</td>\n",
       "      <td>0</td>\n",
       "    </tr>\n",
       "    <tr>\n",
       "      <th>3</th>\n",
       "      <td>3</td>\n",
       "      <td>532187</td>\n",
       "      <td>0</td>\n",
       "      <td>0</td>\n",
       "      <td>0</td>\n",
       "      <td>0</td>\n",
       "      <td>0.022367</td>\n",
       "      <td>0.037827</td>\n",
       "      <td>0.078231</td>\n",
       "      <td>0.336425</td>\n",
       "      <td>...</td>\n",
       "      <td>1</td>\n",
       "      <td>0</td>\n",
       "      <td>0</td>\n",
       "      <td>0</td>\n",
       "      <td>1</td>\n",
       "      <td>1</td>\n",
       "      <td>0</td>\n",
       "      <td>0</td>\n",
       "      <td>1</td>\n",
       "      <td>0</td>\n",
       "    </tr>\n",
       "    <tr>\n",
       "      <th>4</th>\n",
       "      <td>4</td>\n",
       "      <td>16938</td>\n",
       "      <td>0</td>\n",
       "      <td>0</td>\n",
       "      <td>0</td>\n",
       "      <td>0</td>\n",
       "      <td>0.022367</td>\n",
       "      <td>0.037827</td>\n",
       "      <td>0.078231</td>\n",
       "      <td>0.336425</td>\n",
       "      <td>...</td>\n",
       "      <td>1</td>\n",
       "      <td>0</td>\n",
       "      <td>0</td>\n",
       "      <td>0</td>\n",
       "      <td>1</td>\n",
       "      <td>1</td>\n",
       "      <td>0</td>\n",
       "      <td>0</td>\n",
       "      <td>0</td>\n",
       "      <td>1</td>\n",
       "    </tr>\n",
       "  </tbody>\n",
       "</table>\n",
       "<p>5 rows × 213 columns</p>\n",
       "</div>"
      ],
      "text/plain": [
       "   Unnamed: 0    cuid  convert_30  num_employees  num_purchases_year  \\\n",
       "0           0   16838           0              1                   1   \n",
       "1           1  532175           0              3                   0   \n",
       "2           2  532176           0              4                   2   \n",
       "3           3  532187           0              0                   0   \n",
       "4           4   16938           0              0                   0   \n",
       "\n",
       "   cost_purchases_year  numorderone  numorderthreeone  numorderseventhree  \\\n",
       "0                    1     0.022367          0.037827            0.078231   \n",
       "1                    0     0.022367          0.037827            0.078231   \n",
       "2                    2     0.022367          0.037827            0.078231   \n",
       "3                    0     0.022367          0.037827            0.078231   \n",
       "4                    0     0.022367          0.037827            0.078231   \n",
       "\n",
       "   numorderthirtyseven           ...            currentstatus_Enrolled  \\\n",
       "0             0.336425           ...                                 1   \n",
       "1             0.336425           ...                                 1   \n",
       "2             0.336425           ...                                 1   \n",
       "3             0.336425           ...                                 1   \n",
       "4             0.336425           ...                                 1   \n",
       "\n",
       "   currentstatus_In Progress  currentstatus_Inactive  team_CA  team_US  \\\n",
       "0                          0                       0        0        1   \n",
       "1                          0                       0        0        1   \n",
       "2                          0                       0        0        1   \n",
       "3                          0                       0        0        1   \n",
       "4                          0                       0        0        1   \n",
       "\n",
       "   roll_up_Onboarding  roll_up_Retention  roll_up_Unmanaged  \\\n",
       "0                   1                  0                  0   \n",
       "1                   1                  0                  0   \n",
       "2                   1                  0                  0   \n",
       "3                   1                  0                  0   \n",
       "4                   1                  0                  0   \n",
       "\n",
       "   companytypegroup_Business  companytypegroup_Trade  \n",
       "0                          1                       0  \n",
       "1                          1                       0  \n",
       "2                          1                       0  \n",
       "3                          1                       0  \n",
       "4                          0                       1  \n",
       "\n",
       "[5 rows x 213 columns]"
      ]
     },
     "execution_count": 519,
     "metadata": {},
     "output_type": "execute_result"
    }
   ],
   "source": [
    "final_data.head()"
   ]
  },
  {
   "cell_type": "code",
   "execution_count": null,
   "metadata": {},
   "outputs": [],
   "source": []
  },
  {
   "cell_type": "code",
   "execution_count": 520,
   "metadata": {},
   "outputs": [],
   "source": [
    "regpredicts = rf.predict(final_data)"
   ]
  },
  {
   "cell_type": "code",
   "execution_count": 521,
   "metadata": {},
   "outputs": [
    {
     "data": {
      "text/html": [
       "<div>\n",
       "<style scoped>\n",
       "    .dataframe tbody tr th:only-of-type {\n",
       "        vertical-align: middle;\n",
       "    }\n",
       "\n",
       "    .dataframe tbody tr th {\n",
       "        vertical-align: top;\n",
       "    }\n",
       "\n",
       "    .dataframe thead th {\n",
       "        text-align: right;\n",
       "    }\n",
       "</style>\n",
       "<table border=\"1\" class=\"dataframe\">\n",
       "  <thead>\n",
       "    <tr style=\"text-align: right;\">\n",
       "      <th></th>\n",
       "      <th>Unnamed: 0</th>\n",
       "      <th>cuid</th>\n",
       "      <th>convert_30</th>\n",
       "      <th>num_employees</th>\n",
       "      <th>num_purchases_year</th>\n",
       "      <th>cost_purchases_year</th>\n",
       "      <th>numorderone</th>\n",
       "      <th>numorderthreeone</th>\n",
       "      <th>numorderseventhree</th>\n",
       "      <th>numorderthirtyseven</th>\n",
       "      <th>...</th>\n",
       "      <th>currentstatus_Enrolled</th>\n",
       "      <th>currentstatus_In Progress</th>\n",
       "      <th>currentstatus_Inactive</th>\n",
       "      <th>team_CA</th>\n",
       "      <th>team_US</th>\n",
       "      <th>roll_up_Onboarding</th>\n",
       "      <th>roll_up_Retention</th>\n",
       "      <th>roll_up_Unmanaged</th>\n",
       "      <th>companytypegroup_Business</th>\n",
       "      <th>companytypegroup_Trade</th>\n",
       "    </tr>\n",
       "  </thead>\n",
       "  <tbody>\n",
       "    <tr>\n",
       "      <th>0</th>\n",
       "      <td>0</td>\n",
       "      <td>16838</td>\n",
       "      <td>0</td>\n",
       "      <td>1</td>\n",
       "      <td>1</td>\n",
       "      <td>1</td>\n",
       "      <td>0.022367</td>\n",
       "      <td>0.037827</td>\n",
       "      <td>0.078231</td>\n",
       "      <td>0.336425</td>\n",
       "      <td>...</td>\n",
       "      <td>1</td>\n",
       "      <td>0</td>\n",
       "      <td>0</td>\n",
       "      <td>0</td>\n",
       "      <td>1</td>\n",
       "      <td>1</td>\n",
       "      <td>0</td>\n",
       "      <td>0</td>\n",
       "      <td>1</td>\n",
       "      <td>0</td>\n",
       "    </tr>\n",
       "    <tr>\n",
       "      <th>1</th>\n",
       "      <td>1</td>\n",
       "      <td>532175</td>\n",
       "      <td>0</td>\n",
       "      <td>3</td>\n",
       "      <td>0</td>\n",
       "      <td>0</td>\n",
       "      <td>0.022367</td>\n",
       "      <td>0.037827</td>\n",
       "      <td>0.078231</td>\n",
       "      <td>0.336425</td>\n",
       "      <td>...</td>\n",
       "      <td>1</td>\n",
       "      <td>0</td>\n",
       "      <td>0</td>\n",
       "      <td>0</td>\n",
       "      <td>1</td>\n",
       "      <td>1</td>\n",
       "      <td>0</td>\n",
       "      <td>0</td>\n",
       "      <td>1</td>\n",
       "      <td>0</td>\n",
       "    </tr>\n",
       "    <tr>\n",
       "      <th>2</th>\n",
       "      <td>2</td>\n",
       "      <td>532176</td>\n",
       "      <td>0</td>\n",
       "      <td>4</td>\n",
       "      <td>2</td>\n",
       "      <td>2</td>\n",
       "      <td>0.022367</td>\n",
       "      <td>0.037827</td>\n",
       "      <td>0.078231</td>\n",
       "      <td>0.336425</td>\n",
       "      <td>...</td>\n",
       "      <td>1</td>\n",
       "      <td>0</td>\n",
       "      <td>0</td>\n",
       "      <td>0</td>\n",
       "      <td>1</td>\n",
       "      <td>1</td>\n",
       "      <td>0</td>\n",
       "      <td>0</td>\n",
       "      <td>1</td>\n",
       "      <td>0</td>\n",
       "    </tr>\n",
       "    <tr>\n",
       "      <th>3</th>\n",
       "      <td>3</td>\n",
       "      <td>532187</td>\n",
       "      <td>0</td>\n",
       "      <td>0</td>\n",
       "      <td>0</td>\n",
       "      <td>0</td>\n",
       "      <td>0.022367</td>\n",
       "      <td>0.037827</td>\n",
       "      <td>0.078231</td>\n",
       "      <td>0.336425</td>\n",
       "      <td>...</td>\n",
       "      <td>1</td>\n",
       "      <td>0</td>\n",
       "      <td>0</td>\n",
       "      <td>0</td>\n",
       "      <td>1</td>\n",
       "      <td>1</td>\n",
       "      <td>0</td>\n",
       "      <td>0</td>\n",
       "      <td>1</td>\n",
       "      <td>0</td>\n",
       "    </tr>\n",
       "    <tr>\n",
       "      <th>4</th>\n",
       "      <td>4</td>\n",
       "      <td>16938</td>\n",
       "      <td>0</td>\n",
       "      <td>0</td>\n",
       "      <td>0</td>\n",
       "      <td>0</td>\n",
       "      <td>0.022367</td>\n",
       "      <td>0.037827</td>\n",
       "      <td>0.078231</td>\n",
       "      <td>0.336425</td>\n",
       "      <td>...</td>\n",
       "      <td>1</td>\n",
       "      <td>0</td>\n",
       "      <td>0</td>\n",
       "      <td>0</td>\n",
       "      <td>1</td>\n",
       "      <td>1</td>\n",
       "      <td>0</td>\n",
       "      <td>0</td>\n",
       "      <td>0</td>\n",
       "      <td>1</td>\n",
       "    </tr>\n",
       "  </tbody>\n",
       "</table>\n",
       "<p>5 rows × 213 columns</p>\n",
       "</div>"
      ],
      "text/plain": [
       "   Unnamed: 0    cuid  convert_30  num_employees  num_purchases_year  \\\n",
       "0           0   16838           0              1                   1   \n",
       "1           1  532175           0              3                   0   \n",
       "2           2  532176           0              4                   2   \n",
       "3           3  532187           0              0                   0   \n",
       "4           4   16938           0              0                   0   \n",
       "\n",
       "   cost_purchases_year  numorderone  numorderthreeone  numorderseventhree  \\\n",
       "0                    1     0.022367          0.037827            0.078231   \n",
       "1                    0     0.022367          0.037827            0.078231   \n",
       "2                    2     0.022367          0.037827            0.078231   \n",
       "3                    0     0.022367          0.037827            0.078231   \n",
       "4                    0     0.022367          0.037827            0.078231   \n",
       "\n",
       "   numorderthirtyseven           ...            currentstatus_Enrolled  \\\n",
       "0             0.336425           ...                                 1   \n",
       "1             0.336425           ...                                 1   \n",
       "2             0.336425           ...                                 1   \n",
       "3             0.336425           ...                                 1   \n",
       "4             0.336425           ...                                 1   \n",
       "\n",
       "   currentstatus_In Progress  currentstatus_Inactive  team_CA  team_US  \\\n",
       "0                          0                       0        0        1   \n",
       "1                          0                       0        0        1   \n",
       "2                          0                       0        0        1   \n",
       "3                          0                       0        0        1   \n",
       "4                          0                       0        0        1   \n",
       "\n",
       "   roll_up_Onboarding  roll_up_Retention  roll_up_Unmanaged  \\\n",
       "0                   1                  0                  0   \n",
       "1                   1                  0                  0   \n",
       "2                   1                  0                  0   \n",
       "3                   1                  0                  0   \n",
       "4                   1                  0                  0   \n",
       "\n",
       "   companytypegroup_Business  companytypegroup_Trade  \n",
       "0                          1                       0  \n",
       "1                          1                       0  \n",
       "2                          1                       0  \n",
       "3                          1                       0  \n",
       "4                          0                       1  \n",
       "\n",
       "[5 rows x 213 columns]"
      ]
     },
     "execution_count": 521,
     "metadata": {},
     "output_type": "execute_result"
    }
   ],
   "source": [
    "final_data.head()"
   ]
  },
  {
   "cell_type": "code",
   "execution_count": 531,
   "metadata": {},
   "outputs": [],
   "source": [
    "cuid = final_data['cuid']"
   ]
  },
  {
   "cell_type": "code",
   "execution_count": 532,
   "metadata": {},
   "outputs": [],
   "source": [
    "final_submission = pd.DataFrame({'CuID':cuid,'pred_convert_30':classpredicts,'pred_revenue_30':regpredicts})"
   ]
  },
  {
   "cell_type": "code",
   "execution_count": 533,
   "metadata": {},
   "outputs": [
    {
     "data": {
      "text/html": [
       "<div>\n",
       "<style scoped>\n",
       "    .dataframe tbody tr th:only-of-type {\n",
       "        vertical-align: middle;\n",
       "    }\n",
       "\n",
       "    .dataframe tbody tr th {\n",
       "        vertical-align: top;\n",
       "    }\n",
       "\n",
       "    .dataframe thead th {\n",
       "        text-align: right;\n",
       "    }\n",
       "</style>\n",
       "<table border=\"1\" class=\"dataframe\">\n",
       "  <thead>\n",
       "    <tr style=\"text-align: right;\">\n",
       "      <th></th>\n",
       "      <th>CuID</th>\n",
       "      <th>pred_convert_30</th>\n",
       "      <th>pred_revenue_30</th>\n",
       "    </tr>\n",
       "  </thead>\n",
       "  <tbody>\n",
       "    <tr>\n",
       "      <th>0</th>\n",
       "      <td>16838</td>\n",
       "      <td>0</td>\n",
       "      <td>39.878800</td>\n",
       "    </tr>\n",
       "    <tr>\n",
       "      <th>1</th>\n",
       "      <td>532175</td>\n",
       "      <td>0</td>\n",
       "      <td>39.878800</td>\n",
       "    </tr>\n",
       "    <tr>\n",
       "      <th>2</th>\n",
       "      <td>532176</td>\n",
       "      <td>0</td>\n",
       "      <td>39.878800</td>\n",
       "    </tr>\n",
       "    <tr>\n",
       "      <th>3</th>\n",
       "      <td>532187</td>\n",
       "      <td>0</td>\n",
       "      <td>39.878800</td>\n",
       "    </tr>\n",
       "    <tr>\n",
       "      <th>4</th>\n",
       "      <td>16938</td>\n",
       "      <td>0</td>\n",
       "      <td>39.878800</td>\n",
       "    </tr>\n",
       "    <tr>\n",
       "      <th>5</th>\n",
       "      <td>532189</td>\n",
       "      <td>0</td>\n",
       "      <td>39.878800</td>\n",
       "    </tr>\n",
       "    <tr>\n",
       "      <th>6</th>\n",
       "      <td>16948</td>\n",
       "      <td>0</td>\n",
       "      <td>39.878800</td>\n",
       "    </tr>\n",
       "    <tr>\n",
       "      <th>7</th>\n",
       "      <td>532197</td>\n",
       "      <td>0</td>\n",
       "      <td>39.878800</td>\n",
       "    </tr>\n",
       "    <tr>\n",
       "      <th>8</th>\n",
       "      <td>17017</td>\n",
       "      <td>0</td>\n",
       "      <td>39.878800</td>\n",
       "    </tr>\n",
       "    <tr>\n",
       "      <th>9</th>\n",
       "      <td>17020</td>\n",
       "      <td>0</td>\n",
       "      <td>39.878800</td>\n",
       "    </tr>\n",
       "    <tr>\n",
       "      <th>10</th>\n",
       "      <td>532205</td>\n",
       "      <td>0</td>\n",
       "      <td>39.878800</td>\n",
       "    </tr>\n",
       "    <tr>\n",
       "      <th>11</th>\n",
       "      <td>532211</td>\n",
       "      <td>0</td>\n",
       "      <td>39.878800</td>\n",
       "    </tr>\n",
       "    <tr>\n",
       "      <th>12</th>\n",
       "      <td>17139</td>\n",
       "      <td>0</td>\n",
       "      <td>39.878800</td>\n",
       "    </tr>\n",
       "    <tr>\n",
       "      <th>13</th>\n",
       "      <td>17267</td>\n",
       "      <td>0</td>\n",
       "      <td>39.878800</td>\n",
       "    </tr>\n",
       "    <tr>\n",
       "      <th>14</th>\n",
       "      <td>532226</td>\n",
       "      <td>0</td>\n",
       "      <td>39.878800</td>\n",
       "    </tr>\n",
       "    <tr>\n",
       "      <th>15</th>\n",
       "      <td>17291</td>\n",
       "      <td>0</td>\n",
       "      <td>39.878800</td>\n",
       "    </tr>\n",
       "    <tr>\n",
       "      <th>16</th>\n",
       "      <td>17308</td>\n",
       "      <td>1</td>\n",
       "      <td>468.801679</td>\n",
       "    </tr>\n",
       "    <tr>\n",
       "      <th>17</th>\n",
       "      <td>532231</td>\n",
       "      <td>0</td>\n",
       "      <td>39.878800</td>\n",
       "    </tr>\n",
       "    <tr>\n",
       "      <th>18</th>\n",
       "      <td>17378</td>\n",
       "      <td>0</td>\n",
       "      <td>39.878800</td>\n",
       "    </tr>\n",
       "    <tr>\n",
       "      <th>19</th>\n",
       "      <td>17390</td>\n",
       "      <td>0</td>\n",
       "      <td>39.878800</td>\n",
       "    </tr>\n",
       "  </tbody>\n",
       "</table>\n",
       "</div>"
      ],
      "text/plain": [
       "      CuID  pred_convert_30  pred_revenue_30\n",
       "0    16838                0        39.878800\n",
       "1   532175                0        39.878800\n",
       "2   532176                0        39.878800\n",
       "3   532187                0        39.878800\n",
       "4    16938                0        39.878800\n",
       "5   532189                0        39.878800\n",
       "6    16948                0        39.878800\n",
       "7   532197                0        39.878800\n",
       "8    17017                0        39.878800\n",
       "9    17020                0        39.878800\n",
       "10  532205                0        39.878800\n",
       "11  532211                0        39.878800\n",
       "12   17139                0        39.878800\n",
       "13   17267                0        39.878800\n",
       "14  532226                0        39.878800\n",
       "15   17291                0        39.878800\n",
       "16   17308                1       468.801679\n",
       "17  532231                0        39.878800\n",
       "18   17378                0        39.878800\n",
       "19   17390                0        39.878800"
      ]
     },
     "execution_count": 533,
     "metadata": {},
     "output_type": "execute_result"
    }
   ],
   "source": [
    "final_submission.head(20)"
   ]
  },
  {
   "cell_type": "code",
   "execution_count": 534,
   "metadata": {},
   "outputs": [
    {
     "data": {
      "text/html": [
       "<div>\n",
       "<style scoped>\n",
       "    .dataframe tbody tr th:only-of-type {\n",
       "        vertical-align: middle;\n",
       "    }\n",
       "\n",
       "    .dataframe tbody tr th {\n",
       "        vertical-align: top;\n",
       "    }\n",
       "\n",
       "    .dataframe thead th {\n",
       "        text-align: right;\n",
       "    }\n",
       "</style>\n",
       "<table border=\"1\" class=\"dataframe\">\n",
       "  <thead>\n",
       "    <tr style=\"text-align: right;\">\n",
       "      <th></th>\n",
       "      <th>CuID</th>\n",
       "      <th>pred_convert_30</th>\n",
       "      <th>pred_revenue_30</th>\n",
       "    </tr>\n",
       "  </thead>\n",
       "  <tbody>\n",
       "    <tr>\n",
       "      <th>count</th>\n",
       "      <td>30375.000000</td>\n",
       "      <td>30375.000000</td>\n",
       "      <td>30375.000000</td>\n",
       "    </tr>\n",
       "    <tr>\n",
       "      <th>mean</th>\n",
       "      <td>292851.986173</td>\n",
       "      <td>0.011292</td>\n",
       "      <td>46.543951</td>\n",
       "    </tr>\n",
       "    <tr>\n",
       "      <th>std</th>\n",
       "      <td>169331.257016</td>\n",
       "      <td>0.105665</td>\n",
       "      <td>126.534631</td>\n",
       "    </tr>\n",
       "    <tr>\n",
       "      <th>min</th>\n",
       "      <td>4.000000</td>\n",
       "      <td>0.000000</td>\n",
       "      <td>39.878800</td>\n",
       "    </tr>\n",
       "    <tr>\n",
       "      <th>25%</th>\n",
       "      <td>146714.500000</td>\n",
       "      <td>0.000000</td>\n",
       "      <td>39.878800</td>\n",
       "    </tr>\n",
       "    <tr>\n",
       "      <th>50%</th>\n",
       "      <td>293176.000000</td>\n",
       "      <td>0.000000</td>\n",
       "      <td>39.878800</td>\n",
       "    </tr>\n",
       "    <tr>\n",
       "      <th>75%</th>\n",
       "      <td>439250.000000</td>\n",
       "      <td>0.000000</td>\n",
       "      <td>39.878800</td>\n",
       "    </tr>\n",
       "    <tr>\n",
       "      <th>max</th>\n",
       "      <td>585781.000000</td>\n",
       "      <td>1.000000</td>\n",
       "      <td>11918.776243</td>\n",
       "    </tr>\n",
       "  </tbody>\n",
       "</table>\n",
       "</div>"
      ],
      "text/plain": [
       "                CuID  pred_convert_30  pred_revenue_30\n",
       "count   30375.000000     30375.000000     30375.000000\n",
       "mean   292851.986173         0.011292        46.543951\n",
       "std    169331.257016         0.105665       126.534631\n",
       "min         4.000000         0.000000        39.878800\n",
       "25%    146714.500000         0.000000        39.878800\n",
       "50%    293176.000000         0.000000        39.878800\n",
       "75%    439250.000000         0.000000        39.878800\n",
       "max    585781.000000         1.000000     11918.776243"
      ]
     },
     "execution_count": 534,
     "metadata": {},
     "output_type": "execute_result"
    }
   ],
   "source": [
    "final_submission.describe()"
   ]
  },
  {
   "cell_type": "markdown",
   "metadata": {},
   "source": [
    "# Challenge faced"
   ]
  },
  {
   "cell_type": "markdown",
   "metadata": {},
   "source": [
    "#### Change the minimum value to 0 since no conversion means no revenue"
   ]
  },
  {
   "cell_type": "code",
   "execution_count": 535,
   "metadata": {},
   "outputs": [
    {
     "data": {
      "text/plain": [
       "39.87879970818128"
      ]
     },
     "execution_count": 535,
     "metadata": {},
     "output_type": "execute_result"
    }
   ],
   "source": [
    "mini = final_submission['pred_revenue_30'].min()\n",
    "mini"
   ]
  },
  {
   "cell_type": "code",
   "execution_count": 537,
   "metadata": {},
   "outputs": [
    {
     "name": "stderr",
     "output_type": "stream",
     "text": [
      "D:\\Anaconda\\ana\\lib\\site-packages\\pandas\\core\\indexing.py:194: SettingWithCopyWarning: \n",
      "A value is trying to be set on a copy of a slice from a DataFrame\n",
      "\n",
      "See the caveats in the documentation: http://pandas.pydata.org/pandas-docs/stable/indexing.html#indexing-view-versus-copy\n",
      "  self._setitem_with_indexer(indexer, value)\n"
     ]
    }
   ],
   "source": [
    "final_submission['pred_revenue_30'].loc[(final_submission['pred_revenue_30'] == mini)] = 0"
   ]
  },
  {
   "cell_type": "code",
   "execution_count": 538,
   "metadata": {},
   "outputs": [
    {
     "data": {
      "text/html": [
       "<div>\n",
       "<style scoped>\n",
       "    .dataframe tbody tr th:only-of-type {\n",
       "        vertical-align: middle;\n",
       "    }\n",
       "\n",
       "    .dataframe tbody tr th {\n",
       "        vertical-align: top;\n",
       "    }\n",
       "\n",
       "    .dataframe thead th {\n",
       "        text-align: right;\n",
       "    }\n",
       "</style>\n",
       "<table border=\"1\" class=\"dataframe\">\n",
       "  <thead>\n",
       "    <tr style=\"text-align: right;\">\n",
       "      <th></th>\n",
       "      <th>CuID</th>\n",
       "      <th>pred_convert_30</th>\n",
       "      <th>pred_revenue_30</th>\n",
       "    </tr>\n",
       "  </thead>\n",
       "  <tbody>\n",
       "    <tr>\n",
       "      <th>0</th>\n",
       "      <td>16838</td>\n",
       "      <td>0</td>\n",
       "      <td>0.000000</td>\n",
       "    </tr>\n",
       "    <tr>\n",
       "      <th>1</th>\n",
       "      <td>532175</td>\n",
       "      <td>0</td>\n",
       "      <td>0.000000</td>\n",
       "    </tr>\n",
       "    <tr>\n",
       "      <th>2</th>\n",
       "      <td>532176</td>\n",
       "      <td>0</td>\n",
       "      <td>0.000000</td>\n",
       "    </tr>\n",
       "    <tr>\n",
       "      <th>3</th>\n",
       "      <td>532187</td>\n",
       "      <td>0</td>\n",
       "      <td>0.000000</td>\n",
       "    </tr>\n",
       "    <tr>\n",
       "      <th>4</th>\n",
       "      <td>16938</td>\n",
       "      <td>0</td>\n",
       "      <td>0.000000</td>\n",
       "    </tr>\n",
       "    <tr>\n",
       "      <th>5</th>\n",
       "      <td>532189</td>\n",
       "      <td>0</td>\n",
       "      <td>0.000000</td>\n",
       "    </tr>\n",
       "    <tr>\n",
       "      <th>6</th>\n",
       "      <td>16948</td>\n",
       "      <td>0</td>\n",
       "      <td>0.000000</td>\n",
       "    </tr>\n",
       "    <tr>\n",
       "      <th>7</th>\n",
       "      <td>532197</td>\n",
       "      <td>0</td>\n",
       "      <td>0.000000</td>\n",
       "    </tr>\n",
       "    <tr>\n",
       "      <th>8</th>\n",
       "      <td>17017</td>\n",
       "      <td>0</td>\n",
       "      <td>0.000000</td>\n",
       "    </tr>\n",
       "    <tr>\n",
       "      <th>9</th>\n",
       "      <td>17020</td>\n",
       "      <td>0</td>\n",
       "      <td>0.000000</td>\n",
       "    </tr>\n",
       "    <tr>\n",
       "      <th>10</th>\n",
       "      <td>532205</td>\n",
       "      <td>0</td>\n",
       "      <td>0.000000</td>\n",
       "    </tr>\n",
       "    <tr>\n",
       "      <th>11</th>\n",
       "      <td>532211</td>\n",
       "      <td>0</td>\n",
       "      <td>0.000000</td>\n",
       "    </tr>\n",
       "    <tr>\n",
       "      <th>12</th>\n",
       "      <td>17139</td>\n",
       "      <td>0</td>\n",
       "      <td>0.000000</td>\n",
       "    </tr>\n",
       "    <tr>\n",
       "      <th>13</th>\n",
       "      <td>17267</td>\n",
       "      <td>0</td>\n",
       "      <td>0.000000</td>\n",
       "    </tr>\n",
       "    <tr>\n",
       "      <th>14</th>\n",
       "      <td>532226</td>\n",
       "      <td>0</td>\n",
       "      <td>0.000000</td>\n",
       "    </tr>\n",
       "    <tr>\n",
       "      <th>15</th>\n",
       "      <td>17291</td>\n",
       "      <td>0</td>\n",
       "      <td>0.000000</td>\n",
       "    </tr>\n",
       "    <tr>\n",
       "      <th>16</th>\n",
       "      <td>17308</td>\n",
       "      <td>1</td>\n",
       "      <td>468.801679</td>\n",
       "    </tr>\n",
       "    <tr>\n",
       "      <th>17</th>\n",
       "      <td>532231</td>\n",
       "      <td>0</td>\n",
       "      <td>0.000000</td>\n",
       "    </tr>\n",
       "    <tr>\n",
       "      <th>18</th>\n",
       "      <td>17378</td>\n",
       "      <td>0</td>\n",
       "      <td>0.000000</td>\n",
       "    </tr>\n",
       "    <tr>\n",
       "      <th>19</th>\n",
       "      <td>17390</td>\n",
       "      <td>0</td>\n",
       "      <td>0.000000</td>\n",
       "    </tr>\n",
       "  </tbody>\n",
       "</table>\n",
       "</div>"
      ],
      "text/plain": [
       "      CuID  pred_convert_30  pred_revenue_30\n",
       "0    16838                0         0.000000\n",
       "1   532175                0         0.000000\n",
       "2   532176                0         0.000000\n",
       "3   532187                0         0.000000\n",
       "4    16938                0         0.000000\n",
       "5   532189                0         0.000000\n",
       "6    16948                0         0.000000\n",
       "7   532197                0         0.000000\n",
       "8    17017                0         0.000000\n",
       "9    17020                0         0.000000\n",
       "10  532205                0         0.000000\n",
       "11  532211                0         0.000000\n",
       "12   17139                0         0.000000\n",
       "13   17267                0         0.000000\n",
       "14  532226                0         0.000000\n",
       "15   17291                0         0.000000\n",
       "16   17308                1       468.801679\n",
       "17  532231                0         0.000000\n",
       "18   17378                0         0.000000\n",
       "19   17390                0         0.000000"
      ]
     },
     "execution_count": 538,
     "metadata": {},
     "output_type": "execute_result"
    }
   ],
   "source": [
    "final_submission.head(20)"
   ]
  },
  {
   "cell_type": "code",
   "execution_count": 539,
   "metadata": {},
   "outputs": [
    {
     "data": {
      "text/html": [
       "<div>\n",
       "<style scoped>\n",
       "    .dataframe tbody tr th:only-of-type {\n",
       "        vertical-align: middle;\n",
       "    }\n",
       "\n",
       "    .dataframe tbody tr th {\n",
       "        vertical-align: top;\n",
       "    }\n",
       "\n",
       "    .dataframe thead th {\n",
       "        text-align: right;\n",
       "    }\n",
       "</style>\n",
       "<table border=\"1\" class=\"dataframe\">\n",
       "  <thead>\n",
       "    <tr style=\"text-align: right;\">\n",
       "      <th></th>\n",
       "      <th>CuID</th>\n",
       "      <th>pred_convert_30</th>\n",
       "      <th>pred_revenue_30</th>\n",
       "    </tr>\n",
       "  </thead>\n",
       "  <tbody>\n",
       "    <tr>\n",
       "      <th>count</th>\n",
       "      <td>30375.000000</td>\n",
       "      <td>30375.000000</td>\n",
       "      <td>30375.000000</td>\n",
       "    </tr>\n",
       "    <tr>\n",
       "      <th>mean</th>\n",
       "      <td>292851.986173</td>\n",
       "      <td>0.011292</td>\n",
       "      <td>7.115470</td>\n",
       "    </tr>\n",
       "    <tr>\n",
       "      <th>std</th>\n",
       "      <td>169331.257016</td>\n",
       "      <td>0.105665</td>\n",
       "      <td>128.663824</td>\n",
       "    </tr>\n",
       "    <tr>\n",
       "      <th>min</th>\n",
       "      <td>4.000000</td>\n",
       "      <td>0.000000</td>\n",
       "      <td>0.000000</td>\n",
       "    </tr>\n",
       "    <tr>\n",
       "      <th>25%</th>\n",
       "      <td>146714.500000</td>\n",
       "      <td>0.000000</td>\n",
       "      <td>0.000000</td>\n",
       "    </tr>\n",
       "    <tr>\n",
       "      <th>50%</th>\n",
       "      <td>293176.000000</td>\n",
       "      <td>0.000000</td>\n",
       "      <td>0.000000</td>\n",
       "    </tr>\n",
       "    <tr>\n",
       "      <th>75%</th>\n",
       "      <td>439250.000000</td>\n",
       "      <td>0.000000</td>\n",
       "      <td>0.000000</td>\n",
       "    </tr>\n",
       "    <tr>\n",
       "      <th>max</th>\n",
       "      <td>585781.000000</td>\n",
       "      <td>1.000000</td>\n",
       "      <td>11918.776243</td>\n",
       "    </tr>\n",
       "  </tbody>\n",
       "</table>\n",
       "</div>"
      ],
      "text/plain": [
       "                CuID  pred_convert_30  pred_revenue_30\n",
       "count   30375.000000     30375.000000     30375.000000\n",
       "mean   292851.986173         0.011292         7.115470\n",
       "std    169331.257016         0.105665       128.663824\n",
       "min         4.000000         0.000000         0.000000\n",
       "25%    146714.500000         0.000000         0.000000\n",
       "50%    293176.000000         0.000000         0.000000\n",
       "75%    439250.000000         0.000000         0.000000\n",
       "max    585781.000000         1.000000     11918.776243"
      ]
     },
     "execution_count": 539,
     "metadata": {},
     "output_type": "execute_result"
    }
   ],
   "source": [
    "final_submission.describe()"
   ]
  },
  {
   "cell_type": "code",
   "execution_count": 541,
   "metadata": {},
   "outputs": [],
   "source": [
    "final_submission.to_csv('Wayfair_Competition_Submission.csv',index=False)"
   ]
  }
 ],
 "metadata": {
  "kernelspec": {
   "display_name": "Python 3",
   "language": "python",
   "name": "python3"
  },
  "language_info": {
   "codemirror_mode": {
    "name": "ipython",
    "version": 3
   },
   "file_extension": ".py",
   "mimetype": "text/x-python",
   "name": "python",
   "nbconvert_exporter": "python",
   "pygments_lexer": "ipython3",
   "version": "3.5.6"
  }
 },
 "nbformat": 4,
 "nbformat_minor": 2
}
